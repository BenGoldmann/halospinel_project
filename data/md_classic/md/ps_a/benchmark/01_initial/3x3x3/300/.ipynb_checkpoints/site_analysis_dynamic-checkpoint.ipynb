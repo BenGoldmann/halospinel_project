{
 "cells": [
  {
   "cell_type": "code",
   "execution_count": 1,
   "id": "ea03e390",
   "metadata": {},
   "outputs": [],
   "source": [
    "import numpy as np"
   ]
  },
  {
   "cell_type": "markdown",
   "id": "89c7bfb8-0167-4252-8199-c634f3638974",
   "metadata": {},
   "source": [
    "# Create sites"
   ]
  },
  {
   "cell_type": "code",
   "execution_count": 2,
   "id": "06290163",
   "metadata": {},
   "outputs": [
    {
     "name": "stderr",
     "output_type": "stream",
     "text": [
      "/Users/goldmann/opt/anaconda3/lib/python3.9/site-packages/pymatgen/core/__init__.py:49: UserWarning: Error loading .pmgrc.yaml: [Errno 2] No such file or directory: '/Users/goldmann/.pmgrc.yaml'. You may need to reconfigure your yaml file.\n",
      "  warnings.warn(f\"Error loading .pmgrc.yaml: {ex}. You may need to reconfigure your yaml file.\")\n"
     ]
    }
   ],
   "source": [
    "from pymatgen.symmetry.groups import SpaceGroup\n",
    "from pymatgen.core import Structure, Lattice\n",
    "sg = SpaceGroup('Fd-3m:2')\n",
    "all_li_structure = Structure.from_file('all_li_structure.cif')"
   ]
  },
  {
   "cell_type": "code",
   "execution_count": 3,
   "id": "2d86d42c",
   "metadata": {},
   "outputs": [],
   "source": [
    "lattice = all_li_structure.lattice\n",
    "li1 = Structure.from_spacegroup(sg='Fd-3m:2', lattice = lattice, species=['Li'], coords=[[0.125, 0.125, 0.125]])\n",
    "li2 = Structure.from_spacegroup(sg='Fd-3m:2', lattice = lattice, species=['Li'], coords=[[0.000, 0.000, 0.000]])\n",
    "li3 = Structure.from_spacegroup(sg='Fd-3m:2', lattice = lattice, species=['Li'], coords=[[0.125, 0.125, 0.875]])\n",
    "li4 = Structure.from_spacegroup(sg='Fd-3m:2', lattice = lattice, species=['Li'], coords=[[0.500, 0.500, 0.500]])\n",
    "li5 = Structure.from_spacegroup(sg='Fd-3m:2', lattice = lattice, species=['Li'], coords=[[0.125, 0.125, 0.625]])\n",
    "li_structures = {'Li1': li1,\n",
    "                 'Li2': li2,\n",
    "                 'Li3': li3,\n",
    "                 'Li4': li4,\n",
    "                 'Li5': li5}\n",
    "for strc in li_structures.values():\n",
    "    strc.make_supercell([3,3,3])"
   ]
  },
  {
   "cell_type": "code",
   "execution_count": 4,
   "id": "890780c8",
   "metadata": {},
   "outputs": [],
   "source": [
    "from site_analysis.voronoi_site import VoronoiSite\n",
    "li1_sites = [VoronoiSite(s.frac_coords, label='Li1') for s in li1]\n",
    "li2_sites = [VoronoiSite(s.frac_coords, label='Li2') for s in li2]\n",
    "li3_sites = [VoronoiSite(s.frac_coords, label='Li3') for s in li3]\n",
    "li4_sites = [VoronoiSite(s.frac_coords, label='Li4') for s in li4]\n",
    "li5_sites = [VoronoiSite(s.frac_coords, label='Li5') for s in li5]\n",
    "sites = li1_sites + li2_sites + li3_sites + li4_sites + li5_sites"
   ]
  },
  {
   "cell_type": "markdown",
   "id": "b2163b7d-3eec-4855-9843-e936d23cbcdd",
   "metadata": {},
   "source": [
    "# Create atoms and initial frame"
   ]
  },
  {
   "cell_type": "code",
   "execution_count": 5,
   "id": "ce15be53",
   "metadata": {},
   "outputs": [
    {
     "name": "stdout",
     "output_type": "stream",
     "text": [
      "Li459 Sc135 Cl864\n"
     ]
    },
    {
     "data": {
      "text/plain": [
       "[site_analysis.Atom(index=0, in_site=None, frac_coords=None),\n",
       " site_analysis.Atom(index=1, in_site=None, frac_coords=None),\n",
       " site_analysis.Atom(index=2, in_site=None, frac_coords=None)]"
      ]
     },
     "execution_count": 5,
     "metadata": {},
     "output_type": "execute_result"
    }
   ],
   "source": [
    "structure = Structure.from_file('structures/structure_100000.cif')\n",
    "print(structure.composition)\n",
    "# create Atom objects\n",
    "from site_analysis.atom import atoms_from_species_string\n",
    "atoms = atoms_from_species_string(structure, 'Li')\n",
    "atoms[0:3]"
   ]
  },
  {
   "cell_type": "code",
   "execution_count": 6,
   "id": "600e74af",
   "metadata": {},
   "outputs": [
    {
     "data": {
      "text/plain": [
       "<site_analysis.trajectory.Trajectory at 0x7f9c78bbd640>"
      ]
     },
     "execution_count": 6,
     "metadata": {},
     "output_type": "execute_result"
    }
   ],
   "source": [
    "from site_analysis.trajectory import Trajectory\n",
    "trajectory = Trajectory(sites = sites, atoms = atoms)\n",
    "trajectory"
   ]
  },
  {
   "cell_type": "code",
   "execution_count": 7,
   "id": "2634d429",
   "metadata": {},
   "outputs": [],
   "source": [
    "trajectory.analyse_structure(structure)"
   ]
  },
  {
   "cell_type": "code",
   "execution_count": 8,
   "id": "87fe6c94",
   "metadata": {},
   "outputs": [
    {
     "data": {
      "text/plain": [
       "array([ 727, 1756, 1554,  116, 1256, 1405,  978, 1006,  306, 1478, 2351,\n",
       "        409, 1736, 2467,  235, 1727, 1288, 1684, 2147, 1083, 2428, 1336,\n",
       "       1087,  419, 1299, 2542,  554,  346, 1897, 2134, 1050,  548, 1562,\n",
       "        742, 1771,  124, 1571,  883, 1482, 1880, 1506, 1782, 1178, 1433,\n",
       "        529,  585, 1108, 1464,  776, 1482, 1813, 2408,  132, 2195,  984,\n",
       "        883, 1864, 2334,  417, 1238, 2067, 1125,  167, 1452, 1003, 1489,\n",
       "        204,  552, 1764, 1300, 1402, 1831,  629, 2411, 2534, 2349, 2131,\n",
       "       1329, 2167, 2432,  747, 2471, 2008, 1371, 1613, 1459, 2499,  446,\n",
       "        234, 1175, 1800, 1148, 1829, 1470, 1518, 1138,  628,  654, 1939,\n",
       "       1859, 1497, 1653, 1042, 1541, 2073, 1826, 2281, 1629, 1281, 1363,\n",
       "        750, 1798, 1714,  874,  313, 1056,  804, 1026,  530, 1285,  827,\n",
       "        516, 1525,  622, 1153, 2083,  560,  423, 2474, 2226, 1235, 1868,\n",
       "        835, 1085,  850, 2358,  956, 1666, 1640, 1351,  145, 2030, 1309,\n",
       "       1200, 1708,  508,  325,  251,  627,  839, 1294, 2183,  678, 1435,\n",
       "       1005,  457,  791, 1199, 2454, 1238, 1602, 1048, 1012,  754, 2407,\n",
       "        807, 1652,  401, 1855,  623,   90, 1792, 1540,  977, 1354, 1853,\n",
       "       1404, 2579, 1623,  927, 1086, 2359,   66,  845, 1381, 1332,  611,\n",
       "       2009,  999, 1335,  226, 1558, 1368, 2201,   47, 1749, 1039,  226,\n",
       "       1848,  916,  341, 1167, 2232, 1760, 2362, 2400, 1503, 2300,   93,\n",
       "       1067, 2101, 2580,  449,  140, 2548,  689,  234, 1767, 1533,  785,\n",
       "        113,  873, 1135, 1348,  717,  482, 2531, 1100, 2507, 1324, 1136,\n",
       "       1599, 1221,   36,  972, 1968, 2562, 1962, 2419, 1293, 1793,  660,\n",
       "       2244,  130,  492, 2231,  565, 2440, 1815,   52, 1728, 2171, 2402,\n",
       "       1880,  853, 1611, 2418,  527,  370, 1472,  840,  326, 1586, 2344,\n",
       "        175, 2377,  761,  791, 1212, 1887,  892, 1183, 2033, 1423,  988,\n",
       "        706,  479,  164, 2049, 1288,  428, 1936, 1338, 1236, 1916,  157,\n",
       "       1019, 2547, 2312, 1916,  899,   43,  923,   82,  405,  168,   91,\n",
       "        320, 2146,  191, 2115,  924,  164,  262,  711,  310,   21,  897,\n",
       "       1199, 1478, 1808, 1290, 2259, 1995, 1109, 1117, 1837,  899,  983,\n",
       "       1543, 1995, 2206, 1942, 1538,  979, 1173, 1992, 1869,  902, 2087,\n",
       "        195,  615,  852, 2012, 1638, 2272, 1532, 2069, 2081,   25, 1137,\n",
       "       2309, 2422,  212, 1749,  473,  575, 2363,  958, 1196, 2174, 1345,\n",
       "       1990,  314,   95, 1886, 1208,   26,  538, 1244, 1000,  504, 2464,\n",
       "       2095, 2147, 2429,  669, 1060, 1670, 1620, 2463,  969, 2393,  443,\n",
       "        909,  911, 1078, 1446, 1683, 1682,  281, 1463, 1950, 1705, 1535,\n",
       "         17, 1995, 1514, 1194,  101,  931, 2409,  544, 1889, 1919,  338,\n",
       "       2321,  185, 1961,  804, 2121,  401,   13,  893,  992,  983, 1036,\n",
       "        725, 1226, 2304,  723, 2462, 2037, 1767, 1327, 1673, 1041, 2549,\n",
       "       2336, 1005, 2164, 2359,  523,  535, 2452, 1114,  167,   64,   31,\n",
       "        853, 1849,  565,  948,  896, 2520,  177,  358,  797, 2218, 1598,\n",
       "        633, 1594,  151, 1799,   57,  513, 1282,  898,  975, 1720, 1000,\n",
       "       1569, 1192,  674,  305, 1892,  312, 1532, 2055])"
      ]
     },
     "execution_count": 8,
     "metadata": {},
     "output_type": "execute_result"
    }
   ],
   "source": [
    "np.array(trajectory.atom_sites)"
   ]
  },
  {
   "cell_type": "markdown",
   "id": "438e4fc3-87cf-4d6f-9027-2f7b8f0459c6",
   "metadata": {},
   "source": [
    "# Add another frame and analyse"
   ]
  },
  {
   "cell_type": "code",
   "execution_count": 25,
   "id": "4adcd3eb-bf88-4345-b0ad-4d132457f568",
   "metadata": {},
   "outputs": [],
   "source": [
    "import glob\n",
    "\n",
    "structures = glob.glob('structures/*.cif')\n",
    "\n",
    "trajectory.reset()\n",
    "\n",
    "for s in structures[:1]:\n",
    "    time_ = s[-10:]\n",
    "    time = time_[:-4]\n",
    "    time_int = int(time)\n",
    "    strc = Structure.from_file(s)\n",
    "    trajectory.append_timestep(strc, t=time_int)"
   ]
  },
  {
   "cell_type": "code",
   "execution_count": 26,
   "id": "40955f70-128b-4dac-bd14-0745ab7ae57e",
   "metadata": {},
   "outputs": [
    {
     "name": "stdout",
     "output_type": "stream",
     "text": [
      "Li1 1.2222222222222223\n",
      "Li2 2.074074074074074\n",
      "Li3 8.481481481481481\n",
      "Li4 2.111111111111111\n",
      "Li5 1.5185185185185186\n"
     ]
    }
   ],
   "source": [
    "from collections import Counter\n",
    "c = Counter()\n",
    "for site in trajectory.sites:\n",
    "    c[site.label] += len([1 for ts in site.trajectory if len(ts)>0])\n",
    "for k, v in c.items():\n",
    "    print(k, (v/len(trajectory))/27)"
   ]
  },
  {
   "cell_type": "code",
   "execution_count": 9,
   "id": "4455fedd-ce2b-469b-a234-bcdffeaf65b9",
   "metadata": {},
   "outputs": [],
   "source": [
    "traj = 'structures/structure_100000.cif'"
   ]
  },
  {
   "cell_type": "code",
   "execution_count": 12,
   "id": "e4dd6f40-2416-4160-9483-265746d5abb0",
   "metadata": {},
   "outputs": [],
   "source": [
    "traj2 = traj[-10:]"
   ]
  },
  {
   "cell_type": "code",
   "execution_count": 14,
   "id": "7a0d8753-f411-4485-871b-fa0e2e193d8c",
   "metadata": {},
   "outputs": [],
   "source": [
    "traj3 = traj2[:-4]"
   ]
  },
  {
   "cell_type": "code",
   "execution_count": 15,
   "id": "1d0aafe0-40fc-412e-a2bd-fa65986e5c17",
   "metadata": {},
   "outputs": [
    {
     "data": {
      "text/plain": [
       "'100000'"
      ]
     },
     "execution_count": 15,
     "metadata": {},
     "output_type": "execute_result"
    }
   ],
   "source": [
    "traj3"
   ]
  },
  {
   "cell_type": "code",
   "execution_count": 29,
   "id": "2f9c480a-8245-4048-89f9-e68c1348bd64",
   "metadata": {},
   "outputs": [],
   "source": [
    "structures.sort()"
   ]
  },
  {
   "cell_type": "raw",
   "id": "8b353c6e-a40a-44b9-83e8-efb0ca2171bb",
   "metadata": {},
   "source": [
    "structures"
   ]
  },
  {
   "cell_type": "code",
   "execution_count": null,
   "id": "d192ad1c-b1d6-4a30-8592-143a08fe887f",
   "metadata": {},
   "outputs": [],
   "source": []
  }
 ],
 "metadata": {
  "kernelspec": {
   "display_name": "Python 3 (ipykernel)",
   "language": "python",
   "name": "python3"
  },
  "language_info": {
   "codemirror_mode": {
    "name": "ipython",
    "version": 3
   },
   "file_extension": ".py",
   "mimetype": "text/x-python",
   "name": "python",
   "nbconvert_exporter": "python",
   "pygments_lexer": "ipython3",
   "version": "3.9.7"
  }
 },
 "nbformat": 4,
 "nbformat_minor": 5
}
