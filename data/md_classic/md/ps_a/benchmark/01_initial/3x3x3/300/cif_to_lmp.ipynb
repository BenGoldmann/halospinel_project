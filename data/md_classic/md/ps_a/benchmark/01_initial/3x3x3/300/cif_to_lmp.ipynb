{
 "cells": [
  {
   "cell_type": "code",
   "execution_count": 39,
   "id": "e30ea628-a777-49b7-8eb8-e7aa9e1cc968",
   "metadata": {},
   "outputs": [
    {
     "name": "stdout",
     "output_type": "stream",
     "text": [
      "1467\n"
     ]
    }
   ],
   "source": [
    "file = open(\"super_lammps.txt\", 'r')\n",
    "target = open(\"super.lmp\",'w')\n",
    "\n",
    "lines = file.readlines()\n",
    "print(len(lines))\n",
    "\n",
    "for l in lines[:9]:\n",
    "    target.write(l)\n",
    "          \n",
    "for l in lines[9:]:\n",
    "    data = l.split()\n",
    "    del data[1]\n",
    "    del data[1]\n",
    "    del data[4]\n",
    "    data[1] = float(data[1]) * 32.69622562003156\n",
    "    data[2] = float(data[2]) * 33.58975162614583\n",
    "    data[3] = float(data[3]) * 33.45292512420984\n",
    "    for d in data:\n",
    "        target.write(str(d))\n",
    "        target.write(' ')\n",
    "    target.write('\\n')"
   ]
  },
  {
   "cell_type": "code",
   "execution_count": 28,
   "id": "d5acacbf-456c-4bb1-9b28-d412acd76201",
   "metadata": {},
   "outputs": [],
   "source": [
    "import numpy as np\n",
    "\n",
    "bounds = np.array([[-1.0681139225750498e+00, 3.1768555640020178e+01, -3.4462023997898279e-02],\n",
    "[-1.4208058931420289e+00, 3.2264828496812072e+01, -1.0598191856576492e-01],\n",
    "[-1.2956563009725393e+00, 3.2156963481401696e+01, -9.5900442286863355e-02]])\n",
    "\n",
    "xy = bounds[0, 2]\n",
    "xz = bounds[1, 2]\n",
    "yz = bounds[2, 2]\n",
    "\n",
    "xlo = bounds[0, 0] - np.min([0.0, xy, xz, xy + xz])\n",
    "xhi = bounds[0, 1] - np.max([0.0, xy, xz, xy + xz])\n",
    "ylo = bounds[1, 0] - np.min([0.0, yz])\n",
    "yhi = bounds[1, 1] - np.max([0.0, yz])\n",
    "zlo = bounds[2, 0]\n",
    "zhi = bounds[2, 1]\n",
    "\n",
    "super_cell = np.array([[xhi - xlo, xy, xz], [0, yhi - ylo, yz], [0, 0, zhi - zlo]])"
   ]
  },
  {
   "cell_type": "code",
   "execution_count": 32,
   "id": "aa333ca8-95cf-4a97-9de6-05877316b3a0",
   "metadata": {},
   "outputs": [],
   "source": [
    "cell = super_cell.T"
   ]
  },
  {
   "cell_type": "code",
   "execution_count": 36,
   "id": "d099f518-02eb-4a07-8012-1293be6b81dc",
   "metadata": {},
   "outputs": [],
   "source": [
    "from pymatgen.core import Lattice\n",
    "\n",
    "lattice = Lattice(cell)"
   ]
  },
  {
   "cell_type": "code",
   "execution_count": 37,
   "id": "377dad59-95a4-444d-a831-9644b951438c",
   "metadata": {},
   "outputs": [
    {
     "data": {
      "text/plain": [
       "Lattice\n",
       "    abc : 32.69622562003156 33.58975162614583 33.45292512420984\n",
       " angles : 90.16406533000134 90.18151856000006 90.05878366999961\n",
       " volume : 36739.59122864591\n",
       "      A : 32.69622562003156 0.0 0.0\n",
       "      B : -0.03446202399789828 33.589733947667234 0.0\n",
       "      C : -0.10598191856576492 -0.09590044228686335 33.452619782374235"
      ]
     },
     "execution_count": 37,
     "metadata": {},
     "output_type": "execute_result"
    }
   ],
   "source": [
    "lattice"
   ]
  },
  {
   "cell_type": "code",
   "execution_count": null,
   "id": "ba2df6ea-807a-44ae-8c67-9fb18b06d3db",
   "metadata": {},
   "outputs": [],
   "source": []
  }
 ],
 "metadata": {
  "kernelspec": {
   "display_name": "Python 3 (ipykernel)",
   "language": "python",
   "name": "python3"
  },
  "language_info": {
   "codemirror_mode": {
    "name": "ipython",
    "version": 3
   },
   "file_extension": ".py",
   "mimetype": "text/x-python",
   "name": "python",
   "nbconvert_exporter": "python",
   "pygments_lexer": "ipython3",
   "version": "3.9.7"
  }
 },
 "nbformat": 4,
 "nbformat_minor": 5
}
