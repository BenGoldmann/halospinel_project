{
 "cells": [
  {
   "cell_type": "markdown",
   "id": "162001f2-d569-4daf-ba20-55e802fbd058",
   "metadata": {},
   "source": [
    "# Import LAMMPS dump"
   ]
  },
  {
   "cell_type": "code",
   "execution_count": 1,
   "id": "2678c7c5-1d23-4257-826c-9f910e351a6a",
   "metadata": {},
   "outputs": [
    {
     "name": "stderr",
     "output_type": "stream",
     "text": [
      "/Users/goldmann/opt/anaconda3/lib/python3.9/site-packages/aiida/orm/groups.py:61: UserWarning: no registered entry point for `Group` so its instances will not be storable.\n",
      "  warnings.warn(message)  # pylint: disable=no-member\n",
      "/Users/goldmann/opt/anaconda3/lib/python3.9/site-packages/aiida/orm/groups.py:61: UserWarning: no registered entry point for `AutoGroup` so its instances will not be storable.\n",
      "  warnings.warn(message)  # pylint: disable=no-member\n",
      "/Users/goldmann/opt/anaconda3/lib/python3.9/site-packages/aiida/orm/groups.py:61: UserWarning: no registered entry point for `ImportGroup` so its instances will not be storable.\n",
      "  warnings.warn(message)  # pylint: disable=no-member\n",
      "/Users/goldmann/opt/anaconda3/lib/python3.9/site-packages/aiida/orm/groups.py:61: UserWarning: no registered entry point for `UpfFamily` so its instances will not be storable.\n",
      "  warnings.warn(message)  # pylint: disable=no-member\n"
     ]
    }
   ],
   "source": [
    "from aiida_lammps.common import parse_trajectory\n",
    "from collections import namedtuple\n",
    "import numpy as np\n",
    "import pymatgen.core as mg\n",
    "from pymatgen.io.cif import CifWriter"
   ]
  },
  {
   "cell_type": "code",
   "execution_count": 9,
   "id": "d2ad2668-13f1-477d-9945-9c2a2a84e2ba",
   "metadata": {},
   "outputs": [],
   "source": [
    "def split_traj(file_location):\n",
    "    lammps_file = open(file_location, 'r')\n",
    "    lammps_lines = lammps_file.readlines()\n",
    "    \n",
    "    r = range(100000, 2101000, 1000)\n",
    "    counter = 0\n",
    "\n",
    "    for line in lammps_lines:\n",
    "        if \"ITEM: TIMESTEP\" in line:\n",
    "            structure_file = open(f'structures/structure_{r[counter]}.lammpstrj', 'w+')\n",
    "            structure_file.write(line)\n",
    "            counter = counter + 1\n",
    "        else:\n",
    "            structure_file.write(line)"
   ]
  },
  {
   "cell_type": "code",
   "execution_count": 10,
   "id": "ae94d415-b455-46cc-ae5b-987cd40a0ca1",
   "metadata": {},
   "outputs": [],
   "source": [
    "def parse_step(lines, intial_line=0):\n",
    "    if \"ITEM: TIMESTEP\" not in lines[0]:\n",
    "        raise IOError(\"expected line {} to be TIMESTEP\".format(intial_line))\n",
    "    if \"ITEM: NUMBER OF ATOMS\" not in lines[2]:\n",
    "        raise IOError(\"expected line {} to be NUMBER OF ATOMS\".format(intial_line + 2))\n",
    "    if \"ITEM: BOX BOUNDS xy xz yz\" not in lines[4]:\n",
    "        raise IOError(\n",
    "            \"expected line {} to be BOX BOUNDS xy xz yz\".format(intial_line + 4)\n",
    "        )\n",
    "        # TODO handle case when xy xz yz not present -> orthogonal box\n",
    "    if \"ITEM: ATOMS\" not in lines[8]:\n",
    "        raise IOError(\"expected line {} to be ATOMS\".format(intial_line + 8))\n",
    "    timestep = int(lines[1])\n",
    "    number_of_atoms = int(lines[3])\n",
    "\n",
    "    # each pbc contains two letters <lo><hi> such that:\n",
    "    # p = periodic, f = fixed, s = shrink wrap, m = shrink wrapped with a minimum value\n",
    "    pbc = lines[4].split()[6:]\n",
    "\n",
    "    bounds = [line.split() for line in lines[5:8]]\n",
    "    bounds = np.array(bounds, dtype=float)\n",
    "    if bounds.shape[1] == 2:\n",
    "        bounds = np.append(bounds, np.array([0, 0, 0])[None].T, axis=1)\n",
    "\n",
    "    xy = bounds[0, 2]\n",
    "    xz = bounds[1, 2]\n",
    "    yz = bounds[2, 2]\n",
    "\n",
    "    xlo = bounds[0, 0] - np.min([0.0, xy, xz, xy + xz])\n",
    "    xhi = bounds[0, 1] - np.max([0.0, xy, xz, xy + xz])\n",
    "    ylo = bounds[1, 0] - np.min([0.0, yz])\n",
    "    yhi = bounds[1, 1] - np.max([0.0, yz])\n",
    "    zlo = bounds[2, 0]\n",
    "    zhi = bounds[2, 1]\n",
    "\n",
    "    super_cell = np.array([[xhi - xlo, xy, xz], [0, yhi - ylo, yz], [0, 0, zhi - zlo]])\n",
    "    cell = super_cell.T\n",
    "    field_names = lines[8].split()[2:]\n",
    "    fields = []\n",
    "    for i in range(number_of_atoms):\n",
    "        fields.append(lines[9 + i].split())\n",
    "    atom_fields = {n: v.tolist() for n, v in zip(field_names, np.array(fields).T)}\n",
    "\n",
    "    return TRAJ_BLOCK(lines, timestep, number_of_atoms, cell, pbc, atom_fields)"
   ]
  },
  {
   "cell_type": "code",
   "execution_count": 33,
   "id": "4d7ef65f-2014-4666-9040-299079a4e2f7",
   "metadata": {},
   "outputs": [],
   "source": [
    "\n",
    "\n",
    "TRAJ_BLOCK = namedtuple(\n",
    "    \"TRAJ_BLOCK\", [\"lines\", \"timestep\", \"natoms\", \"cell\", \"pbc\", \"atom_fields\"]\n",
    ")\n",
    "\n",
    "trial_file = open('structures/structure_101000.lammpstrj', 'r')\n",
    "trial_lines = trial_file.readlines()\n",
    "\n",
    "trial = parse_step(trial_lines)"
   ]
  },
  {
   "cell_type": "code",
   "execution_count": 34,
   "id": "5bf9a6cb-1149-4cc7-b83b-3c1117eb0e73",
   "metadata": {},
   "outputs": [],
   "source": [
    "\n",
    "\n",
    "def create_structure(\n",
    "    traj_block,\n",
    "    symbol_field=\"element\",\n",
    "    position_fields=(\"x\", \"y\", \"z\"),\n",
    "    original_structure=None,\n",
    "):\n",
    "    symbols = traj_block.atom_fields[symbol_field]\n",
    "    positions = np.array(\n",
    "        [traj_block.atom_fields[f] for f in position_fields], dtype=float\n",
    "    ).T\n",
    "\n",
    "    lattice = mg.Lattice(traj_block.cell)\n",
    "    structure = mg.Structure(lattice, symbols, positions)\n",
    "\n",
    "    return structure"
   ]
  },
  {
   "cell_type": "code",
   "execution_count": 35,
   "id": "5d33a72b-914e-4004-bf3a-cfa1b52636a6",
   "metadata": {},
   "outputs": [],
   "source": [
    "trial_structure = create_structure(trial)"
   ]
  },
  {
   "cell_type": "code",
   "execution_count": 36,
   "id": "fe9bedef-f22e-4739-b24f-9cc99ae09616",
   "metadata": {},
   "outputs": [],
   "source": [
    "\n",
    "\n",
    "w = CifWriter(trial_structure)\n",
    "w.write_file('000000.cif')"
   ]
  },
  {
   "cell_type": "code",
   "execution_count": 37,
   "id": "1c7541b8-8a5a-4995-8b2f-ec9524d26ecf",
   "metadata": {},
   "outputs": [],
   "source": [
    "traj = 'super_al.lammpstrj'"
   ]
  },
  {
   "cell_type": "code",
   "execution_count": 38,
   "id": "b74ce91a-bfa6-4d56-aabb-2616a6b34e44",
   "metadata": {},
   "outputs": [
    {
     "data": {
      "text/plain": [
       "'super_al.'"
      ]
     },
     "execution_count": 38,
     "metadata": {},
     "output_type": "execute_result"
    }
   ],
   "source": [
    "traj[:-9]"
   ]
  },
  {
   "cell_type": "code",
   "execution_count": null,
   "id": "879cf84c-360f-42e0-a142-036a2803796c",
   "metadata": {},
   "outputs": [],
   "source": []
  }
 ],
 "metadata": {
  "kernelspec": {
   "display_name": "Python 3 (ipykernel)",
   "language": "python",
   "name": "python3"
  },
  "language_info": {
   "codemirror_mode": {
    "name": "ipython",
    "version": 3
   },
   "file_extension": ".py",
   "mimetype": "text/x-python",
   "name": "python",
   "nbconvert_exporter": "python",
   "pygments_lexer": "ipython3",
   "version": "3.9.7"
  }
 },
 "nbformat": 4,
 "nbformat_minor": 5
}
