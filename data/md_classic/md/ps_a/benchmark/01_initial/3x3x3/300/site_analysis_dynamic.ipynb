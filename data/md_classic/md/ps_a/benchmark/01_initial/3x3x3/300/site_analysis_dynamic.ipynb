{
 "cells": [
  {
   "cell_type": "code",
   "execution_count": 1,
   "id": "ea03e390",
   "metadata": {},
   "outputs": [],
   "source": [
    "import numpy as np"
   ]
  },
  {
   "cell_type": "markdown",
   "id": "89c7bfb8-0167-4252-8199-c634f3638974",
   "metadata": {},
   "source": [
    "# Create sites"
   ]
  },
  {
   "cell_type": "code",
   "execution_count": 2,
   "id": "06290163",
   "metadata": {},
   "outputs": [
    {
     "name": "stderr",
     "output_type": "stream",
     "text": [
      "/Users/goldmann/opt/anaconda3/lib/python3.9/site-packages/pymatgen/core/__init__.py:49: UserWarning: Error loading .pmgrc.yaml: [Errno 2] No such file or directory: '/Users/goldmann/.pmgrc.yaml'. You may need to reconfigure your yaml file.\n",
      "  warnings.warn(f\"Error loading .pmgrc.yaml: {ex}. You may need to reconfigure your yaml file.\")\n"
     ]
    }
   ],
   "source": [
    "from pymatgen.symmetry.groups import SpaceGroup\n",
    "from pymatgen.core import Structure, Lattice\n",
    "sg = SpaceGroup('Fd-3m:2')\n",
    "all_li_structure = Structure.from_file('all_li_structure.cif')"
   ]
  },
  {
   "cell_type": "code",
   "execution_count": 3,
   "id": "2d86d42c",
   "metadata": {},
   "outputs": [],
   "source": [
    "lattice = all_li_structure.lattice\n",
    "li1 = Structure.from_spacegroup(sg='Fd-3m:2', lattice = lattice, species=['Li'], coords=[[0.125, 0.125, 0.125]])\n",
    "li2 = Structure.from_spacegroup(sg='Fd-3m:2', lattice = lattice, species=['Li'], coords=[[0.000, 0.000, 0.000]])\n",
    "li3 = Structure.from_spacegroup(sg='Fd-3m:2', lattice = lattice, species=['Li'], coords=[[0.125, 0.125, 0.875]])\n",
    "li4 = Structure.from_spacegroup(sg='Fd-3m:2', lattice = lattice, species=['Li'], coords=[[0.500, 0.500, 0.500]])\n",
    "li5 = Structure.from_spacegroup(sg='Fd-3m:2', lattice = lattice, species=['Li'], coords=[[0.125, 0.125, 0.625]])\n",
    "li_structures = {'Li1': li1,\n",
    "                 'Li2': li2,\n",
    "                 'Li3': li3,\n",
    "                 'Li4': li4,\n",
    "                 'Li5': li5}\n",
    "for strc in li_structures.values():\n",
    "    strc.make_supercell([3,3,3])"
   ]
  },
  {
   "cell_type": "code",
   "execution_count": 4,
   "id": "890780c8",
   "metadata": {},
   "outputs": [],
   "source": [
    "from site_analysis.voronoi_site import VoronoiSite\n",
    "li1_sites = [VoronoiSite(s.frac_coords, label='Li1') for s in li1]\n",
    "li2_sites = [VoronoiSite(s.frac_coords, label='Li2') for s in li2]\n",
    "li3_sites = [VoronoiSite(s.frac_coords, label='Li3') for s in li3]\n",
    "li4_sites = [VoronoiSite(s.frac_coords, label='Li4') for s in li4]\n",
    "li5_sites = [VoronoiSite(s.frac_coords, label='Li5') for s in li5]\n",
    "sites = li1_sites + li2_sites + li3_sites + li4_sites + li5_sites"
   ]
  },
  {
   "cell_type": "markdown",
   "id": "b2163b7d-3eec-4855-9843-e936d23cbcdd",
   "metadata": {},
   "source": [
    "# Create atoms and initial frame"
   ]
  },
  {
   "cell_type": "code",
   "execution_count": null,
   "id": "ce15be53",
   "metadata": {},
   "outputs": [],
   "source": [
    "structure = Structure.from_file('structures/structure_100000.cif')\n",
    "print(structure.composition)\n",
    "# create Atom objects\n",
    "from site_analysis.atom import atoms_from_species_string\n",
    "atoms = atoms_from_species_string(structure, 'Li')\n",
    "atoms[0:3]"
   ]
  },
  {
   "cell_type": "code",
   "execution_count": null,
   "id": "600e74af",
   "metadata": {},
   "outputs": [],
   "source": [
    "from site_analysis.trajectory import Trajectory\n",
    "trajectory = Trajectory(sites = sites, atoms = atoms)\n",
    "trajectory"
   ]
  },
  {
   "cell_type": "code",
   "execution_count": null,
   "id": "2634d429",
   "metadata": {},
   "outputs": [],
   "source": [
    "trajectory.analyse_structure(structure)"
   ]
  },
  {
   "cell_type": "code",
   "execution_count": null,
   "id": "87fe6c94",
   "metadata": {},
   "outputs": [],
   "source": [
    "np.array(trajectory.atom_sites)"
   ]
  },
  {
   "cell_type": "markdown",
   "id": "438e4fc3-87cf-4d6f-9027-2f7b8f0459c6",
   "metadata": {},
   "source": [
    "# Add another frame and analyse"
   ]
  },
  {
   "cell_type": "code",
   "execution_count": null,
   "id": "4adcd3eb-bf88-4345-b0ad-4d132457f568",
   "metadata": {},
   "outputs": [],
   "source": [
    "import glob\n",
    "\n",
    "structures = glob.glob('structures/*.cif')\n",
    "\n",
    "trajectory.reset()\n",
    "\n",
    "for s in structures[:1]:\n",
    "    time_ = s[-10:]\n",
    "    time = time_[:-4]\n",
    "    time_int = int(time)\n",
    "    strc = Structure.from_file(s)\n",
    "    trajectory.append_timestep(strc, t=time_int)"
   ]
  },
  {
   "cell_type": "code",
   "execution_count": null,
   "id": "40955f70-128b-4dac-bd14-0745ab7ae57e",
   "metadata": {},
   "outputs": [],
   "source": [
    "from collections import Counter\n",
    "c = Counter()\n",
    "for site in trajectory.sites:\n",
    "    c[site.label] += len([1 for ts in site.trajectory if len(ts)>0])\n",
    "for k, v in c.items():\n",
    "    print(k, (v/len(trajectory))/27)"
   ]
  },
  {
   "cell_type": "code",
   "execution_count": null,
   "id": "4455fedd-ce2b-469b-a234-bcdffeaf65b9",
   "metadata": {},
   "outputs": [],
   "source": [
    "traj = 'structures/structure_100000.cif'"
   ]
  },
  {
   "cell_type": "code",
   "execution_count": null,
   "id": "e4dd6f40-2416-4160-9483-265746d5abb0",
   "metadata": {},
   "outputs": [],
   "source": [
    "traj2 = traj[-10:]"
   ]
  },
  {
   "cell_type": "code",
   "execution_count": null,
   "id": "7a0d8753-f411-4485-871b-fa0e2e193d8c",
   "metadata": {},
   "outputs": [],
   "source": [
    "traj3 = traj2[:-4]"
   ]
  },
  {
   "cell_type": "code",
   "execution_count": null,
   "id": "1d0aafe0-40fc-412e-a2bd-fa65986e5c17",
   "metadata": {},
   "outputs": [],
   "source": [
    "traj3"
   ]
  },
  {
   "cell_type": "code",
   "execution_count": null,
   "id": "2f9c480a-8245-4048-89f9-e68c1348bd64",
   "metadata": {},
   "outputs": [],
   "source": [
    "structures.sort()"
   ]
  },
  {
   "cell_type": "code",
   "execution_count": null,
   "id": "d7455072-4d39-4e85-9b19-8f5fe089fe3f",
   "metadata": {},
   "outputs": [],
   "source": [
    "structures"
   ]
  },
  {
   "cell_type": "code",
   "execution_count": null,
   "id": "d192ad1c-b1d6-4a30-8592-143a08fe887f",
   "metadata": {},
   "outputs": [],
   "source": [
    "pip install site-analysis"
   ]
  },
  {
   "cell_type": "code",
   "execution_count": null,
   "id": "140ee590-d51c-4a8b-8ec7-5066d463fbd0",
   "metadata": {},
   "outputs": [],
   "source": [
    "pip install site_analysis"
   ]
  },
  {
   "cell_type": "code",
   "execution_count": 8,
   "id": "b54091ae-5146-49f2-9bca-f0745dc59624",
   "metadata": {},
   "outputs": [],
   "source": [
    "\n",
    "\n",
    "def add(j, k):\n",
    "    summ = j + k\n",
    "    return summ\n",
    "\n",
    "results = []\n",
    "\n",
    "for items in lists:\n",
    "    result = square(items)\n",
    "    results.append(result)"
   ]
  },
  {
   "cell_type": "code",
   "execution_count": 10,
   "id": "38a94b74-763a-421c-b4a3-81ab292e490b",
   "metadata": {},
   "outputs": [
    {
     "name": "stdout",
     "output_type": "stream",
     "text": [
      "2\n",
      "12\n",
      "36\n",
      "80\n"
     ]
    }
   ],
   "source": [
    "for item1, item2 in results:\n",
    "    t = add(item1, item2)\n",
    "    print(t)"
   ]
  },
  {
   "cell_type": "code",
   "execution_count": null,
   "id": "60e772cf-7daf-4911-91de-8c370ebdfb76",
   "metadata": {},
   "outputs": [
    {
     "name": "stderr",
     "output_type": "stream",
     "text": [
      "Process SpawnPoolWorker-53:\n",
      "Traceback (most recent call last):\n",
      "  File \"/Users/goldmann/opt/anaconda3/lib/python3.9/multiprocessing/process.py\", line 315, in _bootstrap\n",
      "    self.run()\n",
      "  File \"/Users/goldmann/opt/anaconda3/lib/python3.9/multiprocessing/process.py\", line 108, in run\n",
      "    self._target(*self._args, **self._kwargs)\n",
      "  File \"/Users/goldmann/opt/anaconda3/lib/python3.9/multiprocessing/pool.py\", line 114, in worker\n",
      "    task = get()\n",
      "  File \"/Users/goldmann/opt/anaconda3/lib/python3.9/multiprocessing/queues.py\", line 368, in get\n",
      "    return _ForkingPickler.loads(res)\n",
      "AttributeError: Can't get attribute 'function' on <module '__main__' (built-in)>\n",
      "Process SpawnPoolWorker-54:\n",
      "Traceback (most recent call last):\n",
      "  File \"/Users/goldmann/opt/anaconda3/lib/python3.9/multiprocessing/process.py\", line 315, in _bootstrap\n",
      "    self.run()\n",
      "  File \"/Users/goldmann/opt/anaconda3/lib/python3.9/multiprocessing/process.py\", line 108, in run\n",
      "    self._target(*self._args, **self._kwargs)\n",
      "  File \"/Users/goldmann/opt/anaconda3/lib/python3.9/multiprocessing/pool.py\", line 114, in worker\n",
      "    task = get()\n",
      "  File \"/Users/goldmann/opt/anaconda3/lib/python3.9/multiprocessing/queues.py\", line 368, in get\n",
      "    return _ForkingPickler.loads(res)\n",
      "AttributeError: Can't get attribute 'function' on <module '__main__' (built-in)>\n",
      "Process SpawnPoolWorker-55:\n",
      "Traceback (most recent call last):\n",
      "  File \"/Users/goldmann/opt/anaconda3/lib/python3.9/multiprocessing/process.py\", line 315, in _bootstrap\n",
      "    self.run()\n",
      "  File \"/Users/goldmann/opt/anaconda3/lib/python3.9/multiprocessing/process.py\", line 108, in run\n",
      "    self._target(*self._args, **self._kwargs)\n",
      "  File \"/Users/goldmann/opt/anaconda3/lib/python3.9/multiprocessing/pool.py\", line 114, in worker\n",
      "    task = get()\n",
      "  File \"/Users/goldmann/opt/anaconda3/lib/python3.9/multiprocessing/queues.py\", line 368, in get\n",
      "    return _ForkingPickler.loads(res)\n",
      "AttributeError: Can't get attribute 'function' on <module '__main__' (built-in)>\n",
      "Process SpawnPoolWorker-56:\n",
      "Traceback (most recent call last):\n",
      "  File \"/Users/goldmann/opt/anaconda3/lib/python3.9/multiprocessing/process.py\", line 315, in _bootstrap\n",
      "    self.run()\n",
      "  File \"/Users/goldmann/opt/anaconda3/lib/python3.9/multiprocessing/process.py\", line 108, in run\n",
      "    self._target(*self._args, **self._kwargs)\n",
      "  File \"/Users/goldmann/opt/anaconda3/lib/python3.9/multiprocessing/pool.py\", line 114, in worker\n",
      "    task = get()\n",
      "  File \"/Users/goldmann/opt/anaconda3/lib/python3.9/multiprocessing/queues.py\", line 368, in get\n",
      "    return _ForkingPickler.loads(res)\n",
      "AttributeError: Can't get attribute 'function' on <module '__main__' (built-in)>\n"
     ]
    }
   ],
   "source": [
    "import multiprocessing\n",
    "\n",
    "lists = [1, 2, 3, 4]\n",
    "\n",
    "def function(i):\n",
    "    items.append(i**2)\n",
    "\n",
    "if __name__ == '__main__':    \n",
    "    items = []\n",
    "\n",
    "    pool = multiprocessing.Pool()\n",
    "    pool.map(function, lists)"
   ]
  },
  {
   "cell_type": "code",
   "execution_count": 13,
   "id": "87c14423-ca85-4c48-8f13-8b0ac3c8aca1",
   "metadata": {},
   "outputs": [
    {
     "data": {
      "text/plain": [
       "[]"
      ]
     },
     "execution_count": 13,
     "metadata": {},
     "output_type": "execute_result"
    }
   ],
   "source": [
    "def append_traj(timestep_info):\n",
    "    trajectory.append_timestep(timestep_info)"
   ]
  },
  {
   "cell_type": "code",
   "execution_count": null,
   "id": "94c9bcce-ecb2-44e7-9944-89bc70acf468",
   "metadata": {},
   "outputs": [],
   "source": []
  }
 ],
 "metadata": {
  "kernelspec": {
   "display_name": "Python 3 (ipykernel)",
   "language": "python",
   "name": "python3"
  },
  "language_info": {
   "codemirror_mode": {
    "name": "ipython",
    "version": 3
   },
   "file_extension": ".py",
   "mimetype": "text/x-python",
   "name": "python",
   "nbconvert_exporter": "python",
   "pygments_lexer": "ipython3",
   "version": "3.9.7"
  }
 },
 "nbformat": 4,
 "nbformat_minor": 5
}
