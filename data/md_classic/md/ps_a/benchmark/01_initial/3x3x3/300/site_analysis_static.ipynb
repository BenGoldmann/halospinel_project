{
 "cells": [
  {
   "cell_type": "code",
   "execution_count": 1,
   "metadata": {},
   "outputs": [],
   "source": [
    "import numpy as np"
   ]
  },
  {
   "cell_type": "markdown",
   "metadata": {},
   "source": [
    "# Create sites"
   ]
  },
  {
   "cell_type": "code",
   "execution_count": 2,
   "metadata": {},
   "outputs": [
    {
     "name": "stderr",
     "output_type": "stream",
     "text": [
      "/usr/lib/python3/dist-packages/requests/__init__.py:89: RequestsDependencyWarning: urllib3 (1.26.7) or chardet (3.0.4) doesn't match a supported version!\n",
      "  warnings.warn(\"urllib3 ({}) or chardet ({}) doesn't match a supported \"\n"
     ]
    }
   ],
   "source": [
    "from pymatgen.symmetry.groups import SpaceGroup\n",
    "from pymatgen.core import Structure, Lattice\n",
    "sg = SpaceGroup('Fd-3m:2')\n",
    "all_li_structure = Structure.from_file('all_li_structure.cif')"
   ]
  },
  {
   "cell_type": "code",
   "execution_count": 3,
   "metadata": {},
   "outputs": [],
   "source": [
    "lattice = all_li_structure.lattice\n",
    "li1 = Structure.from_spacegroup(sg='Fd-3m:2', lattice = lattice, species=['Li'], coords=[[0.125, 0.125, 0.125]])\n",
    "li2 = Structure.from_spacegroup(sg='Fd-3m:2', lattice = lattice, species=['Li'], coords=[[0.000, 0.000, 0.000]])\n",
    "li3 = Structure.from_spacegroup(sg='Fd-3m:2', lattice = lattice, species=['Li'], coords=[[0.125, 0.125, 0.875]])\n",
    "li4 = Structure.from_spacegroup(sg='Fd-3m:2', lattice = lattice, species=['Li'], coords=[[0.500, 0.500, 0.500]])\n",
    "li5 = Structure.from_spacegroup(sg='Fd-3m:2', lattice = lattice, species=['Li'], coords=[[0.125, 0.125, 0.625]])\n",
    "li_structures = {'Li1': li1,\n",
    "                 'Li2': li2,\n",
    "                 'Li3': li3,\n",
    "                 'Li4': li4,\n",
    "                 'Li5': li5}\n",
    "for strc in li_structures.values():\n",
    "    strc.make_supercell([3,3,3])"
   ]
  },
  {
   "cell_type": "code",
   "execution_count": 4,
   "metadata": {},
   "outputs": [],
   "source": [
    "from site_analysis.voronoi_site import VoronoiSite\n",
    "li1_sites = [VoronoiSite(s.frac_coords, label='Li1') for s in li1]\n",
    "li2_sites = [VoronoiSite(s.frac_coords, label='Li2') for s in li2]\n",
    "li3_sites = [VoronoiSite(s.frac_coords, label='Li3') for s in li3]\n",
    "li4_sites = [VoronoiSite(s.frac_coords, label='Li4') for s in li4]\n",
    "li5_sites = [VoronoiSite(s.frac_coords, label='Li5') for s in li5]\n",
    "sites = li1_sites + li2_sites + li3_sites + li4_sites + li5_sites"
   ]
  },
  {
   "cell_type": "markdown",
   "metadata": {},
   "source": [
    "# Create atoms and initial frame"
   ]
  },
  {
   "cell_type": "code",
   "execution_count": 5,
   "metadata": {},
   "outputs": [
    {
     "name": "stdout",
     "output_type": "stream",
     "text": [
      "Li459 Sc135 Cl864\n"
     ]
    },
    {
     "data": {
      "text/plain": [
       "[site_analysis.Atom(index=0, in_site=None, frac_coords=None),\n",
       " site_analysis.Atom(index=1, in_site=None, frac_coords=None),\n",
       " site_analysis.Atom(index=2, in_site=None, frac_coords=None)]"
      ]
     },
     "execution_count": 5,
     "metadata": {},
     "output_type": "execute_result"
    }
   ],
   "source": [
    "structure = Structure.from_file('super.cif')\n",
    "print(structure.composition)\n",
    "# create Atom objects\n",
    "from site_analysis.atom import atoms_from_species_string\n",
    "atoms = atoms_from_species_string(structure, 'Li')\n",
    "atoms[0:3]"
   ]
  },
  {
   "cell_type": "code",
   "execution_count": 6,
   "metadata": {},
   "outputs": [
    {
     "data": {
      "text/plain": [
       "<site_analysis.trajectory.Trajectory at 0x7f95a4a3c520>"
      ]
     },
     "execution_count": 6,
     "metadata": {},
     "output_type": "execute_result"
    }
   ],
   "source": [
    "from site_analysis.trajectory import Trajectory\n",
    "trajectory = Trajectory(sites = sites, atoms = atoms)\n",
    "trajectory"
   ]
  },
  {
   "cell_type": "code",
   "execution_count": 7,
   "metadata": {},
   "outputs": [],
   "source": [
    "trajectory.analyse_structure(structure)"
   ]
  },
  {
   "cell_type": "code",
   "execution_count": 8,
   "metadata": {},
   "outputs": [
    {
     "data": {
      "text/plain": [
       "array([ 189,  190,  191,  192,  193,  194,  195,  196,  197,  198,  199,\n",
       "        200,  201,  202,  203,  204,  205,  206,  207,  208,  209,  210,\n",
       "        211,  212,  213,  214,  215,  324,  325,  326,  327,  328,  329,\n",
       "        330,  331,  332,  333,  334,  335,  336,  337,  338,  339,  340,\n",
       "        341,  342,  343,  344,  345,  346,  347,  348,  349,  350,  351,\n",
       "        352,  353,  354,  355,  356,  357,  358,  359,  360,  361,  362,\n",
       "        363,  364,  365,  366,  367,  368,  369,  370,  371,  372,  373,\n",
       "        374,  375,  376,  377,  540,  541,  542,  543,  544,  545,  546,\n",
       "        547,  548,  549,  550,  551,  552,  553,  554,  555,  556,  557,\n",
       "        558,  559,  560,  561,  562,  563,  564,  565,  566,  594,  595,\n",
       "        596,  597,  598,  599,  600,  601,  602,  603,  604,  605,  606,\n",
       "        607,  608,  609,  610,  611,  612,  613,  614,  615,  616,  617,\n",
       "        618,  619,  620,  567,  568,  569,  570,  571,  572,  573,  574,\n",
       "        575,  576,  577,  578,  579,  580,  581,  582,  583,  584,  585,\n",
       "        586,  587,  588,  589,  590,  591,  592,  593, 1944, 1945, 1946,\n",
       "       1947, 1948, 1949, 1950, 1951, 1952, 1953, 1954, 1955, 1956, 1957,\n",
       "       1958, 1959, 1960, 1961, 1962, 1963, 1964, 1965, 1966, 1967, 1968,\n",
       "       1969, 1970, 1971, 1972, 1973, 1974, 1975, 1976, 1977, 1978, 1979,\n",
       "       1980, 1981, 1982, 1983, 1984, 1985, 1986, 1987, 1988, 1989, 1990,\n",
       "       1991, 1992, 1993, 1994, 1995, 1996, 1997, 1999, 2000, 1998, 2002,\n",
       "       2003, 2001, 2005, 2006, 2004, 2008, 2009, 2007, 2011, 2012, 2010,\n",
       "       2014, 2015, 2013, 2017, 2018, 2016, 2020, 2021, 2019, 2023, 2024,\n",
       "       2022, 2295, 2296, 2297, 2298, 2299, 2300, 2301, 2302, 2303, 2304,\n",
       "       2305, 2306, 2307, 2308, 2309, 2310, 2311, 2312, 2313, 2314, 2315,\n",
       "       2316, 2317, 2318, 2319, 2320, 2321, 2079, 2080, 2081, 2082, 2083,\n",
       "       2084, 2085, 2086, 2087, 2088, 2089, 2090, 2091, 2092, 2093, 2094,\n",
       "       2095, 2096, 2097, 2098, 2099, 2100, 2101, 2102, 2103, 2104, 2105,\n",
       "       2241, 2242, 2243, 2244, 2245, 2246, 2247, 2248, 2249, 2250, 2251,\n",
       "       2252, 2253, 2254, 2255, 2256, 2257, 2258, 2259, 2260, 2261, 2262,\n",
       "       2263, 2264, 2265, 2266, 2267, 2223, 2224, 2225, 2226, 2227, 2228,\n",
       "       2229, 2230, 2231, 2232, 2233, 2234, 2235, 2236, 2237, 2238, 2239,\n",
       "       2240, 2214, 2215, 2216, 2217, 2218, 2219, 2220, 2221, 2222, 2160,\n",
       "       2161, 2162, 2163, 2164, 2165, 2166, 2167, 2168, 2169, 2170, 2171,\n",
       "       2172, 2173, 2174, 2175, 2176, 2177, 2178, 2179, 2180, 2181, 2182,\n",
       "       2183, 2184, 2185, 2186, 2271, 2272, 2273, 2274, 2275, 2276, 2268,\n",
       "       2269, 2270, 2280, 2281, 2282, 2283, 2284, 2285, 2277, 2278, 2279,\n",
       "       2289, 2290, 2291, 2292, 2293, 2294, 2286, 2287, 2288, 2106, 2107,\n",
       "       2108, 2109, 2110, 2111, 2112, 2113, 2114, 2115, 2116, 2117, 2118,\n",
       "       2119, 2120, 2121, 2122, 2123, 2124, 2125, 2126, 2127, 2128, 2129,\n",
       "       2130, 2131, 2132, 2322, 2323, 2324, 2325, 2326, 2327, 2328, 2329,\n",
       "       2330, 2331, 2332, 2333, 2334, 2335, 2336, 2337, 2338, 2339, 2340,\n",
       "       2341, 2342, 2343, 2344, 2345, 2346, 2347, 2348])"
      ]
     },
     "execution_count": 8,
     "metadata": {},
     "output_type": "execute_result"
    }
   ],
   "source": [
    "np.array(trajectory.atom_sites)"
   ]
  },
  {
   "cell_type": "markdown",
   "metadata": {},
   "source": [
    "# Add another frame and analyse"
   ]
  },
  {
   "cell_type": "code",
   "execution_count": 14,
   "metadata": {},
   "outputs": [],
   "source": [
    "import glob\n",
    "\n",
    "trajectory.reset()\n",
    "\n",
    "strc = Structure.from_file('red_3.cif')\n",
    "\n",
    "trajectory.append_timestep(structure)\n",
    "trajectory.append_timestep(strc)"
   ]
  },
  {
   "cell_type": "code",
   "execution_count": 16,
   "metadata": {},
   "outputs": [
    {
     "name": "stdout",
     "output_type": "stream",
     "text": [
      "Li1 1.0\n",
      "Li2 5.0\n",
      "Li3 0.0\n",
      "Li4 11.0\n",
      "Li5 0.0\n",
      "Li1 0.9259259259259259\n",
      "Li2 4.462962962962963\n",
      "Li3 0.6111111111111112\n",
      "Li4 11.0\n",
      "Li5 0.0\n"
     ]
    }
   ],
   "source": [
    "from collections import Counter\n",
    "c = Counter()\n",
    "\n",
    "running_ave = []\n",
    "\n",
    "for step in range(0, len(trajectory)):\n",
    "    for site in trajectory.sites:\n",
    "        c[site.label] += len([1 for ts in site.trajectory[:(step+1)] if len(ts)>0])\n",
    "    for k, v in c.items():\n",
    "        print(k, (v/(step+1))/27)\n",
    "    c.clear()"
   ]
  },
  {
   "cell_type": "code",
   "execution_count": 19,
   "metadata": {},
   "outputs": [],
   "source": [
    "import glob\n",
    "\n",
    "trajectory.reset()\n",
    "\n",
    "strc = Structure.from_file('red_3.cif')\n",
    "\n",
    "trajectory.append_timestep(strc)\n",
    "trajectory.append_timestep(structure)"
   ]
  },
  {
   "cell_type": "code",
   "execution_count": 24,
   "metadata": {},
   "outputs": [
    {
     "name": "stdout",
     "output_type": "stream",
     "text": [
      "TIMESTEP: 0\n",
      "Li1 0.8518518518518519\n",
      "Li2 3.925925925925926\n",
      "Li3 1.2222222222222223\n",
      "Li4 11.0\n",
      "Li5 0.0\n",
      "TIMESTEP: 1\n",
      "Li1 0.9259259259259259\n",
      "Li2 4.462962962962963\n",
      "Li3 0.6111111111111112\n",
      "Li4 11.0\n",
      "Li5 0.0\n"
     ]
    }
   ],
   "source": [
    "from collections import Counter\n",
    "c = Counter()\n",
    "\n",
    "li1_list = []\n",
    "li2_list = []\n",
    "li3_list = []\n",
    "li4_list = []\n",
    "li5_list = []\n",
    "\n",
    "for step in range(0, len(trajectory)):\n",
    "    for site in trajectory.sites:\n",
    "        c[site.label] += len([1 for ts in site.trajectory[:(step+1)] if len(ts)>0])\n",
    "    print(f'TIMESTEP: {step}')\n",
    "    for k, v in c.items():\n",
    "        print(k, (v/(step+1))/27)\n",
    "    c.clear()"
   ]
  },
  {
   "cell_type": "code",
   "execution_count": null,
   "metadata": {},
   "outputs": [],
   "source": [
    "trajectory.atom[0].trajectory"
   ]
  },
  {
   "cell_type": "code",
   "execution_count": null,
   "metadata": {},
   "outputs": [],
   "source": [
    "money = [0, 1, 2, 3, 4]"
   ]
  },
  {
   "cell_type": "code",
   "execution_count": null,
   "metadata": {},
   "outputs": [],
   "source": [
    "skulls = []\n",
    "\n",
    "for siu in range(0, 5):\n",
    "    skulls.append(sum(money[:(siu+1)])/len(money[:(siu+1)]))"
   ]
  },
  {
   "cell_type": "code",
   "execution_count": null,
   "metadata": {},
   "outputs": [],
   "source": [
    "len(trajectory)"
   ]
  },
  {
   "cell_type": "code",
   "execution_count": null,
   "metadata": {},
   "outputs": [],
   "source": []
  }
 ],
 "metadata": {
  "kernelspec": {
   "display_name": "Python 3",
   "language": "python",
   "name": "python3"
  },
  "language_info": {
   "codemirror_mode": {
    "name": "ipython",
    "version": 3
   },
   "file_extension": ".py",
   "mimetype": "text/x-python",
   "name": "python",
   "nbconvert_exporter": "python",
   "pygments_lexer": "ipython3",
   "version": "3.8.10"
  }
 },
 "nbformat": 4,
 "nbformat_minor": 5
}
