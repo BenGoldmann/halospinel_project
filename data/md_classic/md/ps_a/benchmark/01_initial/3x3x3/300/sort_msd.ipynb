{
 "cells": [
  {
   "cell_type": "code",
   "execution_count": 2,
   "id": "51df26fa-e339-4280-8b03-bc985bd81831",
   "metadata": {},
   "outputs": [],
   "source": [
    "from ovito.io import import_file, export_file\n",
    "from ovito.modifiers import CalculateDisplacementsModifier\n",
    "from ovito.modifiers import ExpressionSelectionModifier\n",
    "import numpy"
   ]
  },
  {
   "cell_type": "code",
   "execution_count": 3,
   "id": "8c5fe595-845e-4fd4-95e6-b0e01ac65c32",
   "metadata": {},
   "outputs": [],
   "source": [
    "# Load input data and create a data pipeline.\n",
    "pipeline = import_file(\"super_al.lammpstrj\")\n",
    "\n",
    "# Calculate per-particle displacements with respect to initial simulation frame:\n",
    "pipeline.modifiers.append(CalculateDisplacementsModifier())\n",
    "\n",
    "# Define the custom modifier function:\n",
    "def calculate_msd(frame, data):\n",
    "\n",
    "    # Access the per-particle displacement magnitudes computed by the \n",
    "    # CalculateDisplacementsModifier that precedes this user-defined modifier in the \n",
    "    # data pipeline:\n",
    "    displacement_magnitudes = data.particles['Displacement Magnitude']\n",
    "    particle_types = data.particles['Particle Type']\n",
    "    \n",
    "    # Compute MSD:\n",
    "    msd = numpy.sum(displacement_magnitudes[particle_types == 1] ** 2) / len(displacement_magnitudes[particle_types == 1])\n",
    "\n",
    "    # Output MSD value as a global attribute: \n",
    "    data.attributes[\"MSD\"] = msd \n",
    "    \n",
    "# Insert user-defined modifier function into the data pipeline.\n",
    "pipeline.modifiers.append(calculate_msd)\n",
    "\n",
    "# Export calculated MSD value to a text file and let OVITO's data pipeline do the rest:\n",
    "export_file(pipeline, \"msd_data3.txt\", \n",
    "    format = \"txt/attr\",\n",
    "    columns = [\"Timestep\", \"MSD\"],\n",
    "    multiple_frames = True)"
   ]
  },
  {
   "cell_type": "code",
   "execution_count": 3,
   "id": "87431b43-1ce6-435b-8c18-f91d1b84e503",
   "metadata": {},
   "outputs": [
    {
     "name": "stdout",
     "output_type": "stream",
     "text": [
      "hi\n"
     ]
    }
   ],
   "source": [
    "print('hi')"
   ]
  },
  {
   "cell_type": "code",
   "execution_count": null,
   "id": "715109a0-0016-4b13-88ba-37f4693e5686",
   "metadata": {},
   "outputs": [],
   "source": []
  }
 ],
 "metadata": {
  "kernelspec": {
   "display_name": "Python 3 (ipykernel)",
   "language": "python",
   "name": "python3"
  },
  "language_info": {
   "codemirror_mode": {
    "name": "ipython",
    "version": 3
   },
   "file_extension": ".py",
   "mimetype": "text/x-python",
   "name": "python",
   "nbconvert_exporter": "python",
   "pygments_lexer": "ipython3",
   "version": "3.9.7"
  }
 },
 "nbformat": 4,
 "nbformat_minor": 5
}
