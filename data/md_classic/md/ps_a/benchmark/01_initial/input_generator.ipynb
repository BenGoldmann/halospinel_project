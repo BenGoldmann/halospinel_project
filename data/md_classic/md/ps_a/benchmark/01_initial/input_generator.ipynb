{
 "cells": [
  {
   "cell_type": "code",
   "execution_count": 2,
   "metadata": {},
   "outputs": [],
   "source": [
    "# For Schottky\n",
    "\n",
    "import pymatgen as mg\n",
    "from random import sample\n",
    "from pymatgen.io.cif import CifWriter\n",
    "from pymatgen.core import Lattice, Structure, Molecule\n",
    "\n",
    "structure = Structure.from_file(\"unit.cif\")\n",
    "\n",
    "structure.make_supercell([3,3,3])\n",
    "\n",
    "#Export as .cif\n",
    "\n",
    "w = CifWriter(structure)\n",
    "w.write_file('super.cif')"
   ]
  },
  {
   "cell_type": "code",
   "execution_count": null,
   "metadata": {},
   "outputs": [],
   "source": []
  }
 ],
 "metadata": {
  "kernelspec": {
   "display_name": "Python 3 (ipykernel)",
   "language": "python",
   "name": "python3"
  },
  "language_info": {
   "codemirror_mode": {
    "name": "ipython",
    "version": 3
   },
   "file_extension": ".py",
   "mimetype": "text/x-python",
   "name": "python",
   "nbconvert_exporter": "python",
   "pygments_lexer": "ipython3",
   "version": "3.9.7"
  }
 },
 "nbformat": 4,
 "nbformat_minor": 4
}
