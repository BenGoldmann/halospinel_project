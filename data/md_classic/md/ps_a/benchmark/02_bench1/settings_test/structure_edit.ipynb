{
 "cells": [
  {
   "cell_type": "code",
   "execution_count": 6,
   "metadata": {},
   "outputs": [],
   "source": [
    "# Script takes all .cif strucutres and converts them to 3x3x3 supercells\n",
    "\n",
    "import glob\n",
    "from pymatgen.io.cif import CifWriter\n",
    "from pymatgen.core.structure import Structure\n",
    "\n",
    "unit = glob.glob('*.cif')\n",
    "\n",
    "for u in unit:\n",
    "    structure = Structure.from_file(u)\n",
    "    structure.make_supercell([8,8,8])\n",
    "    w = CifWriter(structure)\n",
    "    w.write_file(f'{u[:-4]}_8x8x8.cif')"
   ]
  },
  {
   "cell_type": "code",
   "execution_count": 7,
   "metadata": {},
   "outputs": [],
   "source": [
    "# Script to convert supercells to .lmp\n",
    "\n",
    "import glob\n",
    "import subprocess\n",
    "\n",
    "supers = glob.glob('*8.cif')\n",
    "\n",
    "for s in supers:\n",
    "    process = subprocess.run(['atomsk', s, '-properties', 'charges.txt', 'lammps'])"
   ]
  },
  {
   "cell_type": "code",
   "execution_count": 5,
   "metadata": {},
   "outputs": [],
   "source": [
    "# Move to Michael\n",
    "\n",
    "import glob\n",
    "import subprocess\n",
    "\n",
    "lammps = glob.glob('*lmp')\n",
    "\n",
    "for l in lammps:\n",
    "    process = subprocess.run(['scp', l, 'michael:halospinel/benchmark/4x4x4/4x4x4.lmp'])"
   ]
  },
  {
   "cell_type": "code",
   "execution_count": null,
   "metadata": {},
   "outputs": [],
   "source": []
  }
 ],
 "metadata": {
  "kernelspec": {
   "display_name": "Python 3",
   "language": "python",
   "name": "python3"
  },
  "language_info": {
   "codemirror_mode": {
    "name": "ipython",
    "version": 3
   },
   "file_extension": ".py",
   "mimetype": "text/x-python",
   "name": "python",
   "nbconvert_exporter": "python",
   "pygments_lexer": "ipython3",
   "version": "3.8.5"
  }
 },
 "nbformat": 4,
 "nbformat_minor": 4
}
