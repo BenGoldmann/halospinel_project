{
 "cells": [
  {
   "cell_type": "code",
   "execution_count": 11,
   "metadata": {},
   "outputs": [
    {
     "name": "stdout",
     "output_type": "stream",
     "text": [
      "8x8x8 | damp=0.1 | al - 1.5585115585955716\n"
     ]
    },
    {
     "data": {
      "text/plain": [
       "10001"
      ]
     },
     "execution_count": 11,
     "metadata": {},
     "output_type": "execute_result"
    }
   ],
   "source": [
    "import re\n",
    "import numpy as np\n",
    "\n",
    "super_8_file = open('8_01_al/log.lammps')\n",
    "\n",
    "super_8_line = super_8_file.readlines()\n",
    "\n",
    "super_8_data = super_8_line[173:10174]\n",
    "\n",
    "time = []\n",
    "time_scaled = []\n",
    "super_8_sorted = []\n",
    "f_var_8 = 0\n",
    "super_8_energy = []\n",
    "super_8_temp_ave = []\n",
    "super_8_energy_unit = []\n",
    "\n",
    "for dat in super_8_data[:9950]:\n",
    "    split = re.split(' +', dat)\n",
    "    time.append(float(split[1]))\n",
    "    \n",
    "for dat in super_8_data[9950:]:\n",
    "    split = re.split(' +', dat)\n",
    "    time.append(float(split[0]))\n",
    "    \n",
    "for dat in time:\n",
    "    time_scaled.append(dat/1000000)\n",
    "\n",
    "    \n",
    "    \n",
    "for dat in super_8_data[:9950]:\n",
    "    split = re.split(' +', dat)\n",
    "    super_8_sorted.append(float(split[2]))\n",
    "    \n",
    "for dat in super_8_data[9950:]:\n",
    "    split = re.split(' +', dat)\n",
    "    super_8_sorted.append(float(split[1]))\n",
    "\n",
    "    \n",
    "    \n",
    "for dat in super_8_data[:9950]:\n",
    "    split = re.split(' +', dat)\n",
    "    super_8_energy.append(float(split[5]))\n",
    "    \n",
    "for dat in super_8_data[9950:]:\n",
    "    split = re.split(' +', dat)\n",
    "    super_8_energy.append(float(split[4]))\n",
    "\n",
    "    \n",
    "    \n",
    "for dat in super_8_sorted[:100]:\n",
    "    diff = (dat - 300)**2\n",
    "    f_var_8 = f_var_8 + diff\n",
    "    \n",
    "f_var_8 = np.sqrt(f_var_8/100)\n",
    "    \n",
    "print(f'8x8x8 | damp=0.1 | al - {f_var_8}')      \n",
    "    \n",
    "summ = 0    \n",
    "    \n",
    "for dat in super_8_sorted:\n",
    "    summ = summ + float(dat)\n",
    "    super_8_temp_ave.append(summ/(len(super_8_temp_ave)+1))\n",
    "    \n",
    "for dat in super_8_energy:\n",
    "    super_8_energy_unit.append(dat/(27648))\n",
    "    \n",
    "len(super_8_sorted)"
   ]
  },
  {
   "cell_type": "code",
   "execution_count": 40,
   "metadata": {},
   "outputs": [
    {
     "data": {
      "image/png": "[encoded data removed]",
      "text/plain": [
       "<Figure size 432x288 with 1 Axes>"
      ]
     },
     "metadata": {
      "needs_background": "light"
     },
     "output_type": "display_data"
    }
   ],
   "source": [
    "import matplotlib.pyplot as plt\n",
    "\n",
    "plt.plot(time_scaled, super_8_sorted)\n",
    "plt.ylim(280, 320)\n",
    "plt.ylabel('T (K)', size=12)\n",
    "plt.xlabel('t (ns)', size=12)\n",
    "\n",
    "def make_square_axes(ax):\n",
    "    \"\"\"Make an axes square in screen units.\n",
    "\n",
    "    Should be called after plotting.\n",
    "    \"\"\"\n",
    "    ax.set_aspect(1 / ax.get_data_ratio())\n",
    "\n",
    "make_square_axes(plt.gca())\n",
    "\n",
    "plt.savefig('temp.jpg', bbox_inches='tight', dpi=500)"
   ]
  },
  {
   "cell_type": "code",
   "execution_count": 39,
   "metadata": {},
   "outputs": [
    {
     "data": {
      "image/png": "[encoded data removed]",
      "text/plain": [
       "<Figure size 432x288 with 1 Axes>"
      ]
     },
     "metadata": {
      "needs_background": "light"
     },
     "output_type": "display_data"
    }
   ],
   "source": [
    "import matplotlib.pyplot as plt\n",
    "\n",
    "plt.plot(time_scaled, super_8_energy_unit)\n",
    "plt.ylabel('E/unit (eV)', size=12)\n",
    "plt.xlabel('t (ns)', size=12)\n",
    "\n",
    "plt.arrow(6, -6.9665, 0, -0.004, length_includes_head=True, zorder=5)\n",
    "\n",
    "def make_square_axes(ax):\n",
    "    \"\"\"Make an axes square in screen units.\n",
    "\n",
    "    Should be called after plotting.\n",
    "    \"\"\"\n",
    "    ax.set_aspect(1 / ax.get_data_ratio())\n",
    "\n",
    "make_square_axes(plt.gca())\n",
    "\n",
    "plt.savefig('ener.jpg', bbox_inches='tight', dpi=500)"
   ]
  },
  {
   "cell_type": "code",
   "execution_count": null,
   "metadata": {},
   "outputs": [],
   "source": [
    "import matplotlib.pyplot as plt\n",
    "\n",
    "plt.plot(time_scaled, super_8_temp_ave)\n",
    "plt.ylabel('Average T (K)')\n",
    "plt.xlabel('t (ns)')\n",
    "\n",
    "plt.savefig('temp_ave.jpg', bbox_inches='tight')"
   ]
  },
  {
   "cell_type": "code",
   "execution_count": null,
   "metadata": {},
   "outputs": [],
   "source": [
    "import matplotlib.pyplot as plt\n",
    "\n",
    "plt.plot(time_scaled[:100], super_8_sorted[:100])\n",
    "plt.ylim(280, 320)\n",
    "plt.ylabel('T (K)')\n",
    "plt.xlabel('t (ps)')\n",
    "plt.text(50, 282, 'mean dev.=1.56', fontweight='bold', fontstyle='oblique')\n",
    "\n",
    "plt.savefig('temp_early.jpg', bbox_inches='tight')"
   ]
  },
  {
   "cell_type": "code",
   "execution_count": null,
   "metadata": {},
   "outputs": [],
   "source": []
  }
 ],
 "metadata": {
  "kernelspec": {
   "display_name": "Python 3",
   "language": "python",
   "name": "python3"
  },
  "language_info": {
   "codemirror_mode": {
    "name": "ipython",
    "version": 3
   },
   "file_extension": ".py",
   "mimetype": "text/x-python",
   "name": "python",
   "nbconvert_exporter": "python",
   "pygments_lexer": "ipython3",
   "version": "3.8.10"
  }
 },
 "nbformat": 4,
 "nbformat_minor": 4
}
