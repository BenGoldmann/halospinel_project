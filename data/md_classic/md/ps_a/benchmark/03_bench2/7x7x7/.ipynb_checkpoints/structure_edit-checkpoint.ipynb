{
 "cells": [
  {
   "cell_type": "code",
   "execution_count": 2,
   "metadata": {},
   "outputs": [
    {
     "name": "stderr",
     "output_type": "stream",
     "text": [
      "/home/ben/.local/lib/python3.8/site-packages/pymatgen/io/cif.py:1126: UserWarning: Issues encountered while parsing CIF: Some fractional co-ordinates rounded to ideal values to avoid issues with finite precision.\n",
      "  warnings.warn(\"Issues encountered while parsing CIF: %s\" % \"\\n\".join(self.warnings))\n"
     ]
    }
   ],
   "source": [
    "# Script takes all .cif strucutres and converts them to 3x3x3 supercells\n",
    "\n",
    "import glob\n",
    "from pymatgen.io.cif import CifWriter\n",
    "from pymatgen.core.structure import Structure\n",
    "\n",
    "unit = glob.glob('*.cif')\n",
    "unit.sort()\n",
    "\n",
    "###### Set parameter ######\n",
    "size = 7 #NxNxN\n",
    "###########################\n",
    "\n",
    "for u in unit:\n",
    "    structure = Structure.from_file(u)\n",
    "    structure.make_supercell([size,size,size])\n",
    "    w = CifWriter(structure)\n",
    "    w.write_file(f'{u[:-4]}_{size}x{size}x{size}.cif')"
   ]
  },
  {
   "cell_type": "code",
   "execution_count": 4,
   "metadata": {},
   "outputs": [],
   "source": [
    "# Script to convert supercells to .lmp\n",
    "\n",
    "import glob\n",
    "import subprocess\n",
    "\n",
    "supers = glob.glob(f'*{size}.cif')\n",
    "supers.sort()\n",
    "\n",
    "for s in supers:\n",
    "    process = subprocess.run(['atomsk', s, '-properties', 'charges.txt', 'lammps'])"
   ]
  },
  {
   "cell_type": "code",
   "execution_count": 5,
   "metadata": {},
   "outputs": [],
   "source": [
    "# Script to create .inp file\n",
    "\n",
    "import glob\n",
    "import random\n",
    "\n",
    "###### Set parameter ######\n",
    "temps = [300] #K\n",
    "timestep = 0.001 #fs\n",
    "length = 10000000 #fs\n",
    "###########################\n",
    "\n",
    "structures = glob.glob('*.lmp')\n",
    "structures.sort()\n",
    "\n",
    "for structure in structures:\n",
    "    for temp in temps:\n",
    "        filename = (structure[:-4] + \"_\" + str(temp) + \"k.inp\")\n",
    "        target = open(filename, 'w+')\n",
    "        target.write(f\"\"\"\n",
    "# Input written to comply with LAMMPS 2017-08-11 00:00:00\n",
    "\n",
    "# Atomic Configuration\n",
    "units           metal\n",
    "boundary        p p p\n",
    "box             tilt large\n",
    "atom_style      charge\n",
    "read_data       {structure}\n",
    "group           lithium type 1\n",
    "group           scandium type 2\n",
    "group           chloride type 3\n",
    "variable        T1 equal {temp}\n",
    "variable        dt equal {timestep}\n",
    "\n",
    "# Potential Setup\n",
    "pair_style      buck/coul/long 12.0\n",
    "pair_coeff      * * 0.0 1.0 0.0\n",
    "pair_coeff      1 1    360.530000  0.161000   0.000000 # Li Li\n",
    "pair_coeff      1 3    421.040000  0.344000   0.000000 # Li Cl\n",
    "pair_coeff      3 3   1227.200000  0.321000  14.530000 # Cl Cl\n",
    "pair_coeff      2 3  12131.350000  0.250700   0.000000 # Sc Cl\n",
    "\n",
    "kspace_style    pppm 1e-05\n",
    "\n",
    "# General Setup\n",
    "timestep        ${{dt}}\n",
    "\n",
    "# Thermodynamic Information Output\n",
    "thermo_style    custom step temp epair emol etotal press lx ly lz fmax cpu cpuremain\n",
    "thermo          1000\n",
    "\n",
    "# Intial Atom Velocity\n",
    "velocity        all create ${{T1}} {random.randrange(1000000)} dist gaussian rot yes\n",
    "\n",
    "# Stage 0: npt_equilibriation\n",
    "restart         0\n",
    "fix             int all npt aniso 1.0 1.0 $(1000*dt) temp ${{T1}} ${{T1}} $(100*dt) \n",
    "run             50000\n",
    "\n",
    "# Stage 1: nvt_equilibriation\n",
    "unfix           int\n",
    "restart         0\n",
    "fix             int all nvt temp ${{T1}} ${{T1}} $(100*dt) \n",
    "run             6000000\n",
    "\n",
    "# Stage 2: main_nvt_simulation\n",
    "unfix           int\n",
    "compute         lithiummsd lithium msd com yes\n",
    "compute         scandiummsd scandium msd com yes\n",
    "compute         chloridemsd chloride msd com yes\n",
    "fix             lithiummsdt lithium ave/time 1 1 1000 c_lithiummsd[4] file {structure[:-4]}_{str(temp)}_li.txt\n",
    "fix             scandiummymsdt oxide ave/time 1 1 1000 c_scandiummsd[4] file {structure[:-4]}_{str(temp)}_sc.txt\n",
    "fix             chloridemymsdt chloride ave/time 1 1 1000 c_chloridemsd[4] file {structure[:-4]}_{str(temp)}_cl.txt\n",
    "dump            atom_info all custom 1000 {structure[:-4]}_{str(temp)}.lammpstrj element x y z q id type vx vy vz\n",
    "dump_modify     atom_info append yes\n",
    "dump_modify     atom_info sort id\n",
    "dump_modify     atom_info element Li Sc Cl\n",
    "restart         0\n",
    "fix             int all nvt temp ${{T1}} ${{T1}} $(100*dt) \n",
    "run             {length}\n",
    "\n",
    "# Final Commands\n",
    "variable        final_energy equal etotal\n",
    "print           \"final_energy: ${{'final_energy'}}\"\n",
    "print           \"END_OF_COMP\"\n",
    "\"\"\")"
   ]
  },
  {
   "cell_type": "code",
   "execution_count": 4,
   "metadata": {},
   "outputs": [],
   "source": [
    "# Script to create .sh file\n",
    "\n",
    "import glob\n",
    "\n",
    "inputs = glob.glob('*.inp')\n",
    "inputs.sort()\n",
    "\n",
    "###### Set parameter ######\n",
    "cores = 160\n",
    "time = str('48:00:00')\n",
    "###########################\n",
    "\n",
    "for inp in inputs:\n",
    "    filename = (inp[:-3] + \"sh\")\n",
    "    target = open(filename, 'w+')\n",
    "    target.write(f\"\"\"\n",
    "#!/bin/bash\n",
    "#$ -cwd\n",
    "#$ -S /bin/bash\n",
    "#$ -m n\n",
    "#$ -N {inp[0:3]}\n",
    "#$ -V\n",
    "#$ -o _scheduler-stdout.txt\n",
    "#$ -e _scheduler-stderr.txt\n",
    "#$ -P Gold\n",
    "#$ -A Faraday_CATMAT\n",
    "#$ -pe mpi {cores}\n",
    "#$ -l mem=314572K\n",
    "#$ -l h_rt={time}\n",
    "#$ -ac allow=A\n",
    "\n",
    "module load lammps/7Aug19/userintel/intel-2018\n",
    "\n",
    "'gerun' '/shared/ucl/apps/lammps/7Aug2019/USERINTEL/intel-2018/lammps/bin/lmp_default' '-in' '{inp}'\n",
    "\"\"\")"
   ]
  },
  {
   "cell_type": "code",
   "execution_count": 10,
   "metadata": {},
   "outputs": [],
   "source": [
    "# Script creates folders on Michael and moves files into folders\n",
    "\n",
    "for u in unit:\n",
    "    for temp in temps:\n",
    "        process = subprocess.run(['ssh', 'michael', 'mkdir', f'halospinel/long/{u[:-4]}'])\n",
    "        process2 = subprocess.run(['scp', f'{u[:-4]}_{size}x{size}x{size}.lmp', f'michael:halospinel/long/{u[:-4]}'])\n",
    "        process3 = subprocess.run(['scp', f'{u[:-4]}_{size}x{size}x{size}_{temp}k.inp', f'michael:halospinel/long/{u[:-4]}'])\n",
    "        process4 = subprocess.run(['scp', f'{u[:-4]}_{size}x{size}x{size}_{temp}k.sh', f'michael:halospinel/long/{u[:-4]}'])"
   ]
  },
  {
   "cell_type": "code",
   "execution_count": null,
   "metadata": {},
   "outputs": [],
   "source": [
    "# Script runs calculations on Michael\n",
    "\n",
    "for u in unit:\n",
    "    for temp in temps:\n",
    "        process = subprocess.run(['ssh', 'michael', 'qsub', f'halospinel/calcs/{u[:-4]}/{u[:-4]}_{size}x{size}x{size}_{temp}k.sh'])"
   ]
  },
  {
   "cell_type": "code",
   "execution_count": 8,
   "metadata": {},
   "outputs": [
    {
     "name": "stdout",
     "output_type": "stream",
     "text": [
      "['monoclinic.cif', 'triclinic.cif', 'z_dummy.cif']\n"
     ]
    }
   ],
   "source": [
    "print(unit)"
   ]
  },
  {
   "cell_type": "code",
   "execution_count": null,
   "metadata": {},
   "outputs": [],
   "source": []
  }
 ],
 "metadata": {
  "kernelspec": {
   "display_name": "Python 3",
   "language": "python",
   "name": "python3"
  },
  "language_info": {
   "codemirror_mode": {
    "name": "ipython",
    "version": 3
   },
   "file_extension": ".py",
   "mimetype": "text/x-python",
   "name": "python",
   "nbconvert_exporter": "python",
   "pygments_lexer": "ipython3",
   "version": "3.8.5"
  }
 },
 "nbformat": 4,
 "nbformat_minor": 4
}
