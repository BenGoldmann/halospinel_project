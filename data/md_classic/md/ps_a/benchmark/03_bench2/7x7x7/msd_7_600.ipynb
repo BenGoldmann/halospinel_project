{
 "cells": [
  {
   "cell_type": "code",
   "execution_count": 1,
   "metadata": {},
   "outputs": [
    {
     "name": "stdout",
     "output_type": "stream",
     "text": [
      "The diffusion coefficient for monoclinic 3x3x3 @300k is 3.859224131892746e-09 m^2/s\n",
      "The diffusion coefficient for triclinic 3x3x3 @300k is 4.100791248948291e-09 m^2/s\n",
      "The conductivity for monoclinic 3x3x3 @300k is 3.72697266236285 S/cm\n",
      "The conductivity for triclinic 3x3x3 @300k is 3.8357889131893548 S/cm\n"
     ]
    },
    {
     "data": {
      "image/png": "[encoded data removed]",
      "text/plain": [
       "<Figure size 432x288 with 1 Axes>"
      ]
     },
     "metadata": {
      "needs_background": "light"
     },
     "output_type": "display_data"
    }
   ],
   "source": [
    "import matplotlib.pyplot as plt\n",
    "import numpy as np\n",
    "\n",
    "# Import MSD files as lists:\n",
    "step, mono = np.loadtxt('mono/600k/monoclinic_7x7x7_600_li.txt', skiprows=2, unpack=True)\n",
    "step, tri = np.loadtxt('tri/600k/triclinic_7x7x7_600_li.txt', skiprows=2, unpack=True)\n",
    "\n",
    "steps = step / 1000000\n",
    "\n",
    "mono = mono - mono[1]\n",
    "tri = tri - tri[1]\n",
    "\n",
    "# Plot MSD:   \n",
    "plt.plot(steps[1:], mono[1:])\n",
    "plt.plot(steps[1:], tri[1:])\n",
    "\n",
    "plt.xlabel('time, ns', size = 12)\n",
    "plt.ylabel('MSD, $\\mathrm{A^2}$', size = 12)\n",
    "#plt.ylim(0, 4.8)\n",
    "plt.legend(['mono7', 'tri7'])\n",
    "\n",
    "# Find diffusion coefficient:\n",
    "mono_slope, intercept = np.polyfit(steps[6000:], mono[6000:], 1)\n",
    "mono_slope_standard_600 = float(mono_slope * (10 ** (-11)))\n",
    "tri_slope, intercept = np.polyfit(steps[6000:], tri[6000:], 1)\n",
    "tri_slope_standard_600 = float(tri_slope * (10 ** (-11)))\n",
    "\n",
    "print(f'The diffusion coefficient for monoclinic 3x3x3 @300k is {mono_slope_standard_600} m^2/s')\n",
    "print(f'The diffusion coefficient for triclinic 3x3x3 @300k is {tri_slope_standard_600} m^2/s')\n",
    "\n",
    "mono_cond = (((1.602 * 10**(-19))**2 * (1.559 * 10**(28)) * mono_slope_standard_600)/((1.381 * 10**(-23)) * 300) * 10**(-2))\n",
    "tri_cond = (((1.602 * 10**(-19))**2 * (1.510 * 10**(28)) * tri_slope_standard_600)/((1.381 * 10**(-23)) * 300) * 10**(-2))\n",
    "\n",
    "print(f'The conductivity for monoclinic 3x3x3 @300k is {mono_cond} S/cm')\n",
    "print(f'The conductivity for triclinic 3x3x3 @300k is {tri_cond} S/cm')\n",
    "\n",
    "# Conversion of diffusion coefficient to conductivity as follows:\n",
    "# conducitivity = (charge**2 * charge carrier concentration * diffusion coefficient) / boltzmann constant * temperature\n",
    "#\n",
    "# charge is electron charge (sodium singularly charged), so 1.602 * 10**(-19) C\n",
    "#\n",
    "# charge carrier concentration calculated as number of Li/Sc/Cl ions in the simulation cell/cell dimensions\n",
    "#\n",
    "# diffusion coefficient calcualted as above fromm MSD plot slopes\n",
    "#\n",
    "# boltzmann constant = 1.381 * 10**(-23) J/K\n",
    "#\n",
    "# temperature varies with experiment\n",
    "#\n",
    "# !!! 10**(-2) added to get final results in S/cm as conventionally displayed\n",
    "\n",
    "def make_square_axes(ax):\n",
    "    \"\"\"Make an axes square in screen units.\n",
    "\n",
    "    Should be called after plotting.\n",
    "    \"\"\"\n",
    "    ax.set_aspect(1 / ax.get_data_ratio())\n",
    "\n",
    "make_square_axes(plt.gca())\n",
    "\n",
    "plt.savefig('msd_7_600.jpg', bbox_inches='tight', dpi=500)"
   ]
  },
  {
   "cell_type": "code",
   "execution_count": null,
   "metadata": {},
   "outputs": [],
   "source": []
  }
 ],
 "metadata": {
  "kernelspec": {
   "display_name": "Python 3 (ipykernel)",
   "language": "python",
   "name": "python3"
  },
  "language_info": {
   "codemirror_mode": {
    "name": "ipython",
    "version": 3
   },
   "file_extension": ".py",
   "mimetype": "text/x-python",
   "name": "python",
   "nbconvert_exporter": "python",
   "pygments_lexer": "ipython3",
   "version": "3.9.9"
  }
 },
 "nbformat": 4,
 "nbformat_minor": 4
}
