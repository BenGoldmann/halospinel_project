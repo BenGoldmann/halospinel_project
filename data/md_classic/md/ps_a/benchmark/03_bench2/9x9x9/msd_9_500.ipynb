{
 "cells": [
  {
   "cell_type": "code",
   "execution_count": 1,
   "metadata": {},
   "outputs": [
    {
     "name": "stdout",
     "output_type": "stream",
     "text": [
      "The diffusion coefficient for monoclinic 3x3x3 @500k is 9.761039587404505e-10 m^2/s\n",
      "The diffusion coefficient for triclinic 3x3x3 @500k is 8.59289246903042e-10 m^2/s\n",
      "The conductivity for monoclinic 3x3x3 @500k is 0.5655923541396818 S/cm\n",
      "The conductivity for triclinic 3x3x3 @500k is 0.48225602812708496 S/cm\n"
     ]
    },
    {
     "data": {
      "image/png": "[encoded data removed]",
      "text/plain": [
       "<Figure size 432x288 with 1 Axes>"
      ]
     },
     "metadata": {
      "needs_background": "light"
     },
     "output_type": "display_data"
    }
   ],
   "source": [
    "import matplotlib.pyplot as plt\n",
    "import numpy as np\n",
    "\n",
    "# Import MSD files as lists:\n",
    "step, mono = np.loadtxt('mono/500k/monoclinic_9x9x9_500_li.txt', skiprows=2, unpack=True)\n",
    "step, tri = np.loadtxt('tri/500k/triclinic_9x9x9_500_li.txt', skiprows=2, unpack=True)\n",
    "\n",
    "steps = step / 1000000\n",
    "\n",
    "mono = mono - mono[1]\n",
    "tri = tri - tri[1]\n",
    "\n",
    "# Plot MSD:   \n",
    "plt.plot(steps[1:], mono[1:])\n",
    "plt.plot(steps[1:], tri[1:])\n",
    "\n",
    "plt.xlabel('time, ns', size = 12)\n",
    "plt.ylabel('MSD, A^2', size = 12)\n",
    "#plt.ylim(0, 4.8)\n",
    "plt.legend(['mono9', 'tri9'])\n",
    "\n",
    "# Find diffusion coefficient:\n",
    "mono_slope, mono_intercept = np.polyfit(steps[6000:], mono[6000:], 1)\n",
    "mono_slope_standard_500 = float(mono_slope * (10 ** (-11)))\n",
    "tri_slope, tri_intercept = np.polyfit(steps[6000:], tri[6000:], 1)\n",
    "tri_slope_standard_500 = float(tri_slope * (10 ** (-11)))\n",
    "\n",
    "#mono_fitted = []\n",
    "#tri_fitted =[]\n",
    "\n",
    "#for s in steps[6000:]:\n",
    "#    mono_fitted.append(s * mono_slope + mono_intercept)\n",
    "#    tri_fitted.append(s * tri_slope + tri_intercept)\n",
    "\n",
    "#plt.plot(steps[6000:], mono_fitted)\n",
    "#plt.plot(steps[6000:], tri_fitted)\n",
    "\n",
    "print(f'The diffusion coefficient for monoclinic 3x3x3 @500k is {mono_slope_standard_500} m^2/s')\n",
    "print(f'The diffusion coefficient for triclinic 3x3x3 @500k is {tri_slope_standard_500} m^2/s')\n",
    "\n",
    "mono_cond = (((1.602 * 10**(-19))**2 * (1.559 * 10**(28)) * mono_slope_standard_500)/((1.381 * 10**(-23)) * 500) * 10**(-2))\n",
    "tri_cond = (((1.602 * 10**(-19))**2 * (1.510 * 10**(28)) * tri_slope_standard_500)/((1.381 * 10**(-23)) * 500) * 10**(-2))\n",
    "\n",
    "print(f'The conductivity for monoclinic 3x3x3 @500k is {mono_cond} S/cm')\n",
    "print(f'The conductivity for triclinic 3x3x3 @500k is {tri_cond} S/cm')\n",
    "\n",
    "# Conversion of diffusion coefficient to conductivity as follows:\n",
    "# conducitivity = (charge**2 * charge carrier concentration * diffusion coefficient) / boltzmann constant * temperature\n",
    "#\n",
    "# charge is electron charge (sodium singularly charged), so 1.602 * 10**(-19) C\n",
    "#\n",
    "# charge carrier concentration calculated as number of Li/Sc/Cl ions in the simulation cell/cell dimensions\n",
    "#\n",
    "# diffusion coefficient calcualted as above fromm MSD plot slopes\n",
    "#\n",
    "# boltzmann constant = 1.381 * 10**(-23) J/K\n",
    "#\n",
    "# temperature varies with experiment\n",
    "#\n",
    "# !!! 10**(-2) added to get final results in S/cm as conventionally displayed\n",
    "\n",
    "def make_square_axes(ax):\n",
    "    \"\"\"Make an axes square in screen units.\n",
    "\n",
    "    Should be called after plotting.\n",
    "    \"\"\"\n",
    "    ax.set_aspect(1 / ax.get_data_ratio())\n",
    "\n",
    "make_square_axes(plt.gca())\n",
    "\n",
    "plt.savefig('msd_9_500.jpg', bbox_inches='tight', dpi=500)"
   ]
  },
  {
   "cell_type": "code",
   "execution_count": null,
   "metadata": {},
   "outputs": [],
   "source": []
  }
 ],
 "metadata": {
  "kernelspec": {
   "display_name": "Python 3",
   "language": "python",
   "name": "python3"
  },
  "language_info": {
   "codemirror_mode": {
    "name": "ipython",
    "version": 3
   },
   "file_extension": ".py",
   "mimetype": "text/x-python",
   "name": "python",
   "nbconvert_exporter": "python",
   "pygments_lexer": "ipython3",
   "version": "3.8.10"
  }
 },
 "nbformat": 4,
 "nbformat_minor": 5
}
