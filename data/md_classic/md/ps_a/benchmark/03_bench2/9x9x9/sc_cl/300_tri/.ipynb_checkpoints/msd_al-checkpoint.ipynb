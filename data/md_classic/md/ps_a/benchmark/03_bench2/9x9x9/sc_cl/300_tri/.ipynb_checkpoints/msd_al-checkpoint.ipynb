{
 "cells": [
  {
   "cell_type": "markdown",
   "metadata": {},
   "source": [
    "# 600 K test"
   ]
  },
  {
   "cell_type": "code",
   "execution_count": 8,
   "metadata": {},
   "outputs": [
    {
     "name": "stdout",
     "output_type": "stream",
     "text": [
      "The diffusion coefficient for Li @600k is 3.6813399806893925e-09 m^2/s\n",
      "The diffusion coefficient for Sc @600k is 8.492362933268768e-11 m^2/s\n",
      "The diffusion coefficient for Cl @600k is 4.084026136670077e-10 m^2/s\n",
      "The conductivity for Li @600k is 1.777592205063727 S/cm\n",
      "The conductivity for Sc @600k is 0.012060018683729853 S/cm\n",
      "The conductivity for Cl @600k is 0.3711322690428325 S/cm\n"
     ]
    },
    {
     "data": {
      "image/png": "[encoded data removed]",
      "text/plain": [
       "<Figure size 432x288 with 1 Axes>"
      ]
     },
     "metadata": {
      "needs_background": "light"
     },
     "output_type": "display_data"
    }
   ],
   "source": [
    "import matplotlib.pyplot as plt\n",
    "import numpy as np\n",
    "\n",
    "# Import MSD files as lists:\n",
    "li_step, li = np.loadtxt('triclinic_9x9x9_600_li.txt', skiprows=2, unpack=True)\n",
    "sc_step, sc = np.loadtxt('triclinic_9x9x9_600_sc.txt', skiprows=2, unpack=True)\n",
    "cl_step, cl = np.loadtxt('triclinic_9x9x9_600_cl.txt', skiprows=2, unpack=True)\n",
    "\n",
    "steps = li_step / 1000000\n",
    "\n",
    "li = li - li[1]\n",
    "sc = sc - sc[1]\n",
    "cl = cl - cl[1]\n",
    "\n",
    "# Plot MSD:   \n",
    "plt.plot(steps[1:], li[1:])\n",
    "plt.plot(steps[1:], sc[1:])\n",
    "plt.plot(steps[1:], cl[1:])\n",
    "\n",
    "plt.xlabel('time, ns', size = 12)\n",
    "plt.ylabel('MSD, A^2', size = 12)\n",
    "plt.title('MSD @600K', size=16)\n",
    "\n",
    "# Find diffusion coefficient:\n",
    "li_slope, intercept = np.polyfit(steps[6000:], li[6000:], 1)\n",
    "li_slope_standard_600 = float(li_slope * (10 ** (-11)))\n",
    "sc_slope, intercept = np.polyfit(steps[6000:], sc[6000:], 1)\n",
    "sc_slope_standard_600 = float(sc_slope * (10 ** (-11)))\n",
    "cl_slope, intercept = np.polyfit(steps[6000:], cl[6000:], 1)\n",
    "cl_slope_standard_600 = float(cl_slope * (10 ** (-11)))\n",
    "\n",
    "print(f'The diffusion coefficient for Li @600k is {li_slope_standard_600} m^2/s')\n",
    "print(f'The diffusion coefficient for Sc @600k is {sc_slope_standard_600} m^2/s')\n",
    "print(f'The diffusion coefficient for Cl @600k is {cl_slope_standard_600} m^2/s')\n",
    "\n",
    "li_cond = (((1.602 * 10**(-19))**2 * (1.559 * 10**(28)) * li_slope_standard_600)/((1.381 * 10**(-23)) * 600) * 10**(-2))\n",
    "sc_cond = (((1.602 * 10**(-19))**2 * (4.585 * 10**(27)) * sc_slope_standard_600)/((1.381 * 10**(-23)) * 600) * 10**(-2))\n",
    "cl_cond = (((1.602 * 10**(-19))**2 * (2.934 * 10**(28)) * cl_slope_standard_600)/((1.381 * 10**(-23)) * 600) * 10**(-2))\n",
    "\n",
    "print(f'The conductivity for Li @600k is {li_cond} S/cm')\n",
    "print(f'The conductivity for Sc @600k is {sc_cond} S/cm')\n",
    "print(f'The conductivity for Cl @600k is {cl_cond} S/cm')\n",
    "\n",
    "# Conversion of diffusion coefficient to conductivity as follows:\n",
    "# conducitivity = (charge**2 * charge carrier concentration * diffusion coefficient) / boltzmann constant * temperature\n",
    "#\n",
    "# charge is electron charge (sodium singularly charged), so 1.602 * 10**(-19) C\n",
    "#\n",
    "# charge carrier concentration calculated as number of Li/Sc/Cl ions in the simulation cell/cell dimensions\n",
    "#\n",
    "# diffusion coefficient calcualted as above fromm MSD plot slopes\n",
    "#\n",
    "# boltzmann constant = 1.381 * 10**(-23) J/K\n",
    "#\n",
    "# temperature varies with experiment\n",
    "#\n",
    "# !!! 10**(-2) added to get final results in S/cm as conventionally displayed\n",
    "\n",
    "def make_square_axes(ax):\n",
    "    \"\"\"Make an axes square in screen units.\n",
    "\n",
    "    Should be called after plotting.\n",
    "    \"\"\"\n",
    "    ax.set_aspect(1 / ax.get_data_ratio())\n",
    "\n",
    "make_square_axes(plt.gca())\n",
    "\n",
    "plt.savefig('msd_all_600.jpg', bbox_inches='tight', dpi=500)"
   ]
  },
  {
   "cell_type": "code",
   "execution_count": null,
   "metadata": {},
   "outputs": [],
   "source": []
  }
 ],
 "metadata": {
  "kernelspec": {
   "display_name": "Python 3 (ipykernel)",
   "language": "python",
   "name": "python3"
  },
  "language_info": {
   "codemirror_mode": {
    "name": "ipython",
    "version": 3
   },
   "file_extension": ".py",
   "mimetype": "text/x-python",
   "name": "python",
   "nbconvert_exporter": "python",
   "pygments_lexer": "ipython3",
   "version": "3.9.9"
  }
 },
 "nbformat": 4,
 "nbformat_minor": 4
}
