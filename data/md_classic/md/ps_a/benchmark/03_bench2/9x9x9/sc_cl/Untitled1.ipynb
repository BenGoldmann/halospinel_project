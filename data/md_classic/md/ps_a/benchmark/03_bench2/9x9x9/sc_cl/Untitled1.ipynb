{
 "cells": [
  {
   "cell_type": "code",
   "execution_count": 4,
   "id": "15bac043-ed09-43ee-aa10-f71aac2a9479",
   "metadata": {},
   "outputs": [
    {
     "name": "stdout",
     "output_type": "stream",
     "text": [
      "[ 6.05   6.051  6.052 ... 16.048 16.049 16.05 ]\n",
      "{'400_tri/monoclinic_9x9x9_400_cl.txt': 0.0016729952230886385}\n"
     ]
    },
    {
     "data": {
      "image/png": "[encoded data removed]",
      "text/plain": [
       "<Figure size 432x288 with 1 Axes>"
      ]
     },
     "metadata": {
      "needs_background": "light"
     },
     "output_type": "display_data"
    }
   ],
   "source": [
    "import matplotlib.pyplot as plt\n",
    "import numpy as np\n",
    "import glob\n",
    "\n",
    "##########\n",
    "d = 3\n",
    "charge = 1\n",
    "conc = 2.84 * 10**(28)\n",
    "haven = 1\n",
    "##########\n",
    "\n",
    "red = glob.glob('400_tri/monoclinic_9x9x9_400_cl.txt')\n",
    "\n",
    "data = [red]\n",
    "\n",
    "diffusion_dict = {}\n",
    "conductivity_dict = {}\n",
    "\n",
    "def plot_msd(msd_file):  \n",
    "\n",
    "    # Import MSD files as lists:\n",
    "    step, msd = np.loadtxt(msd_file, skiprows=2, unpack=True)\n",
    "    \n",
    "    # Find T:\n",
    "    T = 400\n",
    "    \n",
    "    # Convert to nanoseconds:\n",
    "    steps = step / 1000000\n",
    "    print(steps)\n",
    "    \n",
    "    # Remove initial jump:\n",
    "    msd = msd - msd[4000]\n",
    "\n",
    "    # Plot MSD:   \n",
    "    plt.plot(steps[4000:], msd[4000:])\n",
    "    \n",
    "    # Find diffusion coefficient:\n",
    "    slope, intercept = np.polyfit(steps[4000:], msd[4000:], 1)\n",
    "    dc = (slope * (10 ** (-11))) / (2*d)\n",
    "    diffusion_dict[msd_file] = dc\n",
    "    \n",
    "        # Diffusion coefficient = d(msd)/d(t) / 2d\n",
    "        #\n",
    "        # unit conversion: A^2 to m^2 in numerator is 10**-20; ns to s in denominator is 10**9, so unit conversion is 10**-11\n",
    "    \n",
    "    # Find conductivity:\n",
    "    cond = (((charge * 1.602 * 10**(-19))**2 * conc * dc * haven)/((1.381 * 10**(-23)) * T) * 10**(-2))\n",
    "    conductivity_dict[msd_file] = cond\n",
    "    \n",
    "        # Conversion of diffusion coefficient to conductivity as follows:\n",
    "        #\n",
    "        # conducitivity = (charge**2 * charge carrier concentration * diffusion coefficient) / boltzmann constant * temperature\n",
    "        #\n",
    "        # charge is electron charge (sodium singularly charged), so 1.602 * 10**(-19) C\n",
    "        #\n",
    "        # charge carrier concentration calculated as number of Li/Sc/Cl ions in the simulation cell/cell dimensions\n",
    "        #\n",
    "        # diffusion coefficient calcualted as above fromm MSD plot slopes\n",
    "        #\n",
    "        # boltzmann constant = 1.381 * 10**(-23) J/K\n",
    "        #\n",
    "        # temperature varies with experiment\n",
    "        #\n",
    "        # !!! 10**(-2) added to get final results in S/cm as conventionally displayed\n",
    "    \n",
    "for dat in data:\n",
    "    for f in dat:\n",
    "        plot_msd(f)\n",
    "    \n",
    "plt.xlabel('time (ns)', size = 12)\n",
    "plt.ylabel('MSD ($\\mathrm{\\AA^2})$', size = 12)\n",
    "\n",
    "plt.text(12.5, 1.5, '$\\mathrm{1.67 x 10^{-3}\\ S\\ cm^{-1}}$', size=12)\n",
    "\n",
    "print(conductivity_dict)\n",
    "\n",
    "def make_square_axes(ax):\n",
    "    \"\"\"Make an axes square in screen units.\n",
    "\n",
    "    Should be called after plotting.\n",
    "    \"\"\"\n",
    "    ax.set_aspect(1 / ax.get_data_ratio())\n",
    "\n",
    "make_square_axes(plt.gca())\n",
    "\n",
    "plt.savefig('msd_cl.jpg', bbox_inches='tight', dpi=500)"
   ]
  },
  {
   "cell_type": "code",
   "execution_count": null,
   "id": "1ec6cff5-6ca0-401b-b0a3-8ba17a951130",
   "metadata": {},
   "outputs": [],
   "source": []
  }
 ],
 "metadata": {
  "kernelspec": {
   "display_name": "Python 3 (ipykernel)",
   "language": "python",
   "name": "python3"
  },
  "language_info": {
   "codemirror_mode": {
    "name": "ipython",
    "version": 3
   },
   "file_extension": ".py",
   "mimetype": "text/x-python",
   "name": "python",
   "nbconvert_exporter": "python",
   "pygments_lexer": "ipython3",
   "version": "3.9.7"
  }
 },
 "nbformat": 4,
 "nbformat_minor": 5
}
