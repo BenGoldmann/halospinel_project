{
 "cells": [
  {
   "cell_type": "markdown",
   "metadata": {},
   "source": [
    "# Organise data"
   ]
  },
  {
   "cell_type": "code",
   "execution_count": 1,
   "metadata": {},
   "outputs": [
    {
     "name": "stdout",
     "output_type": "stream",
     "text": [
      "mono - 1.2341879097304433\n",
      "tri - 1.2424191275445207\n"
     ]
    }
   ],
   "source": [
    "import re\n",
    "import numpy as np\n",
    "\n",
    "mono_file = open('mono/300k/log.lammps')\n",
    "tri_file = open('tri/300k/log.lammps')\n",
    "\n",
    "mono_line = mono_file.readlines()\n",
    "tri_line = tri_file.readlines()\n",
    "\n",
    "mono_data = mono_line[176:6177] + mono_line[6235:16235]\n",
    "tri_data = tri_line[176:6177] + tri_line[6235:16235]\n",
    "\n",
    "time = []\n",
    "time_scaled = []\n",
    "time2 = []\n",
    "time2_scaled = []\n",
    "\n",
    "mono_sorted = []\n",
    "tri_sorted = []\n",
    "\n",
    "mono_energy = []\n",
    "mono_energy_unit = []\n",
    "tri_energy = []\n",
    "tri_energy_unit = []\n",
    "\n",
    "\n",
    "for dat in mono_data[:9950]:\n",
    "    split = re.split(' +', dat)\n",
    "    mono_sorted.append(float(split[2]))\n",
    "    time.append(float(split[1]))\n",
    "    \n",
    "for dat in mono_data[9950:]:\n",
    "    split = re.split(' +', dat)\n",
    "    mono_sorted.append(float(split[1]))\n",
    "    time.append(float(split[0]))\n",
    "    \n",
    "for dat in tri_data[:9950]:\n",
    "    split = re.split(' +', dat)\n",
    "    tri_sorted.append(float(split[2]))\n",
    "    time2.append(float(split[1]))\n",
    "    \n",
    "for dat in tri_data[9950:]:\n",
    "    split = re.split(' +', dat)\n",
    "    tri_sorted.append(float(split[1]))\n",
    "    time2.append(float(split[0]))\n",
    "\n",
    "    \n",
    "for t in time:\n",
    "    time_scaled.append(t/1000000)\n",
    "    \n",
    "for t in time2:\n",
    "    time2_scaled.append(t/1000000)\n",
    "\n",
    "####################    \n",
    "    \n",
    "f_var_mono = 0\n",
    "f_var_tri = 0\n",
    "\n",
    "for dat in mono_sorted:\n",
    "    diff = (dat - 300)**2\n",
    "    f_var_mono = f_var_mono + diff\n",
    "    \n",
    "f_var_mono = np.sqrt(f_var_mono/len(mono_sorted))\n",
    "\n",
    "print(f'mono - {f_var_mono}')    \n",
    "\n",
    "\n",
    "for dat in tri_sorted:\n",
    "    diff = (dat - 300)**2\n",
    "    f_var_tri = f_var_tri + diff\n",
    "    \n",
    "f_var_tri = np.sqrt(f_var_tri/len(tri_sorted))\n",
    "    \n",
    "print(f'tri - {f_var_tri}')  \n",
    " \n",
    "    \n",
    "###################    \n",
    "\n",
    "for dat in mono_data[:9950]:\n",
    "    split = re.split(' +', dat)\n",
    "    mono_energy.append(float(split[5]))\n",
    "    \n",
    "for dat in mono_data[9950:]:\n",
    "    split = re.split(' +', dat)\n",
    "    mono_energy.append(float(split[4]))\n",
    "    \n",
    "for dat in mono_energy:\n",
    "    mono_energy_unit.append(dat/39366)\n",
    "    \n",
    "for dat in tri_data[:9950]:\n",
    "    split = re.split(' +', dat)\n",
    "    tri_energy.append(float(split[5]))\n",
    "    \n",
    "for dat in tri_data[9950:]:\n",
    "    split = re.split(' +', dat)\n",
    "    tri_energy.append(float(split[4]))\n",
    "    \n",
    "for dat in tri_energy:\n",
    "    tri_energy_unit.append(dat/39366)"
   ]
  },
  {
   "cell_type": "code",
   "execution_count": 2,
   "metadata": {},
   "outputs": [
    {
     "data": {
      "image/png": "[encoded data removed]",
      "text/plain": [
       "<Figure size 432x288 with 1 Axes>"
      ]
     },
     "metadata": {
      "needs_background": "light"
     },
     "output_type": "display_data"
    }
   ],
   "source": [
    "import matplotlib.pyplot as plt\n",
    "import matplotlib.patches as patches\n",
    "import numpy as np\n",
    "\n",
    "plt.plot(time_scaled, mono_sorted)\n",
    "plt.plot(time2_scaled, tri_sorted)\n",
    "plt.ylim(280, 320)\n",
    "plt.legend(['mono9', 'tri9'], loc='upper left')\n",
    "\n",
    "plt.ylabel('T (K)', size=12)\n",
    "plt.xlabel('t (ns)', size=12)\n",
    "\n",
    "def make_square_axes(ax):\n",
    "    \"\"\"Make an axes square in screen units.\n",
    "\n",
    "    Should be called after plotting.\n",
    "    \"\"\"\n",
    "    ax.set_aspect(1 / ax.get_data_ratio())\n",
    "    \n",
    "make_square_axes(plt.gca())\n",
    "\n",
    "plt.savefig('temp_9_300.jpg', bbox_inches='tight', dpi=500)"
   ]
  },
  {
   "cell_type": "code",
   "execution_count": 3,
   "metadata": {},
   "outputs": [
    {
     "data": {
      "image/png": "[encoded data removed]",
      "text/plain": [
       "<Figure size 432x288 with 1 Axes>"
      ]
     },
     "metadata": {
      "needs_background": "light"
     },
     "output_type": "display_data"
    }
   ],
   "source": [
    "import matplotlib.pyplot as plt\n",
    "import numpy as np\n",
    "\n",
    "plt.plot(time_scaled, mono_energy_unit)\n",
    "plt.plot(time2_scaled, tri_energy_unit)\n",
    "plt.legend(['mono9', 'tri9'], loc='upper right')\n",
    "plt.ylim(-6.975, -6.96)\n",
    "\n",
    "plt.ylabel('E/unit (eV)', size=12)\n",
    "plt.xlabel('t (ns)', size=12)\n",
    "\n",
    "def make_square_axes(ax):\n",
    "    \"\"\"Make an axes square in screen units.\n",
    "\n",
    "    Should be called after plotting.\n",
    "    \"\"\"\n",
    "    ax.set_aspect(1 / ax.get_data_ratio())\n",
    "    \n",
    "make_square_axes(plt.gca())\n",
    "\n",
    "plt.ylabel('E/unit (eV)', size=12)\n",
    "plt.xlabel('t (ns)', size=12)\n",
    "\n",
    "plt.savefig('ener_9_300.jpg', bbox_inches='tight', dpi=500)"
   ]
  },
  {
   "cell_type": "code",
   "execution_count": 6,
   "metadata": {},
   "outputs": [],
   "source": [
    "file = open('energy_9x9x9.txt', 'w')\n",
    "\n",
    "for t, e in zip(time2_scaled, tri_energy_unit):\n",
    "    file.write(f'{t} {e}\\n')"
   ]
  },
  {
   "cell_type": "code",
   "execution_count": null,
   "metadata": {},
   "outputs": [],
   "source": []
  }
 ],
 "metadata": {
  "kernelspec": {
   "display_name": "Python 3 (ipykernel)",
   "language": "python",
   "name": "python3"
  },
  "language_info": {
   "codemirror_mode": {
    "name": "ipython",
    "version": 3
   },
   "file_extension": ".py",
   "mimetype": "text/x-python",
   "name": "python",
   "nbconvert_exporter": "python",
   "pygments_lexer": "ipython3",
   "version": "3.9.7"
  }
 },
 "nbformat": 4,
 "nbformat_minor": 4
}
