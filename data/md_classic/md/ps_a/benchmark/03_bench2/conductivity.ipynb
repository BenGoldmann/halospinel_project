{
 "cells": [
  {
   "cell_type": "code",
   "execution_count": 5,
   "id": "32defcff",
   "metadata": {},
   "outputs": [
    {
     "data": {
      "image/png": "[encoded data removed]",
      "text/plain": [
       "<Figure size 432x288 with 1 Axes>"
      ]
     },
     "metadata": {
      "needs_background": "light"
     },
     "output_type": "display_data"
    }
   ],
   "source": [
    "import matplotlib.pyplot as plt\n",
    "import numpy as np\n",
    "\n",
    "tri9 = [(0.00232*0.4)*300, (0.0393*0.4)*400, (0.482*0.4)*500, (3.71*0.4)*600]\n",
    "mono9 = [(0.00351*0.4)*300, (0.0465*0.4)*400, (0.566*0.4)*500, (3.56*0.4)*600]\n",
    "\n",
    "temp = [300, 400, 500, 600]\n",
    "\n",
    "ln_tri9 = np.log(tri9)\n",
    "ln_mono9 = np.log(mono9)\n",
    "\n",
    "rec_temp = []\n",
    "\n",
    "for t in temp:\n",
    "    rec_temp.append(1000/t)\n",
    "\n",
    "fig, ax = plt.subplots()    \n",
    "\n",
    "ax.plot(rec_temp, ln_tri9)\n",
    "ax.plot(rec_temp, ln_mono9)\n",
    "ax.plot([3.00, 3.33], [0.51, -0.74], color='black')\n",
    "ax.scatter(rec_temp, ln_tri9)\n",
    "ax.scatter(rec_temp, ln_mono9)\n",
    "\n",
    "ax.text(2.5, 4, 'Monoclinic:', color='tab:orange', size=10)\n",
    "ax.text(2.7, 3.5, 'Ea = 0.390 eV', color='tab:orange', size=10)\n",
    "\n",
    "ax.text(1.7, 2.5, 'Triclinic:', color='tab:blue', size=10)\n",
    "ax.text(1.9, 2, 'Ea = 0.411 eV', color='tab:blue', size=10)\n",
    "\n",
    "ax.text(2.1, 0.5, 'Experimental:', color='tab:green', size=10)\n",
    "ax.text(2.3, 0, 'Ea = 0.336 eV', color='tab:green', size=10)\n",
    "\n",
    "\n",
    "ax.set_xlabel('(1000/T) (K$^\\mathrm{-1}$)', size = 12)\n",
    "ax.set_ylabel('ln[$\\mathrm{\\sigma}$T, (S cm$^\\mathrm{-1}$ K)]', size = 12)\n",
    "\n",
    "def invert(x):\n",
    "    # 1/x with special treatment of x == 0\n",
    "    x = np.array(x).astype(float)\n",
    "    near_zero = np.isclose(x, 0)\n",
    "    x[near_zero] = np.inf\n",
    "    x[~near_zero] = (1 / x[~near_zero])*1000\n",
    "    return x\n",
    "\n",
    "secax = ax.secondary_xaxis('top', functions=(invert, invert))\n",
    "secax.set_xlabel('T (K)', size = 12)\n",
    "\n",
    "def make_square_axes(ax):\n",
    "    \"\"\"Make an axes square in screen units.\n",
    "\n",
    "    Should be called after plotting.\n",
    "    \"\"\"\n",
    "    ax.set_aspect(1 / ax.get_data_ratio())\n",
    "\n",
    "make_square_axes(plt.gca())\n",
    "\n",
    "plt.savefig('lnconductivity.jpg', bbox_inches='tight', dpi=500)"
   ]
  },
  {
   "cell_type": "code",
   "execution_count": 1,
   "id": "c2fb5342",
   "metadata": {},
   "outputs": [
    {
     "name": "stdout",
     "output_type": "stream",
     "text": [
      "Activation energy for tri: 0.41105600801926917 eV\n",
      "Activation energy for mono: 0.38991073532198844 eV\n"
     ]
    }
   ],
   "source": [
    "import numpy as np\n",
    "\n",
    "tri9 = [0.00232, 0.0393, 0.482, 3.71]\n",
    "tri9_ln = []\n",
    "\n",
    "mono9 = [0.00351, 0.0465, 0.566, 3.56]\n",
    "mono9_ln = []\n",
    "\n",
    "temp = [300, 400, 500, 600]\n",
    "rec_t = []\n",
    "\n",
    "# 10**2 to conver from cm-1 to m-1 (SI units)\n",
    "\n",
    "for li, t in zip(tri9, temp):\n",
    "    tri9_ln.append(np.log(li * 10**2 * t))\n",
    "    \n",
    "for li, t in zip(mono9, temp):\n",
    "    mono9_ln.append(np.log(li * 10**2 * t))\n",
    "    \n",
    "for t in temp:\n",
    "    rec_t.append(1000/t)\n",
    "    \n",
    "tri9_slope, intercept = np.polyfit(rec_t, tri9_ln, 1)\n",
    "tri9_ea = -1000 * tri9_slope * 1.380649 * 10**(-23) * 6.241509 * 10**18\n",
    "print('Activation energy for tri:', tri9_ea, 'eV')\n",
    "\n",
    "mono9_slope, intercept = np.polyfit(rec_t, mono9_ln, 1)\n",
    "mono9_ea = -1000 * mono9_slope * 1.380649 * 10**(-23) * 6.241509 * 10**18\n",
    "print('Activation energy for mono:', mono9_ea, 'eV')\n",
    "\n",
    "# Conversion of conductivity to activation energy as follows:\n",
    "# ln(conductivity * T) = -Ea/kT\n",
    "# Ea = - ln(conductivity * T) * kT\n",
    "#\n",
    "# slope = ln(conductivity * T) / (1000/T)\n",
    "#\n",
    "# Ea = -1000 * slope * k\n",
    "#\n",
    "# Ea (in eV) = -1000 * slope * k * 1/e"
   ]
  },
  {
   "cell_type": "code",
   "execution_count": null,
   "id": "d6e09797",
   "metadata": {},
   "outputs": [],
   "source": []
  }
 ],
 "metadata": {
  "kernelspec": {
   "display_name": "Python 3 (ipykernel)",
   "language": "python",
   "name": "python3"
  },
  "language_info": {
   "codemirror_mode": {
    "name": "ipython",
    "version": 3
   },
   "file_extension": ".py",
   "mimetype": "text/x-python",
   "name": "python",
   "nbconvert_exporter": "python",
   "pygments_lexer": "ipython3",
   "version": "3.9.7"
  }
 },
 "nbformat": 4,
 "nbformat_minor": 5
}
