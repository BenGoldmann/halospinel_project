{
 "cells": [
  {
   "cell_type": "code",
   "execution_count": 2,
   "metadata": {},
   "outputs": [
    {
     "name": "stdout",
     "output_type": "stream",
     "text": [
      "{'msd/blu_600_li.txt': 6.993162452692344e-09, 'msd/blu_500_li.txt': 1.624059872250327e-09, 'msd/blu_400_li.txt': 1.2174864313826564e-10, 'msd/blu_300_li.txt': 4.9216939043528155e-12}\n",
      "{'msd/blu_600_li.txt': 3.2706242985483414, 'msd/blu_500_li.txt': 0.9114656866180912, 'msd/blu_400_li.txt': 0.08541072939253665, 'msd/blu_300_li.txt': 0.004603642996280254}\n"
     ]
    },
    {
     "data": {
      "image/png": "[encoded data removed]",
      "text/plain": [
       "<Figure size 432x288 with 1 Axes>"
      ]
     },
     "metadata": {
      "needs_background": "light"
     },
     "output_type": "display_data"
    }
   ],
   "source": [
    "import matplotlib.pyplot as plt\n",
    "import numpy as np\n",
    "import glob\n",
    "\n",
    "d = 3\n",
    "\n",
    "files = glob.glob('msd/*.txt')\n",
    "diffusion_dict = {}\n",
    "conductivity_dict = {}\n",
    "\n",
    "def plot_msd(msd_file):  \n",
    "\n",
    "    # Import MSD files as lists:\n",
    "    step, msd = np.loadtxt(msd_file, skiprows=2, unpack=True)\n",
    "    \n",
    "    # Find T:\n",
    "    TT = msd_file[8:]\n",
    "    T = float(TT[:3])\n",
    "    \n",
    "    # Convert to nanoseconds:\n",
    "    steps = step / 1000000\n",
    "    \n",
    "    # Remove initial jump:\n",
    "    msd = msd - msd[1]\n",
    "\n",
    "    # Plot MSD:   \n",
    "    plt.plot(steps[1:], msd[1:])\n",
    "    \n",
    "    # Find diffusion coefficient:\n",
    "    slope, intercept = np.polyfit(steps[10000:], msd[10000:], 1)\n",
    "    dc = float(slope * (10 ** (-11)) / 2*d)\n",
    "    diffusion_dict[msd_file] = dc\n",
    "    \n",
    "        # Diffusion coefficient = d(msd)/d(t) / 2d\n",
    "        #\n",
    "        # unit conversion: A^2 to m^2 is 10**-20; ns to s is 10**9, so unit conversion is 10**-11\n",
    "    \n",
    "    # Find conductivity:\n",
    "    cond = (((1.602 * 10**(-19))**2 * (1.510 * 10**(28)) * dc)/((1.381 * 10**(-23)) * T) * 10**(-2))\n",
    "    conductivity_dict[msd_file] = cond\n",
    "    \n",
    "        # Conversion of diffusion coefficient to conductivity as follows:\n",
    "        #\n",
    "        # conducitivity = (charge**2 * charge carrier concentration * diffusion coefficient) / boltzmann constant * temperature\n",
    "        #\n",
    "        # charge is electron charge (sodium singularly charged), so 1.602 * 10**(-19) C\n",
    "        #\n",
    "        # charge carrier concentration calculated as number of Li/Sc/Cl ions in the simulation cell/cell dimensions\n",
    "        #\n",
    "        # diffusion coefficient calcualted as above fromm MSD plot slopes\n",
    "        #\n",
    "        # boltzmann constant = 1.381 * 10**(-23) J/K\n",
    "        #\n",
    "        # temperature varies with experiment\n",
    "        #\n",
    "        # !!! 10**(-2) added to get final results in S/cm as conventionally displayed\n",
    "    \n",
    "\n",
    "for f in files:\n",
    "    plot_msd(f)\n",
    "    \n",
    "plt.xlabel('time, ns', size = 12)\n",
    "plt.ylabel('MSD, A^2', size = 12)\n",
    "\n",
    "print(diffusion_dict)\n",
    "print(conductivity_dict)\n",
    "\n",
    "def make_square_axes(ax):\n",
    "    \"\"\"Make an axes square in screen units.\n",
    "\n",
    "    Should be called after plotting.\n",
    "    \"\"\"\n",
    "    ax.set_aspect(1 / ax.get_data_ratio())\n",
    "\n",
    "make_square_axes(plt.gca())\n",
    "\n",
    "plt.savefig('msd_blue.jpg', bbox_inches='tight', dpi=500)"
   ]
  },
  {
   "cell_type": "code",
   "execution_count": 33,
   "metadata": {},
   "outputs": [],
   "source": [
    "example = 'msd/red_300_li.txt'"
   ]
  },
  {
   "cell_type": "code",
   "execution_count": 38,
   "metadata": {},
   "outputs": [],
   "source": [
    "e = example[8:]"
   ]
  },
  {
   "cell_type": "code",
   "execution_count": 39,
   "metadata": {},
   "outputs": [
    {
     "data": {
      "text/plain": [
       "'300'"
      ]
     },
     "execution_count": 39,
     "metadata": {},
     "output_type": "execute_result"
    }
   ],
   "source": [
    "e[:3]"
   ]
  },
  {
   "cell_type": "code",
   "execution_count": null,
   "metadata": {},
   "outputs": [],
   "source": []
  }
 ],
 "metadata": {
  "kernelspec": {
   "display_name": "Python 3 (ipykernel)",
   "language": "python",
   "name": "python3"
  },
  "language_info": {
   "codemirror_mode": {
    "name": "ipython",
    "version": 3
   },
   "file_extension": ".py",
   "mimetype": "text/x-python",
   "name": "python",
   "nbconvert_exporter": "python",
   "pygments_lexer": "ipython3",
   "version": "3.9.9"
  }
 },
 "nbformat": 4,
 "nbformat_minor": 4
}
