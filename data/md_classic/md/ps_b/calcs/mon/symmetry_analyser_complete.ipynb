{
 "cells": [
  {
   "cell_type": "code",
   "execution_count": 1,
   "id": "904b6792-bf81-4526-9983-cb14e85b1b71",
   "metadata": {},
   "outputs": [
    {
     "name": "stdout",
     "output_type": "stream",
     "text": [
      "[0.375 0.375 0.875] is 8a\n",
      "[0.25 0.75 0.5 ] is 16c\n",
      "[0.   0.75 0.75] is 16c\n",
      "[0.75 0.5  0.25] is 16c\n",
      "[0.5 0.  0.5] is 16c\n",
      "[0.125 0.875 0.125] is 48f\n"
     ]
    }
   ],
   "source": [
    "from pymatgen.core import Structure\n",
    "from pymatgen.io.cif import CifWriter\n",
    "import numpy as np\n",
    "\n",
    "def round_to_value(a):\n",
    "    multiplier = a/0.125\n",
    "    rounded_multiplier = np.round(multiplier, 0)\n",
    "    return rounded_multiplier * 0.125\n",
    "\n",
    "def reorder(a):\n",
    "    position = [0, 1, 2]\n",
    "    for i in position:\n",
    "        if a[i] == 1.:\n",
    "            a[i] = 0\n",
    "    \n",
    "strc = Structure.from_file('il0004187328_initial_P1.cif')\n",
    "ref = Structure.from_file('./prim_inverse_noli.cif')\n",
    "\n",
    "for atom in strc:\n",
    "    strc_corrected = (round_to_value(atom.frac_coords))\n",
    "    atom.frac_coords = strc_corrected\n",
    "    reorder(atom.frac_coords)\n",
    "\n",
    "positions = np.arange(0, 54)\n",
    "\n",
    "mobile_sites = []\n",
    "\n",
    "for atom1 in strc:\n",
    "    for atom2 in ref:\n",
    "        if np.array_equal((atom1.frac_coords), (atom2.frac_coords), equal_nan=False) == True:\n",
    "            if atom2.species_string == 'Na':\n",
    "                print(f'{atom1.frac_coords} is 8b')\n",
    "                mobile_sites.append(atom1)\n",
    "            elif atom2.species_string == 'Ca':\n",
    "                print(f'{atom1.frac_coords} is 8a')\n",
    "                mobile_sites.append(atom1)\n",
    "            elif atom2.species_string == 'Be':\n",
    "                print(f'{atom1.frac_coords} is 16c')\n",
    "                mobile_sites.append(atom1)\n",
    "            elif atom2.species_string == 'Nb':\n",
    "                print(f'{atom1.frac_coords} is 48f')\n",
    "                mobile_sites.append(atom1)\n",
    "\n",
    "mobile_indices = [i for i, site in enumerate(list(mobile_sites))]                \n",
    "                \n",
    "for mob in mobile_indices:\n",
    "    strc[mob].species = 'Na'\n",
    "\n",
    "# Sort so that 'mobile' Li are put first\n",
    "strc.sort()    \n",
    "    \n",
    "#strc.make_supercell([2,2,2])    \n",
    "    \n",
    "mobile_li = [i for i, site in enumerate(list(strc)) if site.species_string == 'Na']\n",
    "\n",
    "for li in mobile_li:\n",
    "    strc[li].species = 'Li'\n",
    "                \n",
    "w = CifWriter(strc)\n",
    "w.write_file(f'monoclinic_1.cif')"
   ]
  },
  {
   "cell_type": "code",
   "execution_count": null,
   "id": "e0d1c6da-4fbe-4f6a-b33a-325146490eee",
   "metadata": {},
   "outputs": [],
   "source": [
    "from pymatgen.core import Structure\n",
    "from pymatgen.symmetry.analyzer import SpacegroupAnalyzer\n",
    "import glob\n",
    "\n",
    "structure = glob.glob('./find_cubic/li11sc5cl32/sup*.cif')\n",
    "\n",
    "groups = {}\n",
    "\n",
    "for s in structure:\n",
    "    strc = Structure.from_file(s)\n",
    "\n",
    "    spg = SpacegroupAnalyzer(structure=strc, symprec=0.01, angle_tolerance=5.0)\n",
    "    \n",
    "    groups[s] = spg.get_space_group_symbol()\n",
    "    \n",
    "groups"
   ]
  },
  {
   "cell_type": "code",
   "execution_count": null,
   "id": "93732dfd-37a8-4a32-98da-7adc88e77db0",
   "metadata": {},
   "outputs": [],
   "source": [
    "spg.get_space_group_symbol()"
   ]
  },
  {
   "cell_type": "code",
   "execution_count": null,
   "id": "bc3bc4da-dee7-46e0-a2a3-3b884ea6dc67",
   "metadata": {},
   "outputs": [],
   "source": [
    "spg_symbol = spg.get_space_group_symbol()\n",
    "lattice_type = spg.get_lattice_type()\n",
    "crystal_system = spg.get_crystal_system()"
   ]
  },
  {
   "cell_type": "code",
   "execution_count": null,
   "id": "f25bcef4-0a38-4e7b-9a6b-7f47568bafe9",
   "metadata": {},
   "outputs": [],
   "source": []
  }
 ],
 "metadata": {
  "kernelspec": {
   "display_name": "Python 3 (ipykernel)",
   "language": "python",
   "name": "python3"
  },
  "language_info": {
   "codemirror_mode": {
    "name": "ipython",
    "version": 3
   },
   "file_extension": ".py",
   "mimetype": "text/x-python",
   "name": "python",
   "nbconvert_exporter": "python",
   "pygments_lexer": "ipython3",
   "version": "3.9.9"
  }
 },
 "nbformat": 4,
 "nbformat_minor": 5
}
