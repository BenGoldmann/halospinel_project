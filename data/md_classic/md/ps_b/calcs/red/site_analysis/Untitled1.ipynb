{
 "cells": [
  {
   "cell_type": "code",
   "execution_count": 3,
   "metadata": {},
   "outputs": [
    {
     "data": {
      "image/png": "[encoded data removed]",
      "text/plain": [
       "<Figure size 432x288 with 1 Axes>"
      ]
     },
     "metadata": {
      "needs_background": "light"
     },
     "output_type": "display_data"
    }
   ],
   "source": [
    "import matplotlib.pyplot as plt\n",
    "\n",
    "results = open('results_running_early.txt', 'r')\n",
    "lines = results.readlines()\n",
    "\n",
    "steps = [0, 1, 2, 3, 4]\n",
    "li1_list = []\n",
    "li2_list = []\n",
    "li3_list = []\n",
    "li4_list = []\n",
    "li5_list = []\n",
    "li_lists = [li1_list, li2_list, li3_list, li4_list, li5_list]\n",
    "\n",
    "for line in lines:\n",
    "    if 'TIMESTEP' in line:\n",
    "        steps.append(float(line.split()[1]))\n",
    "    elif 'Li1' in line:\n",
    "        li1_list.append(float(line.split()[1])/8)\n",
    "    elif 'Li2' in line:\n",
    "        li2_list.append(float(line.split()[1])/16)\n",
    "    elif 'Li3' in line:\n",
    "        li3_list.append(float(line.split()[1])/48)\n",
    "    elif 'Li4' in line:\n",
    "        li4_list.append(float(line.split()[1])/16)\n",
    "    elif 'Li5' in line:\n",
    "        li5_list.append(float(line.split()[1])/8)\n",
    "\n",
    "for item in li_lists:\n",
    "    plt.scatter(steps, item)\n",
    "plt.legend(['8a', '16c', '48f', '16d', '8b'])\n",
    "\n",
    "plt.xlabel('Time (ps)', size=12)\n",
    "plt.ylabel('Occupancy', size=12)\n",
    "\n",
    "def make_square_axes(ax):\n",
    "    \"\"\"Make an axes square in screen units.\n",
    "\n",
    "    Should be called after plotting.\n",
    "    \"\"\"\n",
    "    ax.set_aspect(1 / ax.get_data_ratio())\n",
    "\n",
    "make_square_axes(plt.gca())\n",
    "\n",
    "plt.savefig('early.jpg', bbox_inches='tight', dpi=500)"
   ]
  },
  {
   "cell_type": "code",
   "execution_count": null,
   "metadata": {},
   "outputs": [],
   "source": []
  },
  {
   "cell_type": "code",
   "execution_count": null,
   "metadata": {},
   "outputs": [],
   "source": []
  }
 ],
 "metadata": {
  "kernelspec": {
   "display_name": "Python 3 (ipykernel)",
   "language": "python",
   "name": "python3"
  },
  "language_info": {
   "codemirror_mode": {
    "name": "ipython",
    "version": 3
   },
   "file_extension": ".py",
   "mimetype": "text/x-python",
   "name": "python",
   "nbconvert_exporter": "python",
   "pygments_lexer": "ipython3",
   "version": "3.9.7"
  }
 },
 "nbformat": 4,
 "nbformat_minor": 4
}
