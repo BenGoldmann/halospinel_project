{
 "cells": [
  {
   "cell_type": "code",
   "execution_count": 1,
   "id": "51df26fa-e339-4280-8b03-bc985bd81831",
   "metadata": {},
   "outputs": [],
   "source": [
    "from ovito.io import import_file, export_file\n",
    "from ovito.modifiers import CalculateDisplacementsModifier\n",
    "from ovito.modifiers import ExpressionSelectionModifier\n",
    "import numpy"
   ]
  },
  {
   "cell_type": "code",
   "execution_count": 2,
   "id": "8c5fe595-845e-4fd4-95e6-b0e01ac65c32",
   "metadata": {},
   "outputs": [
    {
     "ename": "KeyError",
     "evalue": "\"Particles data object does not contain the property 'Particle Index'.\"",
     "output_type": "error",
     "traceback": [
      "\u001b[0;31m---------------------------------------------------------------------------\u001b[0m",
      "\u001b[0;31mKeyError\u001b[0m                                  Traceback (most recent call last)",
      "\u001b[0;32m/var/folders/ms/5zctgd6932s91kcwyls4vbj00000gn/T/ipykernel_24541/1376330147.py\u001b[0m in \u001b[0;36mcalculate_msd\u001b[0;34m(frame, data)\u001b[0m\n\u001b[1;32m     12\u001b[0m     \u001b[0;31m# data pipeline:\u001b[0m\u001b[0;34m\u001b[0m\u001b[0;34m\u001b[0m\u001b[0m\n\u001b[1;32m     13\u001b[0m     \u001b[0mdisplacement_magnitudes\u001b[0m \u001b[0;34m=\u001b[0m \u001b[0mdata\u001b[0m\u001b[0;34m.\u001b[0m\u001b[0mparticles\u001b[0m\u001b[0;34m[\u001b[0m\u001b[0;34m'Displacement Magnitude'\u001b[0m\u001b[0;34m]\u001b[0m\u001b[0;34m\u001b[0m\u001b[0;34m\u001b[0m\u001b[0m\n\u001b[0;32m---> 14\u001b[0;31m     \u001b[0mparticle_index\u001b[0m \u001b[0;34m=\u001b[0m \u001b[0mdata\u001b[0m\u001b[0;34m.\u001b[0m\u001b[0mparticles\u001b[0m\u001b[0;34m[\u001b[0m\u001b[0;34m'Particle Index'\u001b[0m\u001b[0;34m]\u001b[0m\u001b[0;34m\u001b[0m\u001b[0;34m\u001b[0m\u001b[0m\n\u001b[0m\u001b[1;32m     15\u001b[0m \u001b[0;34m\u001b[0m\u001b[0m\n\u001b[1;32m     16\u001b[0m     \u001b[0;31m# Compute MSD:\u001b[0m\u001b[0;34m\u001b[0m\u001b[0;34m\u001b[0m\u001b[0m\n",
      "\u001b[0;32m/usr/local/lib/python3.9/site-packages/ovito/data/stdobj/property_container.py\u001b[0m in \u001b[0;36m_PropertyContainer__getitem__\u001b[0;34m(self, key)\u001b[0m\n\u001b[1;32m     47\u001b[0m             \u001b[0;32melse\u001b[0m\u001b[0;34m:\u001b[0m\u001b[0;34m\u001b[0m\u001b[0;34m\u001b[0m\u001b[0m\n\u001b[1;32m     48\u001b[0m                 \u001b[0;32mreturn\u001b[0m \u001b[0mp\u001b[0m\u001b[0;34m\u001b[0m\u001b[0;34m\u001b[0m\u001b[0m\n\u001b[0;32m---> 49\u001b[0;31m     \u001b[0;32mraise\u001b[0m \u001b[0mKeyError\u001b[0m\u001b[0;34m(\u001b[0m\u001b[0;34m\"{} data object does not contain the property '{}'.\"\u001b[0m\u001b[0;34m.\u001b[0m\u001b[0mformat\u001b[0m\u001b[0;34m(\u001b[0m\u001b[0mself\u001b[0m\u001b[0;34m.\u001b[0m\u001b[0m__class__\u001b[0m\u001b[0;34m.\u001b[0m\u001b[0m__name__\u001b[0m\u001b[0;34m,\u001b[0m \u001b[0mstr\u001b[0m\u001b[0;34m(\u001b[0m\u001b[0mkey\u001b[0m\u001b[0;34m)\u001b[0m\u001b[0;34m)\u001b[0m\u001b[0;34m)\u001b[0m\u001b[0;34m\u001b[0m\u001b[0;34m\u001b[0m\u001b[0m\n\u001b[0m\u001b[1;32m     50\u001b[0m \u001b[0mPropertyContainer\u001b[0m\u001b[0;34m.\u001b[0m\u001b[0m__getitem__\u001b[0m \u001b[0;34m=\u001b[0m \u001b[0m_PropertyContainer__getitem__\u001b[0m\u001b[0;34m\u001b[0m\u001b[0;34m\u001b[0m\u001b[0m\n\u001b[1;32m     51\u001b[0m \u001b[0;34m\u001b[0m\u001b[0m\n",
      "\u001b[0;31mKeyError\u001b[0m: \"Particles data object does not contain the property 'Particle Index'.\""
     ]
    },
    {
     "ename": "RuntimeError",
     "evalue": "Export of animation frame 0 failed, because data pipeline evaluation did not succeed. Status message: Modifier 'Python script' reported: The Python script has exited with an error.",
     "output_type": "error",
     "traceback": [
      "\u001b[0;31m---------------------------------------------------------------------------\u001b[0m",
      "\u001b[0;31mRuntimeError\u001b[0m                              Traceback (most recent call last)",
      "\u001b[0;32m/var/folders/ms/5zctgd6932s91kcwyls4vbj00000gn/T/ipykernel_24541/1376330147.py\u001b[0m in \u001b[0;36m<module>\u001b[0;34m\u001b[0m\n\u001b[1;32m     24\u001b[0m \u001b[0;34m\u001b[0m\u001b[0m\n\u001b[1;32m     25\u001b[0m \u001b[0;31m# Export calculated MSD value to a text file and let OVITO's data pipeline do the rest:\u001b[0m\u001b[0;34m\u001b[0m\u001b[0;34m\u001b[0m\u001b[0m\n\u001b[0;32m---> 26\u001b[0;31m export_file(pipeline, \"msd_data.txt\", \n\u001b[0m\u001b[1;32m     27\u001b[0m     \u001b[0mformat\u001b[0m \u001b[0;34m=\u001b[0m \u001b[0;34m\"txt/attr\"\u001b[0m\u001b[0;34m,\u001b[0m\u001b[0;34m\u001b[0m\u001b[0;34m\u001b[0m\u001b[0m\n\u001b[1;32m     28\u001b[0m     \u001b[0mcolumns\u001b[0m \u001b[0;34m=\u001b[0m \u001b[0;34m[\u001b[0m\u001b[0;34m\"Timestep\"\u001b[0m\u001b[0;34m,\u001b[0m \u001b[0;34m\"MSD\"\u001b[0m\u001b[0;34m]\u001b[0m\u001b[0;34m,\u001b[0m\u001b[0;34m\u001b[0m\u001b[0;34m\u001b[0m\u001b[0m\n",
      "\u001b[0;32m/usr/local/lib/python3.9/site-packages/ovito/io/export_file.py\u001b[0m in \u001b[0;36mexport_file\u001b[0;34m(data, file, format, **params)\u001b[0m\n\u001b[1;32m    190\u001b[0m \u001b[0;34m\u001b[0m\u001b[0m\n\u001b[1;32m    191\u001b[0m     \u001b[0;31m# Let the exporter do its job.\u001b[0m\u001b[0;34m\u001b[0m\u001b[0;34m\u001b[0m\u001b[0m\n\u001b[0;32m--> 192\u001b[0;31m     \u001b[0mexporter\u001b[0m\u001b[0;34m.\u001b[0m\u001b[0mdo_export\u001b[0m\u001b[0;34m(\u001b[0m\u001b[0;34m)\u001b[0m\u001b[0;34m\u001b[0m\u001b[0;34m\u001b[0m\u001b[0m\n\u001b[0m\u001b[1;32m    193\u001b[0m \u001b[0;34m\u001b[0m\u001b[0m\n\u001b[1;32m    194\u001b[0m \u001b[0;31m# This is the table of export formats used by the export_file() function\u001b[0m\u001b[0;34m\u001b[0m\u001b[0;34m\u001b[0m\u001b[0m\n",
      "\u001b[0;31mRuntimeError\u001b[0m: Export of animation frame 0 failed, because data pipeline evaluation did not succeed. Status message: Modifier 'Python script' reported: The Python script has exited with an error."
     ]
    }
   ],
   "source": [
    "# Load input data and create a data pipeline.\n",
    "pipeline = import_file(\"red_300.lammpstrj\")\n",
    "\n",
    "# Calculate per-particle displacements with respect to initial simulation frame:\n",
    "pipeline.modifiers.append(CalculateDisplacementsModifier())\n",
    "\n",
    "# Define the custom modifier function:\n",
    "def calculate_msd(frame, data):\n",
    "\n",
    "    # Access the per-particle displacement magnitudes computed by the \n",
    "    # CalculateDisplacementsModifier that precedes this user-defined modifier in the \n",
    "    # data pipeline:\n",
    "    displacement_magnitudes = data.particles['Displacement Magnitude']\n",
    "    particle_index = data.particles['Particle Index']\n",
    "    \n",
    "    # Compute MSD:\n",
    "    msd = numpy.sum(displacement_magnitudes[particle_index < 3072] ** 2) / len(displacement_magnitudes[particle_index < 3072])\n",
    "\n",
    "    # Output MSD value as a global attribute: \n",
    "    data.attributes[\"MSD\"] = msd \n",
    "    \n",
    "# Insert user-defined modifier function into the data pipeline.\n",
    "pipeline.modifiers.append(calculate_msd)\n",
    "\n",
    "# Export calculated MSD value to a text file and let OVITO's data pipeline do the rest:\n",
    "export_file(pipeline, \"msd_data.txt\", \n",
    "    format = \"txt/attr\",\n",
    "    columns = [\"Timestep\", \"MSD\"],\n",
    "    multiple_frames = True)"
   ]
  },
  {
   "cell_type": "code",
   "execution_count": 3,
   "id": "87431b43-1ce6-435b-8c18-f91d1b84e503",
   "metadata": {},
   "outputs": [
    {
     "name": "stdout",
     "output_type": "stream",
     "text": [
      "hi\n"
     ]
    }
   ],
   "source": [
    "print('hi')"
   ]
  },
  {
   "cell_type": "code",
   "execution_count": null,
   "id": "715109a0-0016-4b13-88ba-37f4693e5686",
   "metadata": {},
   "outputs": [],
   "source": []
  }
 ],
 "metadata": {
  "kernelspec": {
   "display_name": "Python 3 (ipykernel)",
   "language": "python",
   "name": "python3"
  },
  "language_info": {
   "codemirror_mode": {
    "name": "ipython",
    "version": 3
   },
   "file_extension": ".py",
   "mimetype": "text/x-python",
   "name": "python",
   "nbconvert_exporter": "python",
   "pygments_lexer": "ipython3",
   "version": "3.9.9"
  }
 },
 "nbformat": 4,
 "nbformat_minor": 5
}
