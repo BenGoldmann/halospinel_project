{
 "cells": [
  {
   "cell_type": "code",
   "execution_count": 34,
   "id": "832eea55",
   "metadata": {},
   "outputs": [
    {
     "ename": "KeyboardInterrupt",
     "evalue": "",
     "output_type": "error",
     "traceback": [
      "\u001b[0;31m---------------------------------------------------------------------------\u001b[0m",
      "\u001b[0;31mKeyboardInterrupt\u001b[0m                         Traceback (most recent call last)",
      "\u001b[0;32m/var/folders/ms/5zctgd6932s91kcwyls4vbj00000gn/T/ipykernel_94068/3490389687.py\u001b[0m in \u001b[0;36m<module>\u001b[0;34m\u001b[0m\n\u001b[1;32m     15\u001b[0m \u001b[0;32mfor\u001b[0m \u001b[0matom1\u001b[0m\u001b[0;34m,\u001b[0m \u001b[0mindex\u001b[0m \u001b[0;32min\u001b[0m \u001b[0mzip\u001b[0m\u001b[0;34m(\u001b[0m\u001b[0mstrc\u001b[0m\u001b[0;34m,\u001b[0m \u001b[0mindices\u001b[0m\u001b[0;34m)\u001b[0m\u001b[0;34m:\u001b[0m\u001b[0;34m\u001b[0m\u001b[0;34m\u001b[0m\u001b[0m\n\u001b[1;32m     16\u001b[0m     \u001b[0;32mfor\u001b[0m \u001b[0matom2\u001b[0m \u001b[0;32min\u001b[0m \u001b[0mref\u001b[0m\u001b[0;34m:\u001b[0m\u001b[0;34m\u001b[0m\u001b[0;34m\u001b[0m\u001b[0m\n\u001b[0;32m---> 17\u001b[0;31m         \u001b[0;32mif\u001b[0m \u001b[0mnp\u001b[0m\u001b[0;34m.\u001b[0m\u001b[0marray_equal\u001b[0m\u001b[0;34m(\u001b[0m\u001b[0;34m(\u001b[0m\u001b[0matom1\u001b[0m\u001b[0;34m.\u001b[0m\u001b[0mfrac_coords\u001b[0m\u001b[0;34m)\u001b[0m\u001b[0;34m,\u001b[0m \u001b[0;34m(\u001b[0m\u001b[0matom2\u001b[0m\u001b[0;34m.\u001b[0m\u001b[0mfrac_coords\u001b[0m\u001b[0;34m)\u001b[0m\u001b[0;34m,\u001b[0m \u001b[0mequal_nan\u001b[0m\u001b[0;34m=\u001b[0m\u001b[0;32mFalse\u001b[0m\u001b[0;34m)\u001b[0m \u001b[0;34m==\u001b[0m \u001b[0;32mTrue\u001b[0m\u001b[0;34m:\u001b[0m\u001b[0;34m\u001b[0m\u001b[0;34m\u001b[0m\u001b[0m\n\u001b[0m\u001b[1;32m     18\u001b[0m             \u001b[0;32mif\u001b[0m \u001b[0matom2\u001b[0m\u001b[0;34m.\u001b[0m\u001b[0mspecies_string\u001b[0m \u001b[0;34m==\u001b[0m \u001b[0;34m'Na'\u001b[0m\u001b[0;34m:\u001b[0m\u001b[0;34m\u001b[0m\u001b[0;34m\u001b[0m\u001b[0m\n\u001b[1;32m     19\u001b[0m                 \u001b[0mmobile_indices\u001b[0m\u001b[0;34m.\u001b[0m\u001b[0mappend\u001b[0m\u001b[0;34m(\u001b[0m\u001b[0mindex\u001b[0m\u001b[0;34m)\u001b[0m\u001b[0;34m\u001b[0m\u001b[0;34m\u001b[0m\u001b[0m\n",
      "\u001b[0;32m<__array_function__ internals>\u001b[0m in \u001b[0;36marray_equal\u001b[0;34m(*args, **kwargs)\u001b[0m\n",
      "\u001b[0;31mKeyboardInterrupt\u001b[0m: "
     ]
    }
   ],
   "source": [
    "from ovito.io import import_file, export_file\n",
    "from ovito.modifiers import CalculateDisplacementsModifier\n",
    "from ovito.modifiers import ExpressionSelectionModifier\n",
    "from pymatgen.core import Structure\n",
    "import numpy as np\n",
    "\n",
    "strc = Structure.from_file('red.cif')\n",
    "ref = Structure.from_file('prim_inverse_noli_8.cif')\n",
    "\n",
    "indices = [i for i, site in enumerate(list(strc))]\n",
    "mobile_indices = []\n",
    "\n",
    "counter = 0\n",
    "\n",
    "for atom1, index in zip(strc, indices):\n",
    "    for atom2 in ref:\n",
    "        if np.array_equal((atom1.frac_coords), (atom2.frac_coords), equal_nan=False) == True:\n",
    "            if atom2.species_string == 'Na':\n",
    "                mobile_indices.append(index)\n",
    "                counter = counter + 1\n",
    "            elif atom2.species_string == 'Ca':\n",
    "                mobile_indices.append(index)\n",
    "                counter = counter + 1\n",
    "            elif atom2.species_string == 'Be':\n",
    "                mobile_indices.append(index)\n",
    "                counter = counter + 1\n",
    "            elif atom2.species_string == 'Nb':\n",
    "                mobile_indices.append(index)\n",
    "                counter = counter + 1"
   ]
  },
  {
   "cell_type": "code",
   "execution_count": 22,
   "id": "11fd285b",
   "metadata": {},
   "outputs": [],
   "source": [
    "from pymatgen.core import Structure\n",
    "from pymatgen.io.cif import CifWriter\n",
    "\n",
    "ref = Structure.from_file('prim_inverse_noli.cif')\n",
    "\n",
    "ref.make_supercell([4,4,4])\n",
    "\n",
    "w = CifWriter(ref)\n",
    "w.write_file('ref_4.cif')"
   ]
  },
  {
   "cell_type": "code",
   "execution_count": 30,
   "id": "805154ac",
   "metadata": {},
   "outputs": [],
   "source": [
    "from ovito.io import import_file, export_file\n",
    "from ovito.modifiers import CalculateDisplacementsModifier\n",
    "from ovito.modifiers import ExpressionSelectionModifier\n",
    "from pymatgen.core import Structure\n",
    "import numpy as np\n",
    "\n",
    "strc = Structure.from_file('red_2.cif')\n",
    "ref = Structure.from_file('ref_2.cif')\n",
    "\n",
    "indices = [i for i, site in enumerate(list(strc))]\n",
    "mobile_indices = []\n",
    "\n",
    "counter = 0\n",
    "\n",
    "for atom1, index in zip(strc, indices):\n",
    "    for atom2 in ref:\n",
    "        if np.array_equal((atom1.frac_coords), (atom2.frac_coords), equal_nan=False) == True:\n",
    "            if atom2.species_string == 'Mg':\n",
    "                mobile_indices.append(index)\n",
    "                counter = counter + 1"
   ]
  },
  {
   "cell_type": "code",
   "execution_count": null,
   "id": "26726f1d",
   "metadata": {},
   "outputs": [],
   "source": [
    "counter"
   ]
  },
  {
   "cell_type": "code",
   "execution_count": null,
   "id": "d205c6a5",
   "metadata": {},
   "outputs": [],
   "source": []
  }
 ],
 "metadata": {
  "kernelspec": {
   "display_name": "Python 3 (ipykernel)",
   "language": "python",
   "name": "python3"
  },
  "language_info": {
   "codemirror_mode": {
    "name": "ipython",
    "version": 3
   },
   "file_extension": ".py",
   "mimetype": "text/x-python",
   "name": "python",
   "nbconvert_exporter": "python",
   "pygments_lexer": "ipython3",
   "version": "3.9.7"
  }
 },
 "nbformat": 4,
 "nbformat_minor": 5
}
