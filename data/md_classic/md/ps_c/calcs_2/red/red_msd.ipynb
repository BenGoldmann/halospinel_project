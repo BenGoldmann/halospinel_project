{
 "cells": [
  {
   "cell_type": "code",
   "execution_count": 2,
   "metadata": {},
   "outputs": [
    {
     "name": "stdout",
     "output_type": "stream",
     "text": [
      "{'li_msd/red_600_li.txt': 3.4088106082645847e-10, 'li_msd/red_500_li.txt': 5.6678444328184637e-11, 'li_msd/red_300_li.txt': 3.3193776462681653e-13}\n",
      "{'li_msd/red_600_li.txt': 0.38262307377963567, 'li_msd/red_500_li.txt': 0.07634268867851883, 'li_msd/red_300_li.txt': 0.0007451692827822586}\n"
     ]
    },
    {
     "data": {
      "image/png": "[encoded data removed]",
      "text/plain": [
       "<Figure size 432x288 with 1 Axes>"
      ]
     },
     "metadata": {
      "needs_background": "light"
     },
     "output_type": "display_data"
    }
   ],
   "source": [
    "import matplotlib.pyplot as plt\n",
    "import numpy as np\n",
    "import glob\n",
    "\n",
    "################## Put in parameters! ##################\n",
    "\n",
    "d = 3 # Dimensionality of ion transport\n",
    "charge = 1 # Charge of ion\n",
    "conc = 1.510 * 10**(28) # Concentration of ion\n",
    "haven = 2.4 # Haven ratio to account for correlation\n",
    "\n",
    "########################################################\n",
    "\n",
    "files = glob.glob('li_msd/*.txt')\n",
    "\n",
    "diffusion_dict = {}\n",
    "conductivity_dict = {}\n",
    "conductivity_t_dict = {}\n",
    "\n",
    "def plot_msd(msd_file):  \n",
    "\n",
    "    # Import MSD files as lists:\n",
    "    step, msd = np.loadtxt(msd_file, skiprows=2, unpack=True)\n",
    "    \n",
    "    # Find T:\n",
    "    TT = msd_file[11:]\n",
    "    T = float(TT[:3])\n",
    "    \n",
    "    # Convert to nanoseconds:\n",
    "    steps = (step / 1000000)-10.05\n",
    "    \n",
    "    # Remove initial jump:\n",
    "    msd = msd - msd[1]\n",
    "\n",
    "    # Plot MSD:   \n",
    "    plt.plot(steps[1:], msd[1:])\n",
    "    \n",
    "    # Find diffusion coefficient:\n",
    "    slope, intercept = np.polyfit(steps, msd, 1)\n",
    "    dc = (slope * (10 ** (-11))) / (2*d)\n",
    "    diffusion_dict[msd_file] = dc\n",
    "    \n",
    "        # Diffusion coefficient = d(msd)/d(t) / 2d\n",
    "        #\n",
    "        # unit conversion: A^2 to m^2 is 10**-20; ns to s is 10**9, so unit conversion is 10**-11\n",
    "    \n",
    "    # Find conductivity:\n",
    "    cond = (((charge * 1.602 * 10**(-19))**2 * conc * dc * haven)/((1.381 * 10**(-23)) * T) * 10**(-2))\n",
    "    conductivity_dict[msd_file] = cond\n",
    "    conductivity_t_dict[msd_file] = cond * T\n",
    "    \n",
    "        # Conversion of diffusion coefficient to conductivity as follows:\n",
    "        #\n",
    "        # conducitivity = (charge**2 * charge carrier concentration * diffusion coefficient) / boltzmann constant * temperature\n",
    "        #\n",
    "        # charge is electron charge (sodium singularly charged), so 1.602 * 10**(-19) C\n",
    "        #\n",
    "        # charge carrier concentration calculated as number of Li/Sc/Cl ions in the simulation cell/cell dimensions\n",
    "        #\n",
    "        # diffusion coefficient calcualted as above fromm MSD plot slopes\n",
    "        #\n",
    "        # boltzmann constant = 1.381 * 10**(-23) J/K\n",
    "        #\n",
    "        # temperature varies with experiment\n",
    "        #\n",
    "        # !!! 10**(-2) added to get final results in S/cm as conventionally displayed\n",
    "    \n",
    "\n",
    "for f in files:\n",
    "    plot_msd(f)\n",
    "    \n",
    "plt.xlabel('time, ns', size = 12)\n",
    "plt.ylabel('MSD, A^2', size = 12)\n",
    "\n",
    "print(diffusion_dict)\n",
    "print(conductivity_dict)\n",
    "\n",
    "def make_square_axes(ax):\n",
    "    \"\"\"Make an axes square in screen units.\n",
    "\n",
    "    Should be called after plotting.\n",
    "    \"\"\"\n",
    "    ax.set_aspect(1 / ax.get_data_ratio())\n",
    "\n",
    "make_square_axes(plt.gca())\n",
    "\n",
    "#plt.savefig('msd_red.jpg', bbox_inches='tight', dpi=500)"
   ]
  },
  {
   "cell_type": "code",
   "execution_count": 33,
   "metadata": {},
   "outputs": [],
   "source": [
    "example = 'msd/red_300_li.txt'"
   ]
  },
  {
   "cell_type": "code",
   "execution_count": 38,
   "metadata": {},
   "outputs": [],
   "source": [
    "e = example[8:]"
   ]
  },
  {
   "cell_type": "code",
   "execution_count": 39,
   "metadata": {},
   "outputs": [
    {
     "data": {
      "text/plain": [
       "'300'"
      ]
     },
     "execution_count": 39,
     "metadata": {},
     "output_type": "execute_result"
    }
   ],
   "source": [
    "e[:3]"
   ]
  },
  {
   "cell_type": "code",
   "execution_count": null,
   "metadata": {},
   "outputs": [],
   "source": []
  }
 ],
 "metadata": {
  "kernelspec": {
   "display_name": "Python 3",
   "language": "python",
   "name": "python3"
  },
  "language_info": {
   "codemirror_mode": {
    "name": "ipython",
    "version": 3
   },
   "file_extension": ".py",
   "mimetype": "text/x-python",
   "name": "python",
   "nbconvert_exporter": "python",
   "pygments_lexer": "ipython3",
   "version": "3.8.10"
  }
 },
 "nbformat": 4,
 "nbformat_minor": 4
}
