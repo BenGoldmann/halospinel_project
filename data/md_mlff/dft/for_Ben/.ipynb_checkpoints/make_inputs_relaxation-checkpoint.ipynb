{
 "cells": [
  {
   "cell_type": "code",
   "execution_count": 3,
   "metadata": {},
   "outputs": [],
   "source": [
    "import os\n",
    "from glob import glob\n",
    "from shutil import copy2\n",
    "from string import Template\n",
    "from pymatgen.core import Structure\n",
    "\n",
    "from pymatgen.io.vasp import Poscar, Kpoints\n",
    "\n",
    "from pymatgen.io.vasp.sets import DictSet, MITMDSet, MPScanRelaxSet, MPRelaxSet\n",
    "\n",
    "import warnings\n",
    "warnings.filterwarnings(\"ignore\")"
   ]
  },
  {
   "cell_type": "code",
   "execution_count": 4,
   "metadata": {},
   "outputs": [
    {
     "data": {
      "text/plain": [
       "'/home/pzp22/Dropbox/project_/CATMAT/proj040/calculations/non_aiida/for_Ben/initial_150/low50/Li17Sc5Cl32_il0013274683_w192.cif'"
      ]
     },
     "execution_count": 4,
     "metadata": {},
     "output_type": "execute_result"
    }
   ],
   "source": [
    "curr_dir = os.getcwd()\n",
    "cifs = glob(os.path.join(curr_dir, 'initial_150', 'low50', '*.cif'))\n",
    "cifs[0]\n"
   ]
  },
  {
   "cell_type": "code",
   "execution_count": 22,
   "metadata": {},
   "outputs": [],
   "source": [
    "def get_inputs(structure):\n",
    "    custom_setting = {\n",
    "        'ALGO': 'Normal',\n",
    "        'EDIFF': 1E-6,\n",
    "        'EDIFFG': -0.01,\n",
    "        'ISIF': 3,\n",
    "        'ISYM': 0,\n",
    "        'ADDGRID': True,\n",
    "        'LASPH': True,\n",
    "        'GGA': 'PS',\n",
    "        'ISMEAR': 0,\n",
    "        'ENCUT': 650,\n",
    "        'LWAVE': False,\n",
    "        'NELM': 200,\n",
    "        'NPAR': 6,\n",
    "        'NSW': 200,\n",
    "        'ISPIN': 1,\n",
    "        'LREAL': 'Auto',\n",
    "        'LORBIT': None,\n",
    "        'MAGMOM': None,\n",
    "        'PREC': 'Accurate',\n",
    "    }\n",
    "    custom_kpoints = Kpoints(kpts=((2,2,2),))\n",
    "    \n",
    "    custom_potcar_settings = {\n",
    "        'Li': 'Li_sv',\n",
    "        'Sc': 'Sc_sv',\n",
    "        'Cl': 'Cl',\n",
    "    }\n",
    "\n",
    "    inputs = MPRelaxSet(\n",
    "        structure=structure,\n",
    "        user_incar_settings=custom_setting, \n",
    "        user_kpoints_settings=custom_kpoints,\n",
    "        user_potcar_settings=custom_potcar_settings,\n",
    "        user_potcar_functional='PBE_54'\n",
    "        )\n",
    "    return inputs, custom_kpoints\n",
    "\n",
    "def write_inputs(path, label, inputs, kpoints):\n",
    "    tmppath = './submit_michael.sh'\n",
    "    if not os.path.exists(path):\n",
    "        os.makedirs(path)\n",
    "    inputs.write_input(path)\n",
    "    kpoints.write_file(os.path.join(path, 'KPOINTS'))\n",
    "\n",
    "    params = {\n",
    "        'job_name': f'{label}',\n",
    "        'ncores': 96,\n",
    "        'project_code': 'FARADAY_MSM_bjm',\n",
    "        'hours': 24,\n",
    "        'node_type': 'K',\n",
    "        'queue_type': 'Gold',\n",
    "        'vasp_bin': '/path/to/your/binary/vasp_std'\n",
    "\n",
    "    }\n",
    "    \n",
    "    # tmppath = os.path.join(base,'..','templates','submit_archer2_full.sh')\n",
    "    with open(tmppath) as template:\n",
    "        lines = template.read()\n",
    "    inp = Template(lines).safe_substitute(params)\n",
    "    with open(os.path.join(path,'submit.sh'), mode='w') as fobj:\n",
    "        fobj.write(inp)\n",
    "\n",
    "\n",
    "\n"
   ]
  },
  {
   "cell_type": "code",
   "execution_count": 17,
   "metadata": {},
   "outputs": [],
   "source": [
    "base_path = os.path.join(curr_dir, 'relaxation')\n",
    "# os.makedirs(base_path)\n",
    "\n",
    "for p in cifs:\n",
    "    label = p.split('/')[-1][:-4]\n",
    "    tmp = p.split('/')[-1].split('_')[1][-4:]\n",
    "    strc = Structure.from_file(p)\n",
    "    calc_path = os.path.join(base_path, label)\n",
    "    inputs, kpoints = get_inputs(strc)\n",
    "    write_inputs(calc_path, f'LSC{tmp}', inputs, kpoints)"
   ]
  },
  {
   "cell_type": "code",
   "execution_count": null,
   "metadata": {},
   "outputs": [],
   "source": []
  }
 ],
 "metadata": {
  "interpreter": {
   "hash": "508f5c76d8671a3cb08955090abf284a1ae00c8b8c73d867dcfc90d0e6de934b"
  },
  "kernelspec": {
   "display_name": "Python 3.8.12 ('icet')",
   "language": "python",
   "name": "python3"
  },
  "language_info": {
   "codemirror_mode": {
    "name": "ipython",
    "version": 3
   },
   "file_extension": ".py",
   "mimetype": "text/x-python",
   "name": "python",
   "nbconvert_exporter": "python",
   "pygments_lexer": "ipython3",
   "version": "3.8.12"
  },
  "orig_nbformat": 4
 },
 "nbformat": 4,
 "nbformat_minor": 2
}
