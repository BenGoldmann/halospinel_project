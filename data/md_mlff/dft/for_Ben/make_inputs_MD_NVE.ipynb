{
 "cells": [
  {
   "cell_type": "code",
   "execution_count": 1,
   "metadata": {},
   "outputs": [],
   "source": [
    "import os\n",
    "from glob import glob\n",
    "from shutil import copy2\n",
    "from string import Template\n",
    "\n",
    "from pymatgen.io.vasp import Kpoints, Vasprun\n",
    "\n",
    "from pymatgen.io.vasp.sets import MITMDSet\n",
    "\n",
    "import warnings\n",
    "warnings.filterwarnings(\"ignore\")"
   ]
  },
  {
   "cell_type": "code",
   "execution_count": 2,
   "metadata": {},
   "outputs": [],
   "source": [
    "vasprun_path = '/home/pzp22/Dropbox/project_/CATMAT/proj040/calculations/non_aiida/for_Ben/LiScCl_relaxation_for_Ben/8d840e1f-04a5-4950-88ec-06ce3fa01c7d/vasprun.xml'\n",
    "\n",
    "vrun = Vasprun(vasprun_path)\n",
    "\n",
    "strc_initial = vrun.initial_structure\n",
    "strc_relaxed = vrun.final_structure\n",
    "\n",
    "\n"
   ]
  },
  {
   "cell_type": "code",
   "execution_count": 3,
   "metadata": {},
   "outputs": [],
   "source": [
    "def get_inputs(structure, start_temp, end_temp, nsteps, time_step):\n",
    "    custom_setting = {\n",
    "        'ALGO': 'Fast',\n",
    "        'EDIFF': 1E-5,\n",
    "        'ISIF': 2,\n",
    "        'ISYM': 0,\n",
    "        'ADDGRID': True,\n",
    "        'LASPH': True,\n",
    "        'GGA': 'PS',\n",
    "        'ENCUT': 500,\n",
    "        'LWAVE': False,\n",
    "        'NBLOCK': 1,\n",
    "        'SMASS': None,\n",
    "        'NELM': 200,\n",
    "        'NPAR': 6,\n",
    "        'LREAL': 'Auto',\n",
    "        'LORBIT': None,\n",
    "        'ICHARG': None,\n",
    "        'LPLANE': None,\n",
    "        'PREC': 'Normal',\n",
    "        'LSCALU': None,\n",
    "        'BMIX': None,\n",
    "        'NSIM': None,\n",
    "        'KBLOCK': None,\n",
    "        'MDALGO': 1,\n",
    "        'ANDERSEN_PROB': 0        \n",
    "    }\n",
    "    custom_kpoints = Kpoints(kpts=((1,1,1),))\n",
    "    \n",
    "    custom_potcar_settings = {\n",
    "        'Li': 'Li_sv',\n",
    "        'Sc': 'Sc_sv',\n",
    "        'Cl': 'Cl'\n",
    "    }\n",
    "\n",
    "    inputs = MITMDSet(\n",
    "        structure=structure,\n",
    "        start_temp=start_temp,\n",
    "        end_temp=end_temp,\n",
    "        nsteps=nsteps,\n",
    "        time_step=time_step,\n",
    "        spin_polarized=False, \n",
    "        user_incar_settings=custom_setting, \n",
    "        user_kpoints_settings=custom_kpoints,\n",
    "        user_potcar_settings=custom_potcar_settings,\n",
    "        user_potcar_functional='PBE_54'\n",
    "        )\n",
    "    return inputs, custom_kpoints\n",
    "\n",
    "def write_inputs(path, label, inputs, kpoints):\n",
    "    tmppath = './submit_michael.sh'\n",
    "    if not os.path.exists(path):\n",
    "        os.makedirs(path)\n",
    "    inputs.write_input(path)\n",
    "    kpoints.write_file(os.path.join(path, 'KPOINTS'))\n",
    "\n",
    "    params = {\n",
    "        'job_name': f'{label}',\n",
    "        'ncores': 96,\n",
    "        'project_code': 'FARADAY_MSM_bjm',\n",
    "        'hours': 24,\n",
    "        'node_type': 'K',\n",
    "        'queue_type': 'Gold',\n",
    "        'vasp_bin': '/path/to/your/binary/vasp_gam'\n",
    "\n",
    "    }\n",
    "    \n",
    "    with open(tmppath) as template:\n",
    "        lines = template.read()\n",
    "    inp = Template(lines).safe_substitute(params)\n",
    "    with open(os.path.join(path,'submit.sh'), mode='w') as fobj:\n",
    "        fobj.write(inp)\n",
    "\n",
    "\n"
   ]
  },
  {
   "cell_type": "code",
   "execution_count": 4,
   "metadata": {},
   "outputs": [],
   "source": [
    "curr_dir = os.getcwd()\n",
    "temperature = [400, 600]\n",
    "\n",
    "for t in temperature:\n",
    "    p = os.path.join('MD_NVE', f'{t}K')\n",
    "    inputs, kpoints = get_inputs(strc_relaxed, t, t, 10000, 2) #20 ps\n",
    "    write_inputs(p, f'rlx_{t}', inputs, kpoints)"
   ]
  },
  {
   "cell_type": "code",
   "execution_count": null,
   "metadata": {},
   "outputs": [],
   "source": []
  }
 ],
 "metadata": {
  "interpreter": {
   "hash": "508f5c76d8671a3cb08955090abf284a1ae00c8b8c73d867dcfc90d0e6de934b"
  },
  "kernelspec": {
   "display_name": "Python 3.8.12 ('icet')",
   "language": "python",
   "name": "python3"
  },
  "language_info": {
   "codemirror_mode": {
    "name": "ipython",
    "version": 3
   },
   "file_extension": ".py",
   "mimetype": "text/x-python",
   "name": "python",
   "nbconvert_exporter": "python",
   "pygments_lexer": "ipython3",
   "version": "3.8.12"
  },
  "orig_nbformat": 4
 },
 "nbformat": 4,
 "nbformat_minor": 2
}
