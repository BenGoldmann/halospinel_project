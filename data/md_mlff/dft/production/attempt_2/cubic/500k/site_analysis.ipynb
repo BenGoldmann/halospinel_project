{
 "cells": [
  {
   "cell_type": "code",
   "execution_count": 1,
   "metadata": {},
   "outputs": [],
   "source": [
    "# Import modules\n",
    "from pymatgen.symmetry.groups import SpaceGroup\n",
    "from pymatgen.io.vasp import Poscar\n",
    "from pymatgen.core import Structure\n",
    "from pymatgen.io.vasp import Xdatcar\n",
    "import numpy as np\n",
    "from collections import Counter\n",
    "from site_analysis.polyhedral_site import PolyhedralSite\n",
    "from polyhedral_analysis.configuration import Configuration\n",
    "from polyhedral_analysis.polyhedra_recipe import PolyhedraRecipe\n",
    "from site_analysis.atom import atoms_from_species_string\n",
    "from site_analysis.trajectory import Trajectory"
   ]
  },
  {
   "cell_type": "code",
   "execution_count": 2,
   "metadata": {},
   "outputs": [],
   "source": [
    "# Read XDATCAR\n",
    "xdat = Xdatcar('XDATCAR')"
   ]
  },
  {
   "cell_type": "code",
   "execution_count": 3,
   "metadata": {},
   "outputs": [],
   "source": [
    "# Create structure for each Wyckoff site\n",
    "all_li_structure = Structure.from_file('all_li_structure.cif')\n",
    "lattice = all_li_structure.lattice\n",
    "\n",
    "li1 = Structure.from_spacegroup(sg='Fd-3m:2', lattice = lattice, species=['Li'], coords=[[0.125, 0.125, 0.125]])\n",
    "li2 = Structure.from_spacegroup(sg='Fd-3m:2', lattice = lattice, species=['Li'], coords=[[0.000, 0.000, 0.000]])\n",
    "li3 = Structure.from_spacegroup(sg='Fd-3m:2', lattice = lattice, species=['Li'], coords=[[0.125, 0.125, 0.875]])\n",
    "li4 = Structure.from_spacegroup(sg='Fd-3m:2', lattice = lattice, species=['Li'], coords=[[0.500, 0.500, 0.500]])\n",
    "li5 = Structure.from_spacegroup(sg='Fd-3m:2', lattice = lattice, species=['Li'], coords=[[0.125, 0.125, 0.625]])\n",
    "cl = Structure.from_spacegroup(sg='Fd-3m:2', lattice = lattice, species=['Cl'], coords=[[0.250, 0.250, 0.250]])\n",
    "\n",
    "li_site_structures = [li1, li2, li3, li4, li5]\n",
    "\n",
    "for strc in li_site_structures:\n",
    "    strc.make_supercell([2,2,2])"
   ]
  },
  {
   "cell_type": "code",
   "execution_count": 4,
   "metadata": {},
   "outputs": [],
   "source": [
    "# Create list of all polyhedral sites\n",
    "li_site_structures = [li1, li2, li3, li4, li5]\n",
    "li_labels = ['8a', '16c', '48f', '16d', '8b']\n",
    "all_li_sites = []\n",
    "\n",
    "for li_site_structure, li_label in zip(li_site_structures, li_labels):\n",
    "    # Read initial strucutre:\n",
    "    initial_structure = Structure.from_file('POSCAR')\n",
    "    \n",
    "    # Append atoms for Wyckoff site to initial structure\n",
    "    for site in li_site_structure:\n",
    "        initial_structure.append(site.species, site.frac_coords)\n",
    "    \n",
    "    # Create list of atoms that describe Wyckoff site\n",
    "    li_indices = []\n",
    "    for i in range(432, len(initial_structure)):\n",
    "        li_indices.append(i)\n",
    "    \n",
    "    # Define polyhedral recipe\n",
    "    recipe = PolyhedraRecipe(method='distance cutoff', \n",
    "                          coordination_cutoff=3.2, \n",
    "                          central_atoms=li_indices,\n",
    "                          vertex_atoms='Cl')\n",
    "    \n",
    "    # Create polyhedral configuration\n",
    "    config = Configuration( structure=initial_structure, recipes=[recipe] )\n",
    "    \n",
    "    # Create polyhedral site and add to list\n",
    "    for i in config.polyhedra:\n",
    "        all_li_sites.append(PolyhedralSite(i.vertex_indices, label=li_label))"
   ]
  },
  {
   "cell_type": "code",
   "execution_count": 5,
   "metadata": {},
   "outputs": [],
   "source": [
    "# Create trajectory\n",
    "initial_structure = Structure.from_file('POSCAR')\n",
    "atoms = atoms_from_species_string(initial_structure, 'Li')\n",
    "trajectory = Trajectory(sites=all_li_sites, atoms=atoms)\n",
    "\n",
    "# Load structures into trajectory\n",
    "xdat_structures = xdat.structures\n",
    "for timestep, s in enumerate(xdat_structures[::10]):\n",
    "    trajectory.append_timestep(s, t=timestep)"
   ]
  },
  {
   "cell_type": "markdown",
   "metadata": {},
   "source": [
    "# Site occupation analysis"
   ]
  },
  {
   "cell_type": "code",
   "execution_count": 6,
   "metadata": {},
   "outputs": [
    {
     "data": {
      "text/plain": [
       "{'8a': 0.0893368320610687,\n",
       " '16c': 0.34389909351145037,\n",
       " '48f': 0.007444736005089058,\n",
       " '16d': 0.6327826812977099,\n",
       " '8b': 0.0}"
      ]
     },
     "execution_count": 6,
     "metadata": {},
     "output_type": "execute_result"
    }
   ],
   "source": [
    "# Get site occupancies\n",
    "n_timesteps = len(trajectory.timesteps)\n",
    "c_sites = Counter(trajectory.site_labels())\n",
    "c = Counter()\n",
    "p_occ = {}\n",
    "for site in trajectory.sites:\n",
    "    c[site.label] += len([ 1 for ts in site.trajectory if len(ts)>0 ])\n",
    "for k, v in c.items():\n",
    "    p_occ[k] = v / c_sites[k] / n_timesteps\n",
    "p_occ"
   ]
  },
  {
   "cell_type": "markdown",
   "metadata": {},
   "source": [
    "# Residency analysis"
   ]
  },
  {
   "cell_type": "code",
   "execution_count": 9,
   "metadata": {},
   "outputs": [
    {
     "name": "stdout",
     "output_type": "stream",
     "text": [
      "8a 2.193832599118943 ps\n",
      "16c 10.056785370548605 ps\n",
      "48f 1.786764705882353 ps\n",
      "16d 32.52657004830918 ps\n",
      "8b nan ps\n"
     ]
    }
   ],
   "source": [
    "li_labels = ['8a', '16c', '48f', '16d', '8b']\n",
    "\n",
    "for label in li_labels:\n",
    "    r_times = []\n",
    "    for i in trajectory.sites:\n",
    "        if i.label == label:\n",
    "            counter = 0\n",
    "            current_atom = []\n",
    "            for atom in i.trajectory:\n",
    "                if len(atom) == 1:\n",
    "                    if current_atom == []:\n",
    "                        counter = counter + 1\n",
    "                        current_atom = atom[0]\n",
    "                    if current_atom != []:\n",
    "                        if current_atom == atom[0]:\n",
    "                            counter = counter + 1\n",
    "                        elif current_atom != atom[0]:\n",
    "                            r_times.append(counter-1)\n",
    "                            counter = 0\n",
    "                            current_atom = atom[0]\n",
    "                if len(atom) == 0:\n",
    "                    if current_atom != []:\n",
    "                        r_times.append(counter-1)\n",
    "                        counter = 0\n",
    "                        current_atom = []\n",
    "    print(label, np.mean(r_times), \"ps\")"
   ]
  },
  {
   "cell_type": "code",
   "execution_count": null,
   "metadata": {},
   "outputs": [],
   "source": []
  }
 ],
 "metadata": {
  "kernelspec": {
   "display_name": "Python 3",
   "language": "python",
   "name": "python3"
  },
  "language_info": {
   "codemirror_mode": {
    "name": "ipython",
    "version": 3
   },
   "file_extension": ".py",
   "mimetype": "text/x-python",
   "name": "python",
   "nbconvert_exporter": "python",
   "pygments_lexer": "ipython3",
   "version": "3.8.10"
  }
 },
 "nbformat": 4,
 "nbformat_minor": 4
}
