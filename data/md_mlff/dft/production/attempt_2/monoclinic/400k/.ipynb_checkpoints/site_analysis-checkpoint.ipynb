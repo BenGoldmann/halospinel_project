{
 "cells": [
  {
   "cell_type": "code",
   "execution_count": 1,
   "metadata": {},
   "outputs": [],
   "source": [
    "# Import modules\n",
    "from pymatgen.symmetry.groups import SpaceGroup\n",
    "from pymatgen.io.vasp import Poscar\n",
    "from pymatgen.core import Structure\n",
    "from pymatgen.io.vasp import Xdatcar\n",
    "import numpy as np\n",
    "from collections import Counter\n",
    "from site_analysis.polyhedral_site import PolyhedralSite\n",
    "from polyhedral_analysis.configuration import Configuration\n",
    "from polyhedral_analysis.polyhedra_recipe import PolyhedraRecipe\n",
    "from site_analysis.atom import atoms_from_species_string\n",
    "from site_analysis.trajectory import Trajectory"
   ]
  },
  {
   "cell_type": "code",
   "execution_count": 2,
   "metadata": {},
   "outputs": [],
   "source": [
    "# Read XDATCAR\n",
    "xdat = Xdatcar('XDATCAR')"
   ]
  },
  {
   "cell_type": "code",
   "execution_count": 35,
   "metadata": {},
   "outputs": [
    {
     "name": "stderr",
     "output_type": "stream",
     "text": [
      "/home/ben/.local/lib/python3.8/site-packages/pymatgen/io/cif.py:1155: UserWarning: Issues encountered while parsing CIF: Some fractional coordinates rounded to ideal values to avoid issues with finite precision.\n",
      "  warnings.warn(\"Issues encountered while parsing CIF: \" + \"\\n\".join(self.warnings))\n"
     ]
    }
   ],
   "source": [
    "# Create structure for each Wyckoff site\n",
    "all_li_structure = Structure.from_file('all_li_structure.cif')\n",
    "lattice = all_li_structure.lattice\n",
    "\n",
    "li1 = Structure.from_spacegroup(sg='C2/m', lattice = lattice, species=['Li'], coords=[[0.50000, 0.00000, 0.50000]]) # octahedral Li not in Sc layer, but in line with Sc (2d)\n",
    "li2 = Structure.from_spacegroup(sg='C2/m', lattice = lattice, species=['Li'], coords=[[0.50000, 0.83333, 0.00000]]) # octahedral Li in Sc layer (4g)\n",
    "li3 = Structure.from_spacegroup(sg='C2/m', lattice = lattice, species=['Li'], coords=[[0.00000, 0.16667, 0.50000]]) # octahedral Li not in Sc layer (4h)\n",
    "li4 = Structure.from_spacegroup(sg='C2/m', lattice = lattice, species=['Li'], coords=[[0.87500, 0.50000, 0.12500]]) # tetrahedral Li in Sc layer and in line with Sc (4i_1)\n",
    "li5 = Structure.from_spacegroup(sg='C2/m', lattice = lattice, species=['Li'], coords=[[0.87500, 0.00000, 0.62500]]) # tetrahedral Li not in Sc layer, but in line with Sc (4i_2)\n",
    "li7 = Structure.from_spacegroup(sg='C2/m', lattice = lattice, species=['Li'], coords=[[0.87500, 0.16667, 0.12500]]) # tetrahedral Li in Sc layer, but not in line with Sc (8j_1)\n",
    "li6 = Structure.from_spacegroup(sg='C2/m', lattice = lattice, species=['Li'], coords=[[0.12500, 0.33333, 0.37500]]) # tetrahedral Li not in Sc layer and not in line with Sc (8j_2)\n",
    "\n",
    "li_site_structures = [li1, li2, li3, li4, li5, li6, li7]\n",
    "\n",
    "for strc in li_site_structures:\n",
    "    strc.make_supercell([3,2,3])"
   ]
  },
  {
   "cell_type": "code",
   "execution_count": 36,
   "metadata": {},
   "outputs": [],
   "source": [
    "# Create list of all polyhedral sites\n",
    "li_site_structures = [li1, li2, li3, li4, li5, li6, li7]\n",
    "li_labels = ['2d', '4g', '4h', '4i_1', '4i_2', '8j_1', '8j_2']\n",
    "all_li_sites = []\n",
    "\n",
    "for li_site_structure, li_label in zip(li_site_structures, li_labels):\n",
    "    # Read initial strucutre:\n",
    "    initial_structure = Structure.from_file('POSCAR')\n",
    "    \n",
    "    # Append atoms for Wyckoff site to initial structure\n",
    "    for site in li_site_structure:\n",
    "        initial_structure.append(site.species, site.frac_coords)\n",
    "    \n",
    "    # Create list of atoms that describe Wyckoff site\n",
    "    li_indices = []\n",
    "    for i in range(360, len(initial_structure)):\n",
    "        li_indices.append(i)\n",
    "    \n",
    "    # Define polyhedral recipe\n",
    "    recipe = PolyhedraRecipe(method='distance cutoff', \n",
    "                          coordination_cutoff=3.2, \n",
    "                          central_atoms=li_indices,\n",
    "                          vertex_atoms='Cl')\n",
    "    \n",
    "    # Create polyhedral configuration\n",
    "    config = Configuration( structure=initial_structure, recipes=[recipe] )\n",
    "    \n",
    "    # Create polyhedral site and add to list\n",
    "    for i in config.polyhedra:\n",
    "        all_li_sites.append(PolyhedralSite(i.vertex_indices, label=li_label))"
   ]
  },
  {
   "cell_type": "code",
   "execution_count": 37,
   "metadata": {},
   "outputs": [],
   "source": [
    "# Create trajectory\n",
    "initial_structure = Structure.from_file('POSCAR')\n",
    "atoms = atoms_from_species_string(initial_structure, 'Li')\n",
    "trajectory = Trajectory(sites=all_li_sites, atoms=atoms)\n",
    "\n",
    "# Load structures into trajectory\n",
    "xdat_structures = xdat.structures\n",
    "for timestep, s in enumerate(xdat_structures[::10]):\n",
    "    trajectory.append_timestep(s, t=timestep)"
   ]
  },
  {
   "cell_type": "markdown",
   "metadata": {},
   "source": [
    "# Site occupation analysis"
   ]
  },
  {
   "cell_type": "code",
   "execution_count": 38,
   "metadata": {},
   "outputs": [
    {
     "data": {
      "text/plain": [
       "{'2d': 0.33467896962706656,\n",
       " '4g': 0.8795655517108805,\n",
       " '4h': 0.2692714340638216,\n",
       " '4i_1': 0.0,\n",
       " '4i_2': 0.002499038831218762,\n",
       " '8j_1': 0.022347174163783158,\n",
       " '8j_2': 2.4029219530949632e-05}"
      ]
     },
     "execution_count": 38,
     "metadata": {},
     "output_type": "execute_result"
    }
   ],
   "source": [
    "# Get site occupancies\n",
    "n_timesteps = len(trajectory.timesteps)\n",
    "c_sites = Counter(trajectory.site_labels())\n",
    "c = Counter()\n",
    "p_occ = {}\n",
    "for site in trajectory.sites:\n",
    "    c[site.label] += len([ 1 for ts in site.trajectory if len(ts)>0 ])\n",
    "for k, v in c.items():\n",
    "    p_occ[k] = v / c_sites[k] / n_timesteps\n",
    "p_occ"
   ]
  },
  {
   "cell_type": "markdown",
   "metadata": {},
   "source": [
    "# Residency analysis"
   ]
  },
  {
   "cell_type": "code",
   "execution_count": 39,
   "metadata": {},
   "outputs": [
    {
     "name": "stdout",
     "output_type": "stream",
     "text": [
      "2d 13.703389830508474 ps\n",
      "4g 42.747058823529414 ps\n",
      "4h 12.664179104477611 ps\n",
      "4i_1 nan ps\n",
      "4i_2 1.0196078431372548 ps\n",
      "8j_1 1.6570397111913358 ps\n",
      "8j_2 1.0 ps\n"
     ]
    },
    {
     "name": "stderr",
     "output_type": "stream",
     "text": [
      "/home/ben/.local/lib/python3.8/site-packages/numpy/core/fromnumeric.py:3419: RuntimeWarning: Mean of empty slice.\n",
      "  return _methods._mean(a, axis=axis, dtype=dtype,\n",
      "/home/ben/.local/lib/python3.8/site-packages/numpy/core/_methods.py:188: RuntimeWarning: invalid value encountered in double_scalars\n",
      "  ret = ret.dtype.type(ret / rcount)\n"
     ]
    }
   ],
   "source": [
    "li_labels = ['2d', '4g', '4h', '4i_1', '4i_2', '8j_1', '8j_2']\n",
    "\n",
    "for label in li_labels:\n",
    "    r_times = []\n",
    "    for i in trajectory.sites:\n",
    "        if i.label == label:\n",
    "            counter = 0\n",
    "            current_atom = []\n",
    "            for atom in i.trajectory:\n",
    "                if len(atom) == 1:\n",
    "                    if current_atom == []:\n",
    "                        counter = counter + 1\n",
    "                        current_atom = atom[0]\n",
    "                    if current_atom != []:\n",
    "                        if current_atom == atom[0]:\n",
    "                            counter = counter + 1\n",
    "                        elif current_atom != atom[0]:\n",
    "                            r_times.append(counter-1)\n",
    "                            counter = 0\n",
    "                            current_atom = atom[0]\n",
    "                if len(atom) == 0:\n",
    "                    if current_atom != []:\n",
    "                        r_times.append(counter-1)\n",
    "                        counter = 0\n",
    "                        current_atom = []\n",
    "    print(label, np.mean(r_times), \"ps\")"
   ]
  },
  {
   "cell_type": "code",
   "execution_count": 34,
   "metadata": {},
   "outputs": [
    {
     "data": {
      "text/plain": [
       "4"
      ]
     },
     "execution_count": 34,
     "metadata": {},
     "output_type": "execute_result"
    }
   ],
   "source": [
    "len(li2)"
   ]
  },
  {
   "cell_type": "code",
   "execution_count": 41,
   "metadata": {},
   "outputs": [
    {
     "data": {
      "text/plain": [
       "289"
      ]
     },
     "execution_count": 41,
     "metadata": {},
     "output_type": "execute_result"
    }
   ],
   "source": [
    "len(trajectory)"
   ]
  },
  {
   "cell_type": "code",
   "execution_count": null,
   "metadata": {},
   "outputs": [],
   "source": []
  }
 ],
 "metadata": {
  "kernelspec": {
   "display_name": "Python 3",
   "language": "python",
   "name": "python3"
  },
  "language_info": {
   "codemirror_mode": {
    "name": "ipython",
    "version": 3
   },
   "file_extension": ".py",
   "mimetype": "text/x-python",
   "name": "python",
   "nbconvert_exporter": "python",
   "pygments_lexer": "ipython3",
   "version": "3.8.10"
  }
 },
 "nbformat": 4,
 "nbformat_minor": 4
}
