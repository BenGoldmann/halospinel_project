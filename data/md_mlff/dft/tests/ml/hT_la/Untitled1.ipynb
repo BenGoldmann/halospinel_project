{
 "cells": [
  {
   "cell_type": "code",
   "execution_count": 5,
<<<<<<< HEAD
=======
   "id": "9655b5bb-2431-4d54-a4c6-8815901a05d3",
>>>>>>> 74543bdbfe128396dfaf1938268f1be421c56ae4
   "metadata": {},
   "outputs": [
    {
     "name": "stdout",
     "output_type": "stream",
     "text": [
      "Trajectory object created.\n",
      "Frames added to trajectory.\n",
      "Analysing trajectory.\n"
     ]
    }
   ],
   "source": [
    "# Import relevant modules.\n",
    "from multiprocessing import Pool\n",
    "import numpy as np\n",
    "import glob\n",
    "import time\n",
    "from tqdm import tqdm\n",
    "from collections import namedtuple\n",
    "from pymatgen.core import Structure, Lattice\n",
    "from pymatgen.io.cif import CifWriter\n",
    "from pymatgen.symmetry.groups import SpaceGroup\n",
    "from site_analysis.voronoi_site import VoronoiSite\n",
    "from site_analysis.trajectory import Trajectory\n",
    "from site_analysis.atom import atoms_from_species_string\n",
    "from collections import Counter\n",
    "from pymatgen.io.vasp import Xdatcar\n",
    "\n",
    "if __name__ == '__main__':\n",
    "    # Create sites for site-analysis.\n",
    "    sg = SpaceGroup('Fd-3m:2')\n",
    "    all_li_structure = Structure.from_file('all_li_structure.cif')\n",
    "\n",
    "    lattice = all_li_structure.lattice\n",
    "    li1 = Structure.from_spacegroup(sg='Fd-3m:2', lattice = lattice, species=['Li'], coords=[[0.125, 0.125, 0.125]])\n",
    "    li2 = Structure.from_spacegroup(sg='Fd-3m:2', lattice = lattice, species=['Li'], coords=[[0.125, 0.125, 0.625]])\n",
    "    li3 = Structure.from_spacegroup(sg='Fd-3m:2', lattice = lattice, species=['Li'], coords=[[0.000, 0.000, 0.000]])\n",
    "    li4 = Structure.from_spacegroup(sg='Fd-3m:2', lattice = lattice, species=['Li'], coords=[[0.500, 0.500, 0.500]])\n",
    "    li5 = Structure.from_spacegroup(sg='Fd-3m:2', lattice = lattice, species=['Li'], coords=[[0.125, 0.125, 0.875]])\n",
    "    \n",
    "    li_structures = {'Li1': li1,\n",
    "                     'Li2': li2,\n",
    "                     'Li3': li3,\n",
    "                     'Li4': li4,\n",
    "                     'Li5': li5}\n",
    "    for strc in li_structures.values():\n",
    "        strc.make_supercell([2,2,2])\n",
    "\n",
    "    li1_sites = [VoronoiSite(s.frac_coords, label='Li1') for s in li1]\n",
    "    li2_sites = [VoronoiSite(s.frac_coords, label='Li2') for s in li2]\n",
    "    li3_sites = [VoronoiSite(s.frac_coords, label='Li3') for s in li3]\n",
    "    li4_sites = [VoronoiSite(s.frac_coords, label='Li4') for s in li4]\n",
    "    li5_sites = [VoronoiSite(s.frac_coords, label='Li5') for s in li5]\n",
    "    sites = li1_sites + li2_sites + li3_sites + li4_sites + li5_sites\n",
    "\n",
    "    # Create atoms for site-analysis.\n",
    "    start_structure = Structure.from_file('POSCAR')\n",
    "    atoms = atoms_from_species_string(start_structure, 'Li')\n",
    "\n",
    "    # Create Trajectory object.\n",
    "    trajectory = Trajectory(sites = sites, atoms = atoms)\n",
    "\n",
    "    print('Trajectory object created.')\n",
    "\n",
    "    # Add structures to Trajectroy object with multiprocessing frame by frame.\n",
    "    xdatcar = Xdatcar('XDATCAR')\n",
    "\n",
    "    for timestep, s in enumerate(xdatcar.structures):\n",
    "        trajectory.append_timestep(s, t=timestep)\n",
    "\n",
    "    if len(trajectory) > 0:\n",
    "        print('Frames added to trajectory.')\n",
    "    else:\n",
    "        print('Frames NOT added to trajectory.')\n",
    "\n",
    "    # Output data about occupancy.\n",
    "    file = open('results.txt', 'w+')\n",
    "    c = Counter()\n",
    "    print('Analysing trajectory.')\n",
    "    for site in trajectory.sites:\n",
    "        c[site.label] += len([1 for ts in site.trajectory if len(ts)>0])\n",
    "    for k, v in c.items():\n",
    "        file.write(f'{k} {(v/len(trajectory))/512}\\n')"
   ]
  },
  {
   "cell_type": "code",
   "execution_count": null,
<<<<<<< HEAD
=======
   "id": "0e4bc3e4-631f-4109-8c87-a0e1e07b0d5f",
>>>>>>> 74543bdbfe128396dfaf1938268f1be421c56ae4
   "metadata": {},
   "outputs": [],
   "source": []
  }
 ],
 "metadata": {
  "kernelspec": {
<<<<<<< HEAD
   "display_name": "Python 3",
=======
   "display_name": "Python 3 (ipykernel)",
>>>>>>> 74543bdbfe128396dfaf1938268f1be421c56ae4
   "language": "python",
   "name": "python3"
  },
  "language_info": {
   "codemirror_mode": {
    "name": "ipython",
    "version": 3
   },
   "file_extension": ".py",
   "mimetype": "text/x-python",
   "name": "python",
   "nbconvert_exporter": "python",
   "pygments_lexer": "ipython3",
<<<<<<< HEAD
   "version": "3.8.10"
=======
   "version": "3.9.7"
>>>>>>> 74543bdbfe128396dfaf1938268f1be421c56ae4
  }
 },
 "nbformat": 4,
 "nbformat_minor": 5
}
