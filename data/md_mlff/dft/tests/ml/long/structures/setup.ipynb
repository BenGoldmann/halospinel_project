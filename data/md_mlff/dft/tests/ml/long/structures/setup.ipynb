{
 "cells": [
  {
   "cell_type": "code",
   "execution_count": 2,
   "metadata": {},
   "outputs": [
    {
     "name": "stderr",
     "output_type": "stream",
     "text": [
      "/usr/lib/python3/dist-packages/requests/__init__.py:89: RequestsDependencyWarning: urllib3 (1.26.7) or chardet (3.0.4) doesn't match a supported version!\n",
      "  warnings.warn(\"urllib3 ({}) or chardet ({}) doesn't match a supported \"\n"
     ]
    }
   ],
   "source": [
    "from pymatgen.core import Structure\n",
    "from pymatgen.io.vasp.outputs import Xdatcar\n",
    "import os\n",
    "from os import path"
   ]
  },
  {
   "cell_type": "code",
   "execution_count": 3,
   "metadata": {},
   "outputs": [
    {
     "name": "stdout",
     "output_type": "stream",
     "text": [
      "10000\n"
     ]
    }
   ],
   "source": [
    "#path to directory containing XDATCAR you want to do SPCs on\n",
    "xdatPath = '/home/ben/Documents/halospinel_project/data/dft/tests/ml/long/'\n",
    "\n",
    "#extract structures from XDATCAR\n",
    "template_XDAT = Xdatcar(xdatPath+'XDATCAR')\n",
    "structures = template_XDAT.structures\n",
    "print(len(structures))"
   ]
  },
  {
   "cell_type": "code",
   "execution_count": 5,
   "metadata": {},
   "outputs": [],
   "source": [
    "#required files for SPC\n",
    "template_files = ['INCAR','POTCAR','KPOINTS','ML_FF']\n",
    "\n",
    "#Adding the indices of the desired structures to list (My XDATCAR was 2000 so I took every 4th structure)\n",
    "rangeList = [*range(len(structures))]\n",
    "indices = rangeList[1::20]\n",
    "\n",
    "#path to folder filled with required files\n",
    "templatePath = '/home/ben/Documents/halospinel_project/data/dft/tests/ml/long/structures/template/'\n",
    "\n",
    "for i in indices:\n",
    "    #create folder with index in name\n",
    "    destPath = f'config_{i}/'\n",
    "    if path.isdir(destPath) == False:\n",
    "        os.mkdir(destPath)\n",
    "\n",
    "    #add structure to new folder as POSCAR\n",
    "    struc = structures[i]\n",
    "    os.chdir(destPath)\n",
    "    struc.to(filename='POSCAR')\n",
    "\n",
    "    #symlink each required file to new folder (saves copying the big FF 500 times)\n",
    "    for file in template_files:\n",
    "        os.system(f\"ln -s ../template/{file} ./{file}\")\n",
    "    os.chdir('../')"
   ]
  },
  {
   "cell_type": "code",
   "execution_count": null,
   "metadata": {},
   "outputs": [],
   "source": []
  }
 ],
 "metadata": {
  "interpreter": {
   "hash": "17b31c182e7caa48f29ba4b08e2f3c1e510dbfed8099777a45593b8e11210aa8"
  },
  "kernelspec": {
   "display_name": "Python 3",
   "language": "python",
   "name": "python3"
  },
  "language_info": {
   "codemirror_mode": {
    "name": "ipython",
    "version": 3
   },
   "file_extension": ".py",
   "mimetype": "text/x-python",
   "name": "python",
   "nbconvert_exporter": "python",
   "pygments_lexer": "ipython3",
   "version": "3.8.10"
  }
 },
 "nbformat": 4,
 "nbformat_minor": 4
}
