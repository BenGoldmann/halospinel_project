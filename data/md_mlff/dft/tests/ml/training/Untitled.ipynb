{
 "cells": [
  {
   "cell_type": "code",
   "execution_count": 8,
   "id": "e7780d6a-5b2e-4e26-bfcc-f7ee43091464",
   "metadata": {},
   "outputs": [],
   "source": [
    "from pymatgen.io.vasp.outputs import Xdatcar\n",
    "\n",
    "XDAT = Xdatcar('XDATCAR')\n",
    "\n",
    "structures = XDAT.structures\n",
    "\n",
    "out = structures[-11]\n",
    "\n",
    "out.to(\"poscar\", \"POSCAR\")"
   ]
  },
  {
   "cell_type": "code",
   "execution_count": 6,
   "id": "98496301-525b-4432-8455-e9dbe83b5270",
   "metadata": {},
   "outputs": [
    {
     "name": "stdout",
     "output_type": "stream",
     "text": [
      "0\n"
     ]
    }
   ],
   "source": [
    "listt = [0,1,2,3,4,5,6,7,8,9]\n",
    "\n",
    "print(listt[-10])"
   ]
  },
  {
   "cell_type": "code",
   "execution_count": null,
   "id": "04718b85-263a-40bc-982a-9bd42b54fb4d",
   "metadata": {},
   "outputs": [],
   "source": []
  }
 ],
 "metadata": {
  "kernelspec": {
   "display_name": "Python 3 (ipykernel)",
   "language": "python",
   "name": "python3"
  },
  "language_info": {
   "codemirror_mode": {
    "name": "ipython",
    "version": 3
   },
   "file_extension": ".py",
   "mimetype": "text/x-python",
   "name": "python",
   "nbconvert_exporter": "python",
   "pygments_lexer": "ipython3",
   "version": "3.9.7"
  }
 },
 "nbformat": 4,
 "nbformat_minor": 5
}
