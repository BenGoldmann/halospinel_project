{
 "cells": [
  {
   "cell_type": "code",
   "execution_count": 31,
   "id": "4a17cbbd-4486-40a3-a5d3-81766838ae43",
   "metadata": {},
   "outputs": [
    {
     "data": {
      "text/plain": [
       "[<matplotlib.lines.Line2D at 0x7fc3b7bc8970>]"
      ]
     },
     "execution_count": 31,
     "metadata": {},
     "output_type": "execute_result"
    },
    {
     "data": {
      "image/png": "[encoded data removed]",
      "text/plain": [
       "<Figure size 432x288 with 1 Axes>"
      ]
     },
     "metadata": {
      "needs_background": "light"
     },
     "output_type": "display_data"
    }
   ],
   "source": [
    "import numpy as np\n",
    "import matplotlib.pyplot as plt\n",
    "\n",
    "energy = open('OSZICAR', 'r')\n",
    "\n",
    "lines = energy.readlines()\n",
    "\n",
    "energies = []\n",
    "\n",
    "for l in lines:\n",
    "    split = l.split()\n",
    "    energies.append(float(split[4]))\n",
    "    \n",
    "energies_rel = []\n",
    "\n",
    "for e in energies:\n",
    "    energies_rel.append(e + 1859.1005)\n",
    "    \n",
    "steps = np.arange(0, len(energies_rel))\n",
    "time_ps = steps/500\n",
    "\n",
    "plt.plot(time_ps, energies_rel)"
   ]
  },
  {
   "cell_type": "code",
   "execution_count": 14,
   "id": "17b9411b-877a-44d5-9518-974cef7d4dfe",
   "metadata": {},
   "outputs": [
    {
     "data": {
      "text/plain": [
       "'      1 T=   300. E= -.18590775E+04 F= -.18757941E+04 E0= -.18757941E+04  EK= 0.16717E+02 SP= 0.00E+00 SK= 0.00E+00\\n'"
      ]
     },
     "execution_count": 14,
     "metadata": {},
     "output_type": "execute_result"
    }
   ],
   "source": []
  },
  {
   "cell_type": "code",
   "execution_count": 29,
   "id": "cc8334bf-51f8-4149-b076-52e5bb559e62",
   "metadata": {},
   "outputs": [
    {
     "data": {
      "text/plain": [
       "-1859.1005"
      ]
     },
     "execution_count": 29,
     "metadata": {},
     "output_type": "execute_result"
    }
   ],
   "source": [
    "min(energies)"
   ]
  },
  {
   "cell_type": "code",
   "execution_count": null,
   "id": "848c9012-fdae-46bf-953d-5ef7e3f9e5c0",
   "metadata": {},
   "outputs": [],
   "source": []
  }
 ],
 "metadata": {
  "kernelspec": {
   "display_name": "Python 3 (ipykernel)",
   "language": "python",
   "name": "python3"
  },
  "language_info": {
   "codemirror_mode": {
    "name": "ipython",
    "version": 3
   },
   "file_extension": ".py",
   "mimetype": "text/x-python",
   "name": "python",
   "nbconvert_exporter": "python",
   "pygments_lexer": "ipython3",
   "version": "3.9.7"
  }
 },
 "nbformat": 4,
 "nbformat_minor": 5
}
