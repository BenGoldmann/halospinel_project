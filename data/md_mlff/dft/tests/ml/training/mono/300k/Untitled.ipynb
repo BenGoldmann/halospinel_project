{
 "cells": [
  {
   "cell_type": "code",
   "execution_count": 1,
   "id": "3052ec84-4358-4432-9400-2314e943549c",
   "metadata": {},
   "outputs": [
    {
     "data": {
      "image/png": "[encoded data removed]",
      "text/plain": [
       "<Figure size 432x288 with 1 Axes>"
      ]
     },
     "metadata": {
      "needs_background": "light"
     },
     "output_type": "display_data"
    }
   ],
   "source": [
    "import numpy as np\n",
    "import matplotlib.pyplot as plt\n",
    "\n",
    "msd = np.loadtxt('li_300.txt', skiprows=2, unpack=True)\n",
    "\n",
    "steps = np.arange(0, len(msd))\n",
    "\n",
    "time = steps/5\n",
    "\n",
    "plt.plot(time, msd)\n",
    "plt.xlabel('time, ps')\n",
    "plt.ylabel('MSD, $\\mathrm{\\AA^2}$')\n",
    "\n",
    "def make_square_axes(ax):\n",
    "    \"\"\"Make an axes square in screen units.\n",
    "\n",
    "    Should be called after plotting.\n",
    "    \"\"\"\n",
    "    ax.set_aspect(1 / ax.get_data_ratio())\n",
    "\n",
    "make_square_axes(plt.gca())\n",
    "\n",
    "plt.savefig('msd_mon300.jpg', bbox_inches='tight', dpi=500)"
   ]
  },
  {
   "cell_type": "code",
   "execution_count": 2,
   "id": "17d4ecdc-3524-4892-afd7-2808e1faf9bf",
   "metadata": {},
   "outputs": [],
   "source": [
    "##########\n",
    "d = 3\n",
    "charge = 1\n",
    "conc = 1.59 * 10**(28)\n",
    "haven = 1\n",
    "##########\n",
    "\n",
    "T=300\n",
    "\n",
    "slope, intercept = np.polyfit(time[250:], msd[250:], 1)\n",
    "\n",
    "dc = (slope * (10 ** (-8))) / (2*d)\n",
    "\n",
    "cond = (((charge * 1.602 * 10**(-19))**2 * conc * dc * haven)/((1.381 * 10**(-23)) * T) * 10**(-2))"
   ]
  },
  {
   "cell_type": "code",
   "execution_count": 3,
   "id": "a87c9f4c-f4da-464d-84c8-046861f4c20d",
   "metadata": {},
   "outputs": [
    {
     "data": {
      "text/plain": [
       "0.003078160848397131"
      ]
     },
     "execution_count": 3,
     "metadata": {},
     "output_type": "execute_result"
    }
   ],
   "source": [
    "cond"
   ]
  },
  {
   "cell_type": "code",
   "execution_count": null,
   "id": "0e4447df-7d16-40c5-9217-3bc3b3d79ec0",
   "metadata": {},
   "outputs": [],
   "source": []
  }
 ],
 "metadata": {
  "kernelspec": {
   "display_name": "Python 3 (ipykernel)",
   "language": "python",
   "name": "python3"
  },
  "language_info": {
   "codemirror_mode": {
    "name": "ipython",
    "version": 3
   },
   "file_extension": ".py",
   "mimetype": "text/x-python",
   "name": "python",
   "nbconvert_exporter": "python",
   "pygments_lexer": "ipython3",
   "version": "3.9.7"
  }
 },
 "nbformat": 4,
 "nbformat_minor": 5
}
