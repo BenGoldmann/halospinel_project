{
 "cells": [
  {
   "cell_type": "code",
   "execution_count": 3,
   "metadata": {},
   "outputs": [],
   "source": [
    "class mlstat_point:\n",
    "    def __init__(self, step, color):\n",
    "        self.step = step\n",
    "        self.color = color\n",
    "\n",
    "def extract_mlstat(filename, temp, stage, offset):\n",
    "    file = open(filename, 'r')\n",
    "    lines = file.readlines()\n",
    "    \n",
    "    for l in lines:\n",
    "        split = l.split()\n",
    "        if float(split[3]) == 2:\n",
    "            mlstat[temp][stage].append(mlstat_point(float(split[1])+offset, 'tab:blue'))\n",
    "        if float(split[3]) == 3:\n",
    "            mlstat[temp][stage].append(mlstat_point(float(split[1])+offset, 'tab:orange'))\n",
    "        if float(split[3]) == 4:\n",
    "            mlstat[temp][stage].append(mlstat_point(float(split[1])+offset, 'tab:red'))"
   ]
  },
  {
   "cell_type": "code",
   "execution_count": 5,
   "metadata": {},
   "outputs": [],
   "source": [
    "t1s1 = []\n",
    "t1s2 =[]\n",
    "t2s1 = []\n",
    "t1 = [t1s1, t1s2]\n",
    "t2 = [t2s1]\n",
    "mlstat = [t1, t2]\n",
    "\n",
    "files = ['t1s1c1.txt', 't1s1c2.txt', 't1s1c3.txt','t1s1c4.txt', 't1s1c5.txt', 't1s2c1.txt', 't2s1c1.txt']\n",
    "temps = [0, 0, 0, 0, 0, 0, 1]\n",
    "stages = [0, 0, 0, 0, 0, 0, 0]\n",
    "offsets = [0, 1945, 5000, 7500, 10000, 15000, 0]\n",
    "\n",
    "for f, t, s, o in zip(files, temps, stages, offsets):\n",
    "    extract_mlstat(f, t, s, o)"
   ]
  },
  {
   "cell_type": "code",
   "execution_count": 100,
   "metadata": {},
   "outputs": [
    {
     "data": {
      "text/plain": [
       "Text(0, 0.5, '200 K\\n+0.00% vol.')"
      ]
     },
     "execution_count": 100,
     "metadata": {},
     "output_type": "execute_result"
    },
    {
     "data": {
      "image/png": "[encoded data removed]",
      "text/plain": [
       "<Figure size 1080x72 with 6 Axes>"
      ]
     },
     "metadata": {
      "needs_background": "light"
     },
     "output_type": "display_data"
    }
   ],
   "source": [
    "import matplotlib.pyplot as plt\n",
    "import matplotlib.patheffects as PathEffects\n",
    "\n",
    "figsize=(15, 15)\n",
    "\n",
    "fig, ax = plt.subplots(2,3, figsize=(15, 1))\n",
    "plt.subplots_adjust(wspace=0.1)\n",
    "axes = [ax[0][0], ax[0][1], ax[0][2], ax[1][0], ax[1][1], ax[1][2]]\n",
    "\n",
    "for d in mlstat[0][0]:\n",
    "    if d.color == 'tab:red':\n",
    "        ax[0][0].scatter(d.step, 1, color=d.color)\n",
    "        \n",
    "for d in mlstat[0][0]:\n",
    "    if d.color == 'tab:orange':\n",
    "        ax[0][1].scatter(d.step, 1, color=d.color)\n",
    "        \n",
    "for d in mlstat[0][0]:\n",
    "    if d.color == 'tab:blue':\n",
    "        ax[0][2].scatter(d.step, 1, color=d.color)\n",
    "        \n",
    "for d in mlstat[1][0]:\n",
    "    if d.color == 'tab:red':\n",
    "        ax[1][0].scatter(d.step, 1, color=d.color)\n",
    "        \n",
    "for d in mlstat[1][0]:\n",
    "    if d.color == 'tab:orange':\n",
    "        ax[1][1].scatter(d.step, 1, color=d.color)\n",
    "        \n",
    "for d in mlstat[1][0]:\n",
    "    if d.color == 'tab:blue':\n",
    "        ax[1][2].scatter(d.step, 1, color=d.color)\n",
    "\n",
    "for x in axes[0:3]:\n",
    "    x.plot([5000, 5000], [0.5, 1.5], color='black', ls=':')\n",
    "    x.plot([10000, 10000], [0.5, 1.5], color='black', ls=':')\n",
    "    x.plot([15000, 15000], [0.5, 1.5], color='black')\n",
    "    structures_1 = x.text(4800, 1.2, '127', ha='right', va='center', size=12)\n",
    "    structures_1.set_path_effects([PathEffects.withStroke(linewidth=3, foreground='white')])\n",
    "    structures_2 = x.text(9800, 1.2, '149', ha='right', va='center', size=12)\n",
    "    structures_2.set_path_effects([PathEffects.withStroke(linewidth=3, foreground='white')])\n",
    "    structures_3 = x.text(14800, 1.2, '21', ha='right', va='center', size=12, color='green')\n",
    "    structures_3.set_path_effects([PathEffects.withStroke(linewidth=3, foreground='white')])\n",
    "    structures_4 = x.text(19800, 1.2, '28', ha='right', va='center', size=12, color='green')\n",
    "    structures_4.set_path_effects([PathEffects.withStroke(linewidth=3, foreground='white')])\n",
    "    x.set_ylim(0.5, 1.5)\n",
    "    x.set_xlim(0, 20000)\n",
    "    x.set_xticks([])\n",
    "    x.set_yticks([])\n",
    "    \n",
    "for x in axes[3:]:\n",
    "    x.plot([5000, 5000], [0.5, 1.5], color='black', ls=':')\n",
    "    structures_1 = x.text(4800, 1.2, '72', ha='right', va='center', size=12)\n",
    "    structures_1.set_path_effects([PathEffects.withStroke(linewidth=3, foreground='white')])\n",
    "    x.set_ylim(0.5, 1.5)\n",
    "    x.set_xlim(0, 20000)\n",
    "    x.set_yticks([])\n",
    "    x.set_xticks([0, 5000, 10000, 15000, 20000])\n",
    "    x.set_xlabel('step number')    \n",
    "    \n",
    "ax[0][0].set_ylabel('100 K\\n+0.00% vol.', rotation=0, labelpad=70, size=10, va='center', ha='left')\n",
    "ax[1][0].set_ylabel('200 K\\n+0.00% vol.', rotation=0, labelpad=70, size=10, va='center', ha='left')"
   ]
  },
  {
   "cell_type": "code",
   "execution_count": null,
   "metadata": {},
   "outputs": [],
   "source": []
  }
 ],
 "metadata": {
  "kernelspec": {
   "display_name": "Python 3",
   "language": "python",
   "name": "python3"
  },
  "language_info": {
   "codemirror_mode": {
    "name": "ipython",
    "version": 3
   },
   "file_extension": ".py",
   "mimetype": "text/x-python",
   "name": "python",
   "nbconvert_exporter": "python",
   "pygments_lexer": "ipython3",
   "version": "3.8.10"
  }
 },
 "nbformat": 4,
 "nbformat_minor": 4
}
