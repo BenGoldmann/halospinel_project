{
 "cells": [
  {
   "cell_type": "code",
   "execution_count": 6,
   "id": "d5e9cc08-b98f-4d59-8893-df4d4721fbe1",
   "metadata": {},
   "outputs": [
    {
     "name": "stdout",
     "output_type": "stream",
     "text": [
      "Formation energy of cubic polymorph: -0.1372914814814813 eV/atom\n",
      "Formation energy of monoclinic polymorph: -0.14447384999999927 eV/atom\n",
      "Difference: 7.182368518517973 meV/atom\n"
     ]
    }
   ],
   "source": [
    "e_cubic = -234.56454\n",
    "e_monoclinic = -87.848677\n",
    "\n",
    "#e_licl = -7.641018\n",
    "#e_sccl = -21.105225\n",
    "\n",
    "e_licl = -7.3764\n",
    "e_sccl = -20.3504\n",
    "\n",
    "fe_cubic = e_cubic - (17*e_licl + 5*e_sccl)\n",
    "fe_monoclinic = e_monoclinic - (6*e_licl + 2*e_sccl)\n",
    "\n",
    "fe_cubic_peratom = fe_cubic/54\n",
    "fe_monoclinic_peratom = fe_monoclinic/20\n",
    "\n",
    "delta_e = fe_cubic_peratom - fe_monoclinic_peratom\n",
    "\n",
    "print(f'Formation energy of cubic polymorph: {fe_cubic_peratom} eV/atom')\n",
    "print(f'Formation energy of monoclinic polymorph: {fe_monoclinic_peratom} eV/atom')\n",
    "print(f'Difference: {delta_e*1000} meV/atom')"
   ]
  },
  {
   "cell_type": "code",
   "execution_count": null,
   "id": "56091126-76d6-4c2c-aa91-221cd9b0e6f2",
   "metadata": {},
   "outputs": [],
   "source": []
  }
 ],
 "metadata": {
  "kernelspec": {
   "display_name": "Python 3 (ipykernel)",
   "language": "python",
   "name": "python3"
  },
  "language_info": {
   "codemirror_mode": {
    "name": "ipython",
    "version": 3
   },
   "file_extension": ".py",
   "mimetype": "text/x-python",
   "name": "python",
   "nbconvert_exporter": "python",
   "pygments_lexer": "ipython3",
   "version": "3.9.7"
  }
 },
 "nbformat": 4,
 "nbformat_minor": 5
}
