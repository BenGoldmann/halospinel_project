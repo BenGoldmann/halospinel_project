{
 "cells": [
  {
   "cell_type": "code",
   "execution_count": 7,
   "metadata": {},
   "outputs": [
    {
     "name": "stdout",
     "output_type": "stream",
     "text": [
      "relaxed_cifs/il0011249038_full_P1.cif is output_cifs/148d1a59-04f7-45c3-bb05-d78889227dbc.cif\n",
      "relaxed_cifs/il0014751862_full_P1.cif is output_cifs/af74852e-e7d0-4c7a-8e63-d2a1dc50e28f.cif\n",
      "relaxed_cifs/il0004187328_full_P1.cif is output_cifs/4b315f18-c884-4675-8e6b-72398818122c.cif\n",
      "relaxed_cifs/il0015300046_full_P1.cif is output_cifs/abe9012e-f303-4bea-b7ff-526f64294137.cif\n",
      "relaxed_cifs/il0011275246_full_P1.cif is output_cifs/372ee81e-1f5c-4fac-ae03-c67cd21c1972.cif\n",
      "relaxed_cifs/il0011297568_full_P1.cif is output_cifs/a382bbd1-24d0-43e6-b543-572afa181386.cif\n",
      "relaxed_cifs/il0013932334_full_P1.cif is output_cifs/bc5ab391-c9f3-4950-8ed9-72fab7c16687.cif\n",
      "relaxed_cifs/il0004252848_full_P1.cif is output_cifs/modified.cif\n",
      "relaxed_cifs/il0004254847_full_P1.cif is output_cifs/8d840e1f-04a5-4950-88ec-06ce3fa01c7d.cif\n",
      "relaxed_cifs/il0015288165_full_P1.cif is output_cifs/badaf1a3-b442-49a9-9da8-9f51d52c9715.cif\n"
     ]
    }
   ],
   "source": [
    "import glob as glob\n",
    "from pymatgen.core import Structure\n",
    "from pymatgen.analysis.structure_matcher import StructureMatcher\n",
    "\n",
    "relaxed_files = glob.glob('relaxed_cifs/*.cif')\n",
    "output_files = glob.glob('output_cifs/*.cif')\n",
    "\n",
    "relaxed_structures = []\n",
    "output_structures = []\n",
    "\n",
    "for r in relaxed_files:\n",
    "    strc = Structure.from_file(r)\n",
    "    relaxed_structures.append(strc)\n",
    "\n",
    "for o in output_files:\n",
    "    strc = Structure.from_file(o)\n",
    "    output_structures.append(strc)\n",
    "\n",
    "matcher = StructureMatcher()\n",
    "\n",
    "for rel, r in zip(relaxed_structures, relaxed_files):\n",
    "    for out, o in zip(output_structures, output_files):\n",
    "        if matcher.fit(rel, out) == True:\n",
    "            print(f'{r} is {o}')"
   ]
  },
  {
   "cell_type": "code",
   "execution_count": null,
   "metadata": {},
   "outputs": [],
   "source": []
  }
 ],
 "metadata": {
  "kernelspec": {
<<<<<<< HEAD
   "display_name": "Python 3 (ipykernel)",
=======
   "display_name": "Python 3",
>>>>>>> 9485a617a8c4421be2e5f2dfff0df332f6728780
   "language": "python",
   "name": "python3"
  },
  "language_info": {
   "codemirror_mode": {
    "name": "ipython",
    "version": 3
   },
   "file_extension": ".py",
   "mimetype": "text/x-python",
   "name": "python",
   "nbconvert_exporter": "python",
   "pygments_lexer": "ipython3",
<<<<<<< HEAD
   "version": "3.9.7"
=======
   "version": "3.8.10"
>>>>>>> 9485a617a8c4421be2e5f2dfff0df332f6728780
  }
 },
 "nbformat": 4,
 "nbformat_minor": 4
}
