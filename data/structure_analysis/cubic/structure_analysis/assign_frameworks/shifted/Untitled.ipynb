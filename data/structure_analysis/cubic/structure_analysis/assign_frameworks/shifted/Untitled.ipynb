{
 "cells": [
  {
   "cell_type": "code",
   "execution_count": null,
   "id": "1234cdbf-7a15-40e1-956c-50a071f72865",
   "metadata": {},
   "outputs": [],
   "source": [
    "from pymatgen.core import Structure\n",
    "from pymatgen.io.cif import CifWriter\n",
    "import numpy as np\n",
    "import glob\n",
    "\n",
    "def convert_value(a):\n",
    "    converted = a - 0.375\n",
    "    return converted\n",
    "\n",
    "files = glob.glob('*framework.cif')\n",
    "\n",
    "for f in files:\n",
    "    strc = Structure.from_file(f)\n",
    "\n",
    "    for atom in strc:\n",
    "        strc_corrected = (convert_value(atom.frac_coords))\n",
    "        atom.frac_coords = strc_corrected\n",
    "    \n",
    "    w = CifWriter(strc)\n",
    "    w.write_file(f'{f}_375.cif')"
   ]
  },
  {
   "cell_type": "code",
   "execution_count": null,
   "id": "19999212-252e-4c7c-ae60-3191f3ea4815",
   "metadata": {},
   "outputs": [],
   "source": [
    "from pymatgen.core import Structure\n",
    "from pymatgen.analysis.structure_matcher import StructureMatcher\n",
    "\n",
    "files = glob.glob('*.cif')\n",
    "\n",
    "structures = []\n",
    "\n",
    "for f in files:\n",
    "    strc = Structure.from_file(f)\n",
    "    structures.append(strc)\n",
    "    \n",
    "matcher = StructureMatcher()\n",
    "grouped_structure = matcher.group_structures(structures)"
   ]
  },
  {
   "cell_type": "code",
   "execution_count": 7,
   "id": "030020ee-a964-4444-ac8b-dc8c61fc6b1d",
   "metadata": {},
   "outputs": [],
   "source": [
    "from pymatgen.core import Structure\n",
    "from pymatgen.analysis.structure_matcher import StructureMatcher\n",
    "import glob\n",
    "\n",
    "structure_files = glob.glob('./*.cif')\n",
    "frameworks_files = glob.glob('./frameworks/*.cif')\n",
    "\n",
    "matcher = StructureMatcher()\n",
    "\n",
    "framework_dict = {}\n",
    "\n",
    "for s in structure_files:\n",
    "    strc = Structure.from_file(s)\n",
    "    checker = 1\n",
    "    \n",
    "    for f in frameworks_files:\n",
    "        frmw = Structure.from_file(f)\n",
    "        fitter = matcher.fit(strc, frmw)\n",
    "        if fitter == True:\n",
    "            framework_dict[s] = f\n",
    "            checker = 2\n",
    "    \n",
    "    if checker == 1:\n",
    "        print(f'{s} not matched')"
   ]
  },
  {
   "cell_type": "code",
   "execution_count": 8,
   "id": "c1fc6ac8-ab0f-49f1-bf62-126d8b8f33e5",
   "metadata": {},
   "outputs": [
    {
     "data": {
      "text/plain": [
       "{'./il0014477838_w96_framework.cif': './frameworks/supercell_i0030_w48.cif',\n",
       " './il0015288165_framework.cif': './frameworks/supercell_i0031_w96.cif',\n",
       " './il0015812887_w96_framework.cif': './frameworks/supercell_i0034_w48.cif',\n",
       " './il0014751862_framework.cif': './frameworks/supercell_i0031_w96.cif',\n",
       " './monoclinic000_framework.cif': './frameworks/supercell_i0023_w48.cif',\n",
       " './il0004252848_framework.cif': './frameworks/supercell_i0029_w96.cif',\n",
       " './il0004187328_framework.cif': './frameworks/supercell_i0029_w96.cif',\n",
       " './il0004254847_framework.cif': './frameworks/supercell_i0029_w96.cif',\n",
       " './il0011297568_framework.cif': './frameworks/supercell_i0031_w96.cif',\n",
       " './il0011275246_framework.cif': './frameworks/supercell_i0033_w96.cif',\n",
       " './il0013932334_framework.cif': './frameworks/supercell_i0033_w96.cif',\n",
       " './il0015813745_w96_framework.cif': './frameworks/supercell_i0032_w48.cif',\n",
       " './il0015300046_framework.cif': './frameworks/supercell_i0031_w96.cif',\n",
       " './il0011249038_framework.cif': './frameworks/supercell_i0033_w96.cif'}"
      ]
     },
     "execution_count": 8,
     "metadata": {},
     "output_type": "execute_result"
    }
   ],
   "source": [
    "framework_dict"
   ]
  },
  {
   "cell_type": "code",
   "execution_count": null,
   "id": "d78a78ff-c469-49c6-b8b9-659014c73502",
   "metadata": {},
   "outputs": [],
   "source": [
    "structure_files"
   ]
  },
  {
   "cell_type": "code",
   "execution_count": null,
   "id": "4247e66d-7c31-4e9c-805c-ba81b090e54b",
   "metadata": {},
   "outputs": [],
   "source": []
  }
 ],
 "metadata": {
  "kernelspec": {
   "display_name": "Python 3 (ipykernel)",
   "language": "python",
   "name": "python3"
  },
  "language_info": {
   "codemirror_mode": {
    "name": "ipython",
    "version": 3
   },
   "file_extension": ".py",
   "mimetype": "text/x-python",
   "name": "python",
   "nbconvert_exporter": "python",
   "pygments_lexer": "ipython3",
   "version": "3.9.9"
  }
 },
 "nbformat": 4,
 "nbformat_minor": 5
}
