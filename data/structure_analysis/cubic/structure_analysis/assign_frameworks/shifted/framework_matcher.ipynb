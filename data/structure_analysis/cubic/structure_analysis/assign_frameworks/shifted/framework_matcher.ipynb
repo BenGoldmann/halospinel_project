{
 "cells": [
  {
   "cell_type": "code",
   "execution_count": 27,
   "id": "7f6d8bd7-a3e1-4d82-a0d3-84c7d39e96b0",
   "metadata": {},
   "outputs": [],
   "source": [
    "from pymatgen.core import Structure\n",
    "from pymatgen.analysis.structure_matcher import StructureMatcher\n",
    "import glob\n",
    "\n",
    "structure_files = glob.glob('./*.cif')\n",
    "frameworks_files = glob.glob('./frameworks/*.cif')\n",
    "\n",
    "matcher = StructureMatcher()\n",
    "\n",
    "framework_dict = {}\n",
    "\n",
    "for s in structure_files:\n",
    "    strc = Structure.from_file(s)\n",
    "    strc.remove_oxidation_states\n",
    "    checker = 1\n",
    "    \n",
    "    for f in frameworks_files:\n",
    "        frmw = Structure.from_file(f)\n",
    "        fitter = matcher.fit(strc, frmw)\n",
    "        if fitter == True:\n",
    "            framework_dict[s] = f\n",
    "            checker = 2\n",
    "    \n",
    "    if checker == 1:\n",
    "        print(f'{s} not matched')"
   ]
  },
  {
   "cell_type": "code",
   "execution_count": 28,
   "id": "97887784-7792-4093-89ab-4a25891e675b",
   "metadata": {},
   "outputs": [
    {
     "data": {
      "text/plain": [
       "{'./il0014477838_w96_framework.cif': './frameworks/supercell_i0030_w48.cif',\n",
       " './il0015813564_w96_framework.cif': './frameworks/supercell_i0034_w48.cif',\n",
       " './il0015538252_w96_framework.cif': './frameworks/supercell_i0032_w48.cif',\n",
       " './il0015288165_framework.cif': './frameworks/supercell_i0031_w96.cif',\n",
       " './il0012796636_w96_framework.cif': './frameworks/supercell_i0032_w48.cif',\n",
       " './il0015812887_w96_framework.cif': './frameworks/supercell_i0034_w48.cif',\n",
       " './il0014751862_framework.cif': './frameworks/supercell_i0031_w96.cif',\n",
       " './monoclinic000_framework.cif': './frameworks/supercell_i0023_w48.cif',\n",
       " './il0015768608_w96_framework.cif': './frameworks/supercell_i0034_w48.cif',\n",
       " './il0012803314_w96_framework.cif': './frameworks/supercell_i0032_w48.cif',\n",
       " './il0012796652_w96_framework.cif': './frameworks/supercell_i0032_w48.cif',\n",
       " './il0004252848_framework.cif': './frameworks/supercell_i0029_w96.cif',\n",
       " './il0014478848_w96_framework.cif': './frameworks/supercell_i0034_w48.cif',\n",
       " './il0004187328_framework.cif': './frameworks/supercell_i0029_w96.cif',\n",
       " './il0004254847_framework.cif': './frameworks/supercell_i0029_w96.cif',\n",
       " './il0011297568_framework.cif': './frameworks/supercell_i0031_w96.cif',\n",
       " './il0011275246_framework.cif': './frameworks/supercell_i0033_w96.cif',\n",
       " './il0013932334_framework.cif': './frameworks/supercell_i0033_w96.cif',\n",
       " './il0015813745_w96_framework.cif': './frameworks/supercell_i0032_w48.cif',\n",
       " './il0015300046_framework.cif': './frameworks/supercell_i0031_w96.cif',\n",
       " './il0011249038_framework.cif': './frameworks/supercell_i0033_w96.cif'}"
      ]
     },
     "execution_count": 28,
     "metadata": {},
     "output_type": "execute_result"
    }
   ],
   "source": [
    "framework_dict"
   ]
  },
  {
   "cell_type": "code",
   "execution_count": 16,
   "id": "95073ae1-979e-45bd-8bfa-4685132dca85",
   "metadata": {},
   "outputs": [],
   "source": [
    "strc = Structure.from_file(\"../../1m/1m_frameworks/il0015538252_w96_framework.cif\")\n",
    "strc.remove_oxidation_states\n",
    "\n",
    "frameworks_files = glob.glob('./frameworks/*.cif')\n",
    "\n",
    "for f in frameworks_files:\n",
    "    frmw = Structure.from_file(f)\n",
    "    fitter = matcher.fit(strc, frmw)\n",
    "    if fitter == True:\n",
    "        print(f)"
   ]
  },
  {
   "cell_type": "code",
   "execution_count": null,
   "id": "25b27b7c-249a-4d22-ab5d-9edfccc451dd",
   "metadata": {},
   "outputs": [],
   "source": []
  }
 ],
 "metadata": {
  "kernelspec": {
   "display_name": "Python 3 (ipykernel)",
   "language": "python",
   "name": "python3"
  },
  "language_info": {
   "codemirror_mode": {
    "name": "ipython",
    "version": 3
   },
   "file_extension": ".py",
   "mimetype": "text/x-python",
   "name": "python",
   "nbconvert_exporter": "python",
   "pygments_lexer": "ipython3",
   "version": "3.9.7"
  }
 },
 "nbformat": 4,
 "nbformat_minor": 5
}
