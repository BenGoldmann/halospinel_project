{
 "cells": [
  {
   "cell_type": "code",
   "execution_count": 3,
   "id": "95073ae1-979e-45bd-8bfa-4685132dca85",
   "metadata": {},
   "outputs": [],
   "source": [
    "from pymatgen.core import Structure\n",
    "from pymatgen.analysis.structure_matcher import StructureMatcher\n",
    "import glob\n",
    "\n",
    "matcher = StructureMatcher()\n",
    "\n",
    "strc = Structure.from_file(\"monoclinic000_initial_Cm.cif\")\n",
    "\n",
    "frameworks_files = glob.glob('*6.cif')\n",
    "\n",
    "for f in frameworks_files:\n",
    "    frmw = Structure.from_file(f)\n",
    "    fitter = matcher.fit(strc, frmw)\n",
    "    if fitter == True:\n",
    "        print(f)"
   ]
  },
  {
   "cell_type": "code",
   "execution_count": null,
   "id": "25b27b7c-249a-4d22-ab5d-9edfccc451dd",
   "metadata": {},
   "outputs": [],
   "source": []
  }
 ],
 "metadata": {
  "kernelspec": {
   "display_name": "Python 3 (ipykernel)",
   "language": "python",
   "name": "python3"
  },
  "language_info": {
   "codemirror_mode": {
    "name": "ipython",
    "version": 3
   },
   "file_extension": ".py",
   "mimetype": "text/x-python",
   "name": "python",
   "nbconvert_exporter": "python",
   "pygments_lexer": "ipython3",
   "version": "3.9.9"
  }
 },
 "nbformat": 4,
 "nbformat_minor": 5
}
