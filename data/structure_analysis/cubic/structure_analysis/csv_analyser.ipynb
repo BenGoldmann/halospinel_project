{
 "cells": [
  {
   "cell_type": "code",
   "execution_count": 9,
   "id": "30c56f2d-07a6-4922-be33-c219e3054d62",
   "metadata": {},
   "outputs": [
    {
     "name": "stdout",
     "output_type": "stream",
     "text": [
      "['P1' 'C2/m' 'C2' 'Cm' 'P-1']\n"
     ]
    }
   ],
   "source": [
    "import pandas as pd\n",
    "data = pd.read_csv('1m/1m.csv')\n",
    "\n",
    "print(data['spg_symbol_framework'].unique())"
   ]
  },
  {
   "cell_type": "code",
   "execution_count": 10,
   "id": "e912577d-bee5-428f-b724-b05edc07195a",
   "metadata": {},
   "outputs": [
    {
     "data": {
      "text/plain": [
       "1    998649\n",
       "8      1351\n",
       "Name: spg_number_structure, dtype: int64"
      ]
     },
     "execution_count": 10,
     "metadata": {},
     "output_type": "execute_result"
    }
   ],
   "source": [
    "data['spg_number_structure'].value_counts()"
   ]
  },
  {
   "cell_type": "code",
   "execution_count": 11,
   "id": "ba04575f-b635-4422-bce5-ede0d6da5938",
   "metadata": {},
   "outputs": [
    {
     "data": {
      "text/plain": [
       "1     395518\n",
       "5     341024\n",
       "12    186265\n",
       "8      71970\n",
       "2       5223\n",
       "Name: spg_number_framework, dtype: int64"
      ]
     },
     "execution_count": 11,
     "metadata": {},
     "output_type": "execute_result"
    }
   ],
   "source": [
    "subset_data = data[data['spg_number_structure'] == 1]\n",
    "data['spg_number_framework'].value_counts()"
   ]
  },
  {
   "cell_type": "code",
   "execution_count": 12,
   "id": "204621c7-1c6c-44ea-ad7c-12db130def48",
   "metadata": {},
   "outputs": [
    {
     "name": "stdout",
     "output_type": "stream",
     "text": [
      "['C2' 'C2/m' 'P1']\n"
     ]
    }
   ],
   "source": [
    "import pandas as pd\n",
    "data = pd.read_csv('1k/tial_1.csv')\n",
    "\n",
    "print(data['spg_symbol_framework'].unique())"
   ]
  },
  {
   "cell_type": "code",
   "execution_count": 13,
   "id": "53607ea5-33a5-4a96-8638-29b3f31c1c97",
   "metadata": {},
   "outputs": [
    {
     "data": {
      "text/plain": [
       "1    997\n",
       "8      3\n",
       "Name: spg_number_structure, dtype: int64"
      ]
     },
     "execution_count": 13,
     "metadata": {},
     "output_type": "execute_result"
    }
   ],
   "source": [
    "data['spg_number_structure'].value_counts()"
   ]
  },
  {
   "cell_type": "code",
   "execution_count": 14,
   "id": "eb6e98ed-5d17-463f-b83d-819fa9e6dd5a",
   "metadata": {},
   "outputs": [
    {
     "data": {
      "text/plain": [
       "5     645\n",
       "12    352\n",
       "1       3\n",
       "Name: spg_number_framework, dtype: int64"
      ]
     },
     "execution_count": 14,
     "metadata": {},
     "output_type": "execute_result"
    }
   ],
   "source": [
    "subset_data = data[data['spg_number_structure'] == 1]\n",
    "data['spg_number_framework'].value_counts()"
   ]
  },
  {
   "cell_type": "code",
   "execution_count": null,
   "id": "541e3a53-5e6d-4090-b011-a605b1c40685",
   "metadata": {},
   "outputs": [],
   "source": []
  }
 ],
 "metadata": {
  "kernelspec": {
   "display_name": "Python 3 (ipykernel)",
   "language": "python",
   "name": "python3"
  },
  "language_info": {
   "codemirror_mode": {
    "name": "ipython",
    "version": 3
   },
   "file_extension": ".py",
   "mimetype": "text/x-python",
   "name": "python",
   "nbconvert_exporter": "python",
   "pygments_lexer": "ipython3",
   "version": "3.9.7"
  }
 },
 "nbformat": 4,
 "nbformat_minor": 5
}
