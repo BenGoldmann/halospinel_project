{
 "cells": [
  {
   "cell_type": "code",
   "execution_count": null,
   "id": "242484d2-02bb-4c0e-922a-2b931f2705c2",
   "metadata": {},
   "outputs": [],
   "source": [
    "import numpy as np\n",
    "import matplotlib.pyplot as plt\n",
    "\n",
    "file = open(\"Li17Sc5Cl32_L1m_spg_energy_100k.csv\", 'r')\n",
    "lines = file.readlines()\n",
    "\n",
    "energies = []\n",
    "mono_energies = {}\n",
    "\n",
    "for l in lines[1:]:\n",
    "    split = l.split(',')\n",
    "    energies.append(float(split[6]))\n",
    "    \n",
    "for l, n in zip(lines[1:], range(0, len(energies))):\n",
    "    split = l.split(',')\n",
    "    if split[3] == 'monoclinic':\n",
    "        mono_energies[n] = float(split[6])\n",
    "\n",
    "structures = list(range(0, len(energies)))\n",
    "                  \n",
    "plt.plot(structures, energies)\n",
    "plt.plot(mono_energies.keys(), mono_energies.values())\n",
    "\n",
    "plt.ylabel('Ewald energy (eV)', size = 12)\n",
    "plt.xlabel('Structure number', size = 12)\n",
    "plt.legend(['triclinic', 'monoclinic'], loc = 'lower right', fontsize = 12)\n",
    "\n",
    "def make_square_axes(ax):\n",
    "    \"\"\"Make an axes square in screen units.\n",
    "\n",
    "    Should be called after plotting.\n",
    "    \"\"\"\n",
    "    ax.set_aspect(1 / ax.get_data_ratio())\n",
    "\n",
    "make_square_axes(plt.gca())\n",
    "\n",
    "plt.savefig('structure_energies.jpg', bbox_inches='tight', dpi=500)"
   ]
  },
  {
   "cell_type": "code",
   "execution_count": 209,
   "id": "93238d86-9d7c-4f77-a86c-7e0aeca5dcee",
   "metadata": {},
   "outputs": [
    {
     "data": {
      "image/png": "[encoded data removed]",
      "text/plain": [
       "<Figure size 432x288 with 2 Axes>"
      ]
     },
     "metadata": {
      "needs_background": "light"
     },
     "output_type": "display_data"
    }
   ],
   "source": [
    "import numpy as np\n",
    "import matplotlib.pyplot as plt\n",
    "import pandas as pd\n",
    "from matplotlib.lines import Line2D\n",
    "\n",
    "file = open(\"Li17Sc5Cl32_L1m_spg_energy_100k.csv\", 'r')\n",
    "lines = file.readlines()\n",
    "\n",
    "tri_energies = []\n",
    "mono_energies = []\n",
    "    \n",
    "for l in lines[1:]:\n",
    "    split = l.split(',')\n",
    "    if split[3] == 'triclinic':\n",
    "        tri_energies.append(float(split[6]))\n",
    "    elif split[3] == 'monoclinic':\n",
    "        mono_energies.append(float(split[6]))\n",
    "\n",
    "fig, ax = plt.subplots()\n",
    "ax.hist(tri_energies, bins = np.linspace(min(tri_energies), max(tri_energies), num=100), color='tab:blue')\n",
    "\n",
    "ax2 = ax.twinx()\n",
    "ax2.hist(mono_energies, bins = np.linspace(min(mono_energies), max(mono_energies), num=75), color='tab:orange')\n",
    "\n",
    "ax.set_ylabel('Triclinic count', size=12)\n",
    "ax.set_xlim(min(tri_energies), max(tri_energies))\n",
    "ax.set_ylim(0, 5000)\n",
    "ax2.set_ylabel('Monoclinic count', size=12)\n",
    "ax2.set_ylim(0, 50)\n",
    "\n",
    "ax.set_xlabel('Ewald energy (eV)', size=12)\n",
    "\n",
    "def squarify(fig):\n",
    "    w, h = fig.get_size_inches()\n",
    "    if w > h:\n",
    "        t = fig.subplotpars.top\n",
    "        b = fig.subplotpars.bottom\n",
    "        axs = h*(t-b)\n",
    "        l = (1.-axs/w)/2\n",
    "        fig.subplots_adjust(left=l, right=1-l)\n",
    "    else:\n",
    "        t = fig.subplotpars.right\n",
    "        b = fig.subplotpars.left\n",
    "        axs = w*(t-b)\n",
    "        l = (1.-axs/h)/2\n",
    "        fig.subplots_adjust(bottom=l, top=1-l)\n",
    "        \n",
    "squarify(fig)\n",
    "\n",
    "custom_lines = [Line2D([0], [0], color='tab:blue', lw=4),\n",
    "                Line2D([0], [0], color='tab:orange', lw=4)]\n",
    "\n",
    "plt.legend(custom_lines, ['triclinic', 'monoclinic'], loc='upper left', fontsize=12)\n",
    "\n",
    "plt.savefig('structure_energies_histogram.jpg', bbox_inches='tight', dpi=500)"
   ]
  },
  {
   "cell_type": "code",
   "execution_count": 214,
   "id": "8aae0d7b-bad1-4628-9437-6cbef8e5634c",
   "metadata": {},
   "outputs": [
    {
     "data": {
      "image/png": "[encoded data removed]",
      "text/plain": [
       "<Figure size 432x288 with 2 Axes>"
      ]
     },
     "metadata": {
      "needs_background": "light"
     },
     "output_type": "display_data"
    }
   ],
   "source": [
    "import numpy as np\n",
    "import matplotlib.pyplot as plt\n",
    "import pandas as pd\n",
    "from matplotlib.lines import Line2D\n",
    "\n",
    "file = open(\"Li17Sc5Cl32_L1m_spg_energy_100k.csv\", 'r')\n",
    "lines = file.readlines()\n",
    "\n",
    "tri_energies = []\n",
    "mono_energies = []\n",
    "    \n",
    "for l in lines[1:1000]:\n",
    "    split = l.split(',')\n",
    "    if split[3] == 'triclinic':\n",
    "        tri_energies.append(float(split[6]))\n",
    "    elif split[3] == 'monoclinic':\n",
    "        mono_energies.append(float(split[6]))\n",
    "\n",
    "fig, ax = plt.subplots()\n",
    "ax.hist(tri_energies, bins = np.linspace(min(tri_energies), max(tri_energies), num=100), color='tab:blue')\n",
    "\n",
    "ax2 = ax.twinx()\n",
    "ax2.hist(mono_energies, bins = np.linspace(min(mono_energies), max(mono_energies), num=10), color='tab:orange')\n",
    "\n",
    "ax.set_ylabel('Triclinic count', size=12)\n",
    "ax.set_xlim(min(tri_energies), max(tri_energies))\n",
    "ax.set_ylim(0, 50)\n",
    "ax2.set_ylabel('Monoclinic count', size=12)\n",
    "ax2.set_ylim(0, 5)\n",
    "\n",
    "ax.set_xlabel('Ewald energy (eV)', size=12)\n",
    "\n",
    "def squarify(fig):\n",
    "    w, h = fig.get_size_inches()\n",
    "    if w > h:\n",
    "        t = fig.subplotpars.top\n",
    "        b = fig.subplotpars.bottom\n",
    "        axs = h*(t-b)\n",
    "        l = (1.-axs/w)/2\n",
    "        fig.subplots_adjust(left=l, right=1-l)\n",
    "    else:\n",
    "        t = fig.subplotpars.right\n",
    "        b = fig.subplotpars.left\n",
    "        axs = w*(t-b)\n",
    "        l = (1.-axs/h)/2\n",
    "        fig.subplots_adjust(bottom=l, top=1-l)\n",
    "        \n",
    "squarify(fig)\n",
    "\n",
    "custom_lines = [Line2D([0], [0], color='tab:blue', lw=4),\n",
    "                Line2D([0], [0], color='tab:orange', lw=4)]\n",
    "\n",
    "plt.legend(custom_lines, ['triclinic', 'monoclinic'], loc='upper left', fontsize=12)\n",
    "\n",
    "plt.savefig('structure_energies_histogram_zoomed.jpg', bbox_inches='tight', dpi=500)"
   ]
  },
  {
   "cell_type": "code",
   "execution_count": 130,
   "id": "8d24e153-5d64-4235-92dd-4d1133a60e03",
   "metadata": {},
   "outputs": [
    {
     "data": {
      "text/plain": [
       "([<matplotlib.axis.XTick at 0x7fc8262fe340>,\n",
       "  <matplotlib.axis.XTick at 0x7fc8262fe310>,\n",
       "  <matplotlib.axis.XTick at 0x7fc8260eb100>,\n",
       "  <matplotlib.axis.XTick at 0x7fc82623e0d0>,\n",
       "  <matplotlib.axis.XTick at 0x7fc82623e760>],\n",
       " [Text(0, -0.077, 'P1'),\n",
       "  Text(1, -0.077, 'P$\\\\bar{1}$'),\n",
       "  Text(2, -0.077, 'C2'),\n",
       "  Text(3, -0.077, 'Cm'),\n",
       "  Text(4, -0.077, 'C2/m')])"
      ]
     },
     "execution_count": 130,
     "metadata": {},
     "output_type": "execute_result"
    },
    {
     "data": {
      "image/png": "[encoded data removed]",
      "text/plain": [
       "<Figure size 432x288 with 2 Axes>"
      ]
     },
     "metadata": {
      "needs_background": "light"
     },
     "output_type": "display_data"
    }
   ],
   "source": [
    "spg = ['P1', r'P$\\bar{1}$', 'C2', 'Cm', 'C2/m']\n",
    "freq = [395518, 5223, 341024, 71970, 1186265]\n",
    "freq_adjusted = [395518/13, 5223/1, 341024/8, 71970/8, 186265/5]\n",
    "\n",
    "fig, ax = plt.subplots()\n",
    "\n",
    "ax.bar(np.arange(len(spg))-0.125, freq, width=0.25)\n",
    "\n",
    "ax2 = ax.twinx()\n",
    "\n",
    "ax2.bar(np.arange(len(spg))+0.125, freq_adjusted, width=0.25, color='tab:orange')\n",
    "\n",
    "def squarify(fig):\n",
    "    w, h = fig.get_size_inches()\n",
    "    if w > h:\n",
    "        t = fig.subplotpars.top\n",
    "        b = fig.subplotpars.bottom\n",
    "        axs = h*(t-b)\n",
    "        l = (1.-axs/w)/2\n",
    "        fig.subplots_adjust(left=l, right=1-l)\n",
    "    else:\n",
    "        t = fig.subplotpars.right\n",
    "        b = fig.subplotpars.left\n",
    "        axs = w*(t-b)\n",
    "        l = (1.-axs/h)/2\n",
    "        fig.subplots_adjust(bottom=l, top=1-l)\n",
    "        \n",
    "squarify(fig)\n",
    "\n",
    "plt.xticks(np.arange(len(spg)), spg, size=12, va = 'bottom', y = -0.077)"
   ]
  },
  {
   "cell_type": "code",
   "execution_count": 131,
   "id": "01cfd45f-6ed4-4ea9-9daf-99a96fc27262",
   "metadata": {},
   "outputs": [
    {
     "data": {
      "text/plain": [
       "([<matplotlib.axis.XTick at 0x7fc826465370>,\n",
       "  <matplotlib.axis.XTick at 0x7fc8264659a0>,\n",
       "  <matplotlib.axis.XTick at 0x7fc826026a90>],\n",
       " [Text(0, -0.077, 'P1'), Text(1, -0.077, 'C2'), Text(2, -0.077, 'C2/m')])"
      ]
     },
     "execution_count": 131,
     "metadata": {},
     "output_type": "execute_result"
    },
    {
     "data": {
      "image/png": "[encoded data removed]",
      "text/plain": [
       "<Figure size 432x288 with 2 Axes>"
      ]
     },
     "metadata": {
      "needs_background": "light"
     },
     "output_type": "display_data"
    }
   ],
   "source": [
    "spg = ['P1', 'C2', 'C2/m']\n",
    "freq = [3, 645, 352]\n",
    "freq_adjusted = [3/13, 645/8, 352/5]\n",
    "\n",
    "fig, ax = plt.subplots()\n",
    "\n",
    "ax.bar(np.arange(len(spg))-0.125, freq, width=0.25)\n",
    "\n",
    "ax2 = ax.twinx()\n",
    "\n",
    "ax2.bar(np.arange(len(spg))+0.125, freq_adjusted, width=0.25, color='tab:orange')\n",
    "\n",
    "def squarify(fig):\n",
    "    w, h = fig.get_size_inches()\n",
    "    if w > h:\n",
    "        t = fig.subplotpars.top\n",
    "        b = fig.subplotpars.bottom\n",
    "        axs = h*(t-b)\n",
    "        l = (1.-axs/w)/2\n",
    "        fig.subplots_adjust(left=l, right=1-l)\n",
    "    else:\n",
    "        t = fig.subplotpars.right\n",
    "        b = fig.subplotpars.left\n",
    "        axs = w*(t-b)\n",
    "        l = (1.-axs/h)/2\n",
    "        fig.subplots_adjust(bottom=l, top=1-l)\n",
    "        \n",
    "squarify(fig)\n",
    "\n",
    "plt.xticks(np.arange(len(spg)), spg, size=12, va = 'bottom', y = -0.077)"
   ]
  },
  {
   "cell_type": "code",
   "execution_count": 153,
   "id": "c0860a48-5487-411e-b6fd-b0eb0c2845e4",
   "metadata": {},
   "outputs": [
    {
     "name": "stdout",
     "output_type": "stream",
     "text": [
      "dict_1 created\n",
      "dict_2 created\n"
     ]
    },
    {
     "name": "stderr",
     "output_type": "stream",
     "text": [
      "100%|█████████████████████████████████| 100000/100000 [2:14:10<00:00, 12.42it/s]\n"
     ]
    }
   ],
   "source": [
    "import numpy as np\n",
    "import matplotlib.pyplot as plt\n",
    "import pandas as pd\n",
    "from matplotlib.lines import Line2D\n",
    "from tqdm import tqdm\n",
    "import csv\n",
    "\n",
    "output = open('framework_energy.csv', 'w')\n",
    "filewriter = csv.writer(output, delimiter=',')\n",
    "\n",
    "file_1 = open(\"Li17Sc5Cl32_L1m_spg_energy_100k.csv\", 'r')\n",
    "file_2 = open(\"1m/1m.csv\", 'r')\n",
    "lines_1 = file_1.readlines()\n",
    "lines_2 = file_2.readlines()\n",
    "\n",
    "dict_1 = {}\n",
    "dict_2 = {}\n",
    "    \n",
    "for l in lines_1[1:]:\n",
    "    split = l.split(',')\n",
    "    dict_1[split[0][12:]] = split[6]\n",
    "\n",
    "print('dict_1 created')    \n",
    "    \n",
    "for l in lines_2[1:]:\n",
    "    split = l.split(',')\n",
    "    dict_2[split[0]] = split[2]\n",
    "\n",
    "print('dict_2 created')  \n",
    "    \n",
    "p1 = []\n",
    "p1b = []\n",
    "c2 = []\n",
    "cm = []\n",
    "c2m = []\n",
    "\n",
    "for k1 in tqdm(dict_1.keys()):\n",
    "    for k2 in dict_2.keys():\n",
    "        if k1 == k2:\n",
    "            filewriter.writerow([k1, dict_2[k1], dict_1[k1]])\n",
    "        else:\n",
    "            continue"
   ]
  },
  {
   "cell_type": "code",
   "execution_count": 228,
   "id": "2cb4f7c5-7da0-4669-bb73-3fb519af48b3",
   "metadata": {},
   "outputs": [
    {
     "data": {
      "image/png": "[encoded data removed]",
      "text/plain": [
       "<Figure size 432x288 with 1 Axes>"
      ]
     },
     "metadata": {
      "needs_background": "light"
     },
     "output_type": "display_data"
    }
   ],
   "source": [
    "file = open('framework_energy.csv', 'r')\n",
    "lines = file.readlines()\n",
    "\n",
    "p1 = []\n",
    "p1b = []\n",
    "c2 = []\n",
    "cm = []\n",
    "c2m = []\n",
    "\n",
    "for l in lines:\n",
    "    split = l.split(',')\n",
    "    if len(split) == 3:\n",
    "        value_i = split[2][1:]\n",
    "        value = value_i[:-1]\n",
    "        if split[1] == '1':\n",
    "            p1.append(float(value))\n",
    "        if split[1] == '2':\n",
    "            p1b.append(float(value))\n",
    "        if split[1] == '5':\n",
    "            c2.append(float(value))\n",
    "        if split[1] == '8':\n",
    "            cm.append(float(value))\n",
    "        if split[1] == '12':\n",
    "            c2m.append(float(value))\n",
    "            \n",
    "fig, ax = plt.subplots()\n",
    "ax.hist(p1b, bins = np.linspace(min(p1b), max(p1b), num=100), color='tab:orange')\n",
    "ax.hist(c2, bins = np.linspace(min(c2), max(c2), num=100), color='tab:blue')\n",
    "ax.hist(c2m, bins = np.linspace(min(c2m), max(c2m), num=100), color='tab:orange')\n",
    "ax.hist(p1, bins = np.linspace(min(p1), max(p1), num=100), color='tab:green')\n",
    "ax.hist(cm, bins = np.linspace(min(cm), max(cm), num=100), color='tab:red')\n",
    "\n",
    "ax.set_xlim(min(c2), max(c2))\n",
    "\n",
    "ax.set_ylabel('Structure count', size=12)\n",
    "\n",
    "ax.set_xlabel('Ewald energy (eV)', size=12)\n",
    "\n",
    "def squarify(fig):\n",
    "    w, h = fig.get_size_inches()\n",
    "    if w > h:\n",
    "        t = fig.subplotpars.top\n",
    "        b = fig.subplotpars.bottom\n",
    "        axs = h*(t-b)\n",
    "        l = (1.-axs/w)/2\n",
    "        fig.subplots_adjust(left=l, right=1-l)\n",
    "    else:\n",
    "        t = fig.subplotpars.right\n",
    "        b = fig.subplotpars.left\n",
    "        axs = w*(t-b)\n",
    "        l = (1.-axs/h)/2\n",
    "        fig.subplots_adjust(bottom=l, top=1-l)\n",
    "        \n",
    "squarify(fig)\n",
    "\n",
    "custom_lines = [Line2D([0], [0], color='tab:green', lw=4),\n",
    "                Line2D([0], [0], color='tab:purple', lw=4),\n",
    "                Line2D([0], [0], color='tab:blue', lw=4),\n",
    "                Line2D([0], [0], color='tab:red', lw=4),\n",
    "                Line2D([0], [0], color='tab:orange', lw=4)]\n",
    "\n",
    "plt.legend(custom_lines, ['P1', r'P$\\bar{1}$', 'C2', 'Cm', 'C2/m'], loc='upper left', fontsize=12)\n",
    "\n",
    "plt.savefig('framework_energies_histogram.jpg', bbox_inches='tight', dpi=500)"
   ]
  },
  {
   "cell_type": "code",
   "execution_count": 226,
   "id": "7cd87f0e-0a57-4db4-ada0-12ee913fa515",
   "metadata": {},
   "outputs": [
    {
     "data": {
      "image/png": "[encoded data removed]",
      "text/plain": [
       "<Figure size 432x288 with 1 Axes>"
      ]
     },
     "metadata": {
      "needs_background": "light"
     },
     "output_type": "display_data"
    }
   ],
   "source": [
    "file = open('framework_energy.csv', 'r')\n",
    "lines = file.readlines()\n",
    "\n",
    "p1 = []\n",
    "p1b = []\n",
    "c2 = []\n",
    "cm = []\n",
    "c2m = []\n",
    "\n",
    "for l in lines[1:2000]:\n",
    "    split = l.split(',')\n",
    "    if len(split) == 3:\n",
    "        value_i = split[2][1:]\n",
    "        value = value_i[:-1]\n",
    "        if split[1] == '1':\n",
    "            p1.append(float(value))\n",
    "        if split[1] == '2':\n",
    "            p1b.append(float(value))\n",
    "        if split[1] == '5':\n",
    "            c2.append(float(value))\n",
    "        if split[1] == '8':\n",
    "            cm.append(float(value))\n",
    "        if split[1] == '12':\n",
    "            c2m.append(float(value))\n",
    "            \n",
    "fig, ax = plt.subplots()\n",
    "#ax.hist(p1b, bins = np.linspace(min(p1b), max(p1b), num=100), color='tab:orange')\n",
    "ax.hist(c2, bins = np.linspace(min(c2), max(c2), num=100), color='tab:blue')\n",
    "ax.hist(c2m, bins = np.linspace(min(c2m), max(c2m), num=100), color='tab:orange')\n",
    "ax.hist(p1, bins = np.linspace(min(p1), max(p1), num=10), color='tab:green')\n",
    "#ax.hist(cm, bins = np.linspace(min(cm), max(cm), num=100), color='tab:red')\n",
    "\n",
    "ax.set_xlim(min(c2), max(c2))\n",
    "\n",
    "ax.set_ylabel('Structure count', size=12)\n",
    "\n",
    "ax.set_xlabel('Ewald energy (eV)', size=12)\n",
    "\n",
    "def squarify(fig):\n",
    "    w, h = fig.get_size_inches()\n",
    "    if w > h:\n",
    "        t = fig.subplotpars.top\n",
    "        b = fig.subplotpars.bottom\n",
    "        axs = h*(t-b)\n",
    "        l = (1.-axs/w)/2\n",
    "        fig.subplots_adjust(left=l, right=1-l)\n",
    "    else:\n",
    "        t = fig.subplotpars.right\n",
    "        b = fig.subplotpars.left\n",
    "        axs = w*(t-b)\n",
    "        l = (1.-axs/h)/2\n",
    "        fig.subplots_adjust(bottom=l, top=1-l)\n",
    "        \n",
    "squarify(fig)\n",
    "\n",
    "custom_lines = [Line2D([0], [0], color='tab:green', lw=4),\n",
    "                Line2D([0], [0], color='tab:purple', lw=4),\n",
    "                Line2D([0], [0], color='tab:blue', lw=4),\n",
    "                Line2D([0], [0], color='tab:red', lw=4),\n",
    "                Line2D([0], [0], color='tab:orange', lw=4)]\n",
    "\n",
    "plt.legend(custom_lines, ['P1', r'P$\\bar{1}$', 'C2', 'Cm', 'C2/m'], loc='upper left', fontsize=12)\n",
    "\n",
    "plt.savefig('framework_energies_histogram_zoomed.jpg', bbox_inches='tight', dpi=500)"
   ]
  },
  {
   "cell_type": "code",
   "execution_count": 186,
   "id": "22ce03ac-93a7-4a73-9451-4bbf4f9a995b",
   "metadata": {},
   "outputs": [
    {
     "data": {
      "text/plain": [
       "(array([1., 0., 1., 0., 0., 0., 0., 0., 0., 0., 0., 0., 0., 0., 0., 0., 0.,\n",
       "        0., 0., 0., 0., 0., 0., 0., 0., 0., 0., 0., 1., 0., 0., 0., 0., 0.,\n",
       "        2., 0., 0., 1., 0., 0., 0., 0., 0., 0., 0., 0., 0., 0., 0., 0., 0.,\n",
       "        0., 0., 0., 0., 0., 0., 0., 0., 1., 0., 0., 0., 1., 0., 0., 0., 0.,\n",
       "        0., 0., 1., 0., 0., 0., 0., 0., 0., 0., 0., 0., 0., 0., 0., 0., 0.,\n",
       "        0., 1., 0., 0., 0., 0., 0., 0., 0., 1., 0., 0., 0., 1.]),\n",
       " array([-392.788     , -392.77862626, -392.76925253, -392.75987879,\n",
       "        -392.75050505, -392.74113131, -392.73175758, -392.72238384,\n",
       "        -392.7130101 , -392.70363636, -392.69426263, -392.68488889,\n",
       "        -392.67551515, -392.66614141, -392.65676768, -392.64739394,\n",
       "        -392.6380202 , -392.62864646, -392.61927273, -392.60989899,\n",
       "        -392.60052525, -392.59115152, -392.58177778, -392.57240404,\n",
       "        -392.5630303 , -392.55365657, -392.54428283, -392.53490909,\n",
       "        -392.52553535, -392.51616162, -392.50678788, -392.49741414,\n",
       "        -392.4880404 , -392.47866667, -392.46929293, -392.45991919,\n",
       "        -392.45054545, -392.44117172, -392.43179798, -392.42242424,\n",
       "        -392.41305051, -392.40367677, -392.39430303, -392.38492929,\n",
       "        -392.37555556, -392.36618182, -392.35680808, -392.34743434,\n",
       "        -392.33806061, -392.32868687, -392.31931313, -392.30993939,\n",
       "        -392.30056566, -392.29119192, -392.28181818, -392.27244444,\n",
       "        -392.26307071, -392.25369697, -392.24432323, -392.23494949,\n",
       "        -392.22557576, -392.21620202, -392.20682828, -392.19745455,\n",
       "        -392.18808081, -392.17870707, -392.16933333, -392.1599596 ,\n",
       "        -392.15058586, -392.14121212, -392.13183838, -392.12246465,\n",
       "        -392.11309091, -392.10371717, -392.09434343, -392.0849697 ,\n",
       "        -392.07559596, -392.06622222, -392.05684848, -392.04747475,\n",
       "        -392.03810101, -392.02872727, -392.01935354, -392.0099798 ,\n",
       "        -392.00060606, -391.99123232, -391.98185859, -391.97248485,\n",
       "        -391.96311111, -391.95373737, -391.94436364, -391.9349899 ,\n",
       "        -391.92561616, -391.91624242, -391.90686869, -391.89749495,\n",
       "        -391.88812121, -391.87874747, -391.86937374, -391.86      ]),\n",
       " <BarContainer object of 99 artists>)"
      ]
     },
     "execution_count": 186,
     "metadata": {},
     "output_type": "execute_result"
    },
    {
     "data": {
      "image/png": "[encoded data removed]",
      "text/plain": [
       "<Figure size 432x288 with 1 Axes>"
      ]
     },
     "metadata": {
      "needs_background": "light"
     },
     "output_type": "display_data"
    }
   ],
   "source": [
    "fig, ax = plt.subplots()\n",
    "ax.hist(p1b, bins = np.linspace(min(p1b), max(p1b), num=100), color='tab:orange')"
   ]
  },
  {
   "cell_type": "code",
   "execution_count": 188,
   "id": "81035cbb-dcbc-4bdf-acf2-af00cf1d2672",
   "metadata": {},
   "outputs": [
    {
     "name": "stdout",
     "output_type": "stream",
     "text": [
      "15776\n",
      "12\n",
      "50713\n",
      "2569\n",
      "30699\n"
     ]
    }
   ],
   "source": [
    "print(len(p1))\n",
    "print(len(p1b))\n",
    "print(len(c2))\n",
    "print(len(cm))\n",
    "print(len(c2m))"
   ]
  },
  {
   "cell_type": "code",
   "execution_count": null,
   "id": "7d75bf86-2b25-402e-94df-f211f7c4ffbf",
   "metadata": {},
   "outputs": [],
   "source": []
  }
 ],
 "metadata": {
  "kernelspec": {
   "display_name": "Python 3 (ipykernel)",
   "language": "python",
   "name": "python3"
  },
  "language_info": {
   "codemirror_mode": {
    "name": "ipython",
    "version": 3
   },
   "file_extension": ".py",
   "mimetype": "text/x-python",
   "name": "python",
   "nbconvert_exporter": "python",
   "pygments_lexer": "ipython3",
   "version": "3.9.7"
  }
 },
 "nbformat": 4,
 "nbformat_minor": 5
}
