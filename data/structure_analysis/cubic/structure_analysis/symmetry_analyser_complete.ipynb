{
 "cells": [
  {
   "cell_type": "code",
   "execution_count": 34,
   "id": "904b6792-bf81-4526-9983-cb14e85b1b71",
   "metadata": {},
   "outputs": [
    {
     "name": "stdout",
     "output_type": "stream",
     "text": [
      "[3.9013875 3.9013875 9.1032375] is 8a\n",
      "[2.60092500e+00 2.60092500e+00 3.18521448e-16] is 16c\n",
      "[2.600925 5.20185  7.802775] is 16c\n",
      "[5.20185 0.      5.20185] is 16c\n",
      "[5.20185000e+00 5.20185000e+00 6.37042895e-16] is 16c\n",
      "[1.3004625 9.1032375 3.9013875] is 48f\n"
     ]
    }
   ],
   "source": [
    "from pymatgen.core import Structure\n",
    "from pymatgen.io.cif import CifWriter\n",
    "import numpy as np\n",
    "\n",
    "def round_to_value(a):\n",
    "    multiplier = a/0.125\n",
    "    rounded_multiplier = np.round(multiplier, 0)\n",
    "    return rounded_multiplier * 0.125\n",
    "\n",
    "def reorder(a):\n",
    "    position = [0, 1, 2]\n",
    "    for i in position:\n",
    "        if a[i] == 1.:\n",
    "            a[i] = 0\n",
    "    \n",
    "strc = Structure.from_file('./initial/monoclinic.cif')\n",
    "ref = Structure.from_file('./prim_inverse.cif')\n",
    "\n",
    "for atom in strc:\n",
    "    strc_corrected = (round_to_value(atom.frac_coords))\n",
    "    atom.frac_coords = strc_corrected\n",
    "    reorder(atom.frac_coords)\n",
    "\n",
    "positions = np.arange(0, 54)\n",
    "    \n",
    "for atom1 in strc:\n",
    "    for atom2 in ref:\n",
    "        if np.array_equal((atom1.frac_coords), (atom2.frac_coords), equal_nan=False) == True:\n",
    "            if atom2.species_string == 'Na':\n",
    "                print(f'{atom1.coords} is 8b')\n",
    "            elif atom2.species_string == 'Li':\n",
    "                print(f'{atom1.coords} is 8a')\n",
    "            elif atom2.species_string == 'Be':\n",
    "                print(f'{atom1.coords} is 16c')\n",
    "            elif atom2.species_string == 'Nb':\n",
    "                print(f'{atom1.coords} is 48f')\n",
    "        else:\n",
    "            continue"
   ]
  },
  {
   "cell_type": "code",
   "execution_count": 6,
   "id": "e0d1c6da-4fbe-4f6a-b33a-325146490eee",
   "metadata": {},
   "outputs": [
    {
     "data": {
      "text/plain": [
       "{'./find_cubic/li11sc5cl32/supercell_i0007_w96.cif': 'Cm',\n",
       " './find_cubic/li11sc5cl32/supercell_i0017_w96.cif': 'Cm',\n",
       " './find_cubic/li11sc5cl32/supercell_i0015_w192.cif': 'P1',\n",
       " './find_cubic/li11sc5cl32/supercell_i0028_w96.cif': 'Cm',\n",
       " './find_cubic/li11sc5cl32/supercell_i0021_w192.cif': 'P1',\n",
       " './find_cubic/li11sc5cl32/supercell_i0020_w192.cif': 'P1',\n",
       " './find_cubic/li11sc5cl32/supercell_i0031_w96.cif': 'C2',\n",
       " './find_cubic/li11sc5cl32/supercell_i0002_w192.cif': 'P1',\n",
       " './find_cubic/li11sc5cl32/supercell_i0034_w48.cif': 'C2/m',\n",
       " './find_cubic/li11sc5cl32/supercell_i0008_w192.cif': 'P1',\n",
       " './find_cubic/li11sc5cl32/supercell_i0009_w192.cif': 'P1',\n",
       " './find_cubic/li11sc5cl32/supercell_i0029_w96.cif': 'C2',\n",
       " './find_cubic/li11sc5cl32/supercell_i0004_w96.cif': 'Cm',\n",
       " './find_cubic/li11sc5cl32/supercell_i0014_w96.cif': 'C2',\n",
       " './find_cubic/li11sc5cl32/supercell_i0013_w192.cif': 'P1',\n",
       " './find_cubic/li11sc5cl32/supercell_i0005_w96.cif': 'C2',\n",
       " './find_cubic/li11sc5cl32/supercell_i0018_w192.cif': 'P1',\n",
       " './find_cubic/li11sc5cl32/supercell_i0033_w96.cif': 'C2',\n",
       " './find_cubic/li11sc5cl32/supercell_i0026_w96.cif': 'Cm',\n",
       " './find_cubic/li11sc5cl32/supercell_i0032_w48.cif': 'C2/m',\n",
       " './find_cubic/li11sc5cl32/supercell_i0019_w96.cif': 'C2',\n",
       " './find_cubic/li11sc5cl32/supercell_i0001_w192.cif': 'P1',\n",
       " './find_cubic/li11sc5cl32/supercell_i0000_w96.cif': 'Cm',\n",
       " './find_cubic/li11sc5cl32/supercell_i0022_w192.cif': 'P1',\n",
       " './find_cubic/li11sc5cl32/supercell_i0027_w96.cif': 'C2',\n",
       " './find_cubic/li11sc5cl32/supercell_i0016_w192.cif': 'P1',\n",
       " './find_cubic/li11sc5cl32/supercell_i0023_w48.cif': 'C2/m',\n",
       " './find_cubic/li11sc5cl32/supercell_i0003_w96.cif': 'Cm',\n",
       " './find_cubic/li11sc5cl32/supercell_i0011_w192.cif': 'P1',\n",
       " './find_cubic/li11sc5cl32/supercell_i0010_w192.cif': 'P1',\n",
       " './find_cubic/li11sc5cl32/supercell_i0025_w96.cif': 'P-1',\n",
       " './find_cubic/li11sc5cl32/supercell_i0024_w96.cif': 'C2',\n",
       " './find_cubic/li11sc5cl32/supercell_i0030_w48.cif': 'C2/m',\n",
       " './find_cubic/li11sc5cl32/supercell_i0006_w48.cif': 'C2/m',\n",
       " './find_cubic/li11sc5cl32/supercell_i0012_w96.cif': 'Cm'}"
      ]
     },
     "execution_count": 6,
     "metadata": {},
     "output_type": "execute_result"
    }
   ],
   "source": [
    "from pymatgen.core import Structure\n",
    "from pymatgen.symmetry.analyzer import SpacegroupAnalyzer\n",
    "import glob\n",
    "\n",
    "structure = glob.glob('./find_cubic/li11sc5cl32/sup*.cif')\n",
    "\n",
    "groups = {}\n",
    "\n",
    "for s in structure:\n",
    "    strc = Structure.from_file(s)\n",
    "\n",
    "    spg = SpacegroupAnalyzer(structure=strc, symprec=0.01, angle_tolerance=5.0)\n",
    "    \n",
    "    groups[s] = spg.get_space_group_symbol()\n",
    "    \n",
    "groups"
   ]
  },
  {
   "cell_type": "code",
   "execution_count": 72,
   "id": "93732dfd-37a8-4a32-98da-7adc88e77db0",
   "metadata": {},
   "outputs": [
    {
     "data": {
      "text/plain": [
       "'C222_1'"
      ]
     },
     "execution_count": 72,
     "metadata": {},
     "output_type": "execute_result"
    }
   ],
   "source": [
    "spg.get_space_group_symbol()"
   ]
  },
  {
   "cell_type": "code",
   "execution_count": null,
   "id": "bc3bc4da-dee7-46e0-a2a3-3b884ea6dc67",
   "metadata": {},
   "outputs": [],
   "source": [
    "spg_symbol = spg.get_space_group_symbol()\n",
    "lattice_type = spg.get_lattice_type()\n",
    "crystal_system = spg.get_crystal_system()"
   ]
  }
 ],
 "metadata": {
  "kernelspec": {
   "display_name": "Python 3 (ipykernel)",
   "language": "python",
   "name": "python3"
  },
  "language_info": {
   "codemirror_mode": {
    "name": "ipython",
    "version": 3
   },
   "file_extension": ".py",
   "mimetype": "text/x-python",
   "name": "python",
   "nbconvert_exporter": "python",
   "pygments_lexer": "ipython3",
   "version": "3.9.7"
  }
 },
 "nbformat": 4,
 "nbformat_minor": 5
}
