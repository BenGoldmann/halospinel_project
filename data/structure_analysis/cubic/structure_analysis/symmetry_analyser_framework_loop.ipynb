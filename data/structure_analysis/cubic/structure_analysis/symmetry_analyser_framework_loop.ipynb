{
 "cells": [
  {
   "cell_type": "markdown",
   "id": "5c4c927d-65f3-4e1a-b327-823f15c8682c",
   "metadata": {},
   "source": [
    "# Sort data"
   ]
  },
  {
   "cell_type": "code",
   "execution_count": 1,
   "id": "31868068-f7ce-461b-beb8-9ede66e1e7ea",
   "metadata": {},
   "outputs": [
    {
     "ename": "IndexError",
     "evalue": "tuple index out of range",
     "output_type": "error",
     "traceback": [
      "\u001b[0;31m---------------------------------------------------------------------------\u001b[0m",
      "\u001b[0;31mRemoteTraceback\u001b[0m                           Traceback (most recent call last)",
      "\u001b[0;31mRemoteTraceback\u001b[0m: \n\"\"\"\nTraceback (most recent call last):\n  File \"/usr/local/Cellar/python@3.9/3.9.9/Frameworks/Python.framework/Versions/3.9/lib/python3.9/multiprocessing/pool.py\", line 125, in worker\n    result = (True, func(*args, **kwds))\n  File \"/usr/local/Cellar/python@3.9/3.9.9/Frameworks/Python.framework/Versions/3.9/lib/python3.9/multiprocessing/pool.py\", line 51, in starmapstar\n    return list(itertools.starmap(args[0], args[1]))\n  File \"/Users/goldmann/Documents/halospinel_project/structures/framework_symmetry.py\", line 64, in framework_symmetry\n    w = CifWriter(strc)\n  File \"/usr/local/lib/python3.9/site-packages/pymatgen/io/cif.py\", line 1320, in __init__\n    block[\"_chemical_formula_structural\"] = no_oxi_comp.reduced_formula\n  File \"/usr/local/lib/python3.9/site-packages/pymatgen/core/composition.py\", line 430, in reduced_formula\n    return self.get_reduced_formula_and_factor()[0]\n  File \"/usr/local/lib/python3.9/site-packages/pymatgen/core/composition.py\", line 384, in get_reduced_formula_and_factor\n    (formula, factor) = reduce_formula(d, iupac_ordering=iupac_ordering)\n  File \"/usr/local/lib/python3.9/site-packages/pymatgen/core/composition.py\", line 1144, in reduce_formula\n    factor = abs(gcd(*(int(i) for i in sym_amt.values())))\n  File \"/usr/local/lib/python3.9/site-packages/monty/fractions.py\", line 17, in gcd\n    n = numbers[0]\nIndexError: tuple index out of range\n\"\"\"",
      "\nThe above exception was the direct cause of the following exception:\n",
      "\u001b[0;31mIndexError\u001b[0m                                Traceback (most recent call last)",
      "\u001b[0;32m/var/folders/ms/5zctgd6932s91kcwyls4vbj00000gn/T/ipykernel_74889/1985263504.py\u001b[0m in \u001b[0;36m<module>\u001b[0;34m\u001b[0m\n\u001b[1;32m     11\u001b[0m \u001b[0;32mif\u001b[0m \u001b[0m__name__\u001b[0m \u001b[0;34m==\u001b[0m \u001b[0;34m'__main__'\u001b[0m\u001b[0;34m:\u001b[0m\u001b[0;34m\u001b[0m\u001b[0;34m\u001b[0m\u001b[0m\n\u001b[1;32m     12\u001b[0m     \u001b[0;32mwith\u001b[0m \u001b[0mPool\u001b[0m\u001b[0;34m(\u001b[0m\u001b[0mprocesses\u001b[0m\u001b[0;34m=\u001b[0m\u001b[0;36m6\u001b[0m\u001b[0;34m)\u001b[0m \u001b[0;32mas\u001b[0m \u001b[0mpool\u001b[0m\u001b[0;34m:\u001b[0m\u001b[0;34m\u001b[0m\u001b[0;34m\u001b[0m\u001b[0m\n\u001b[0;32m---> 13\u001b[0;31m         \u001b[0mresults\u001b[0m\u001b[0;34m.\u001b[0m\u001b[0mappend\u001b[0m\u001b[0;34m(\u001b[0m\u001b[0mpool\u001b[0m\u001b[0;34m.\u001b[0m\u001b[0mstarmap\u001b[0m\u001b[0;34m(\u001b[0m\u001b[0mframework_symmetry\u001b[0m\u001b[0;34m,\u001b[0m \u001b[0mzip\u001b[0m\u001b[0;34m(\u001b[0m\u001b[0minitials\u001b[0m\u001b[0;34m,\u001b[0m \u001b[0mrepeat\u001b[0m\u001b[0;34m(\u001b[0m\u001b[0;34m'prim_inverse.cif'\u001b[0m\u001b[0;34m)\u001b[0m\u001b[0;34m)\u001b[0m\u001b[0;34m,\u001b[0m \u001b[0mchunksize\u001b[0m\u001b[0;34m=\u001b[0m\u001b[0;36m1\u001b[0m\u001b[0;34m)\u001b[0m\u001b[0;34m)\u001b[0m\u001b[0;34m\u001b[0m\u001b[0;34m\u001b[0m\u001b[0m\n\u001b[0m\u001b[1;32m     14\u001b[0m \u001b[0;34m\u001b[0m\u001b[0m\n\u001b[1;32m     15\u001b[0m \u001b[0mres\u001b[0m \u001b[0;34m=\u001b[0m \u001b[0;34m[\u001b[0m\u001b[0;34m]\u001b[0m\u001b[0;34m\u001b[0m\u001b[0;34m\u001b[0m\u001b[0m\n",
      "\u001b[0;32m/usr/local/Cellar/python@3.9/3.9.9/Frameworks/Python.framework/Versions/3.9/lib/python3.9/multiprocessing/pool.py\u001b[0m in \u001b[0;36mstarmap\u001b[0;34m(self, func, iterable, chunksize)\u001b[0m\n\u001b[1;32m    370\u001b[0m         \u001b[0;31m`\u001b[0m\u001b[0mfunc\u001b[0m\u001b[0;31m`\u001b[0m \u001b[0;32mand\u001b[0m \u001b[0;34m(\u001b[0m\u001b[0ma\u001b[0m\u001b[0;34m,\u001b[0m \u001b[0mb\u001b[0m\u001b[0;34m)\u001b[0m \u001b[0mbecomes\u001b[0m \u001b[0mfunc\u001b[0m\u001b[0;34m(\u001b[0m\u001b[0ma\u001b[0m\u001b[0;34m,\u001b[0m \u001b[0mb\u001b[0m\u001b[0;34m)\u001b[0m\u001b[0;34m.\u001b[0m\u001b[0;34m\u001b[0m\u001b[0;34m\u001b[0m\u001b[0m\n\u001b[1;32m    371\u001b[0m         '''\n\u001b[0;32m--> 372\u001b[0;31m         \u001b[0;32mreturn\u001b[0m \u001b[0mself\u001b[0m\u001b[0;34m.\u001b[0m\u001b[0m_map_async\u001b[0m\u001b[0;34m(\u001b[0m\u001b[0mfunc\u001b[0m\u001b[0;34m,\u001b[0m \u001b[0miterable\u001b[0m\u001b[0;34m,\u001b[0m \u001b[0mstarmapstar\u001b[0m\u001b[0;34m,\u001b[0m \u001b[0mchunksize\u001b[0m\u001b[0;34m)\u001b[0m\u001b[0;34m.\u001b[0m\u001b[0mget\u001b[0m\u001b[0;34m(\u001b[0m\u001b[0;34m)\u001b[0m\u001b[0;34m\u001b[0m\u001b[0;34m\u001b[0m\u001b[0m\n\u001b[0m\u001b[1;32m    373\u001b[0m \u001b[0;34m\u001b[0m\u001b[0m\n\u001b[1;32m    374\u001b[0m     def starmap_async(self, func, iterable, chunksize=None, callback=None,\n",
      "\u001b[0;32m/usr/local/Cellar/python@3.9/3.9.9/Frameworks/Python.framework/Versions/3.9/lib/python3.9/multiprocessing/pool.py\u001b[0m in \u001b[0;36mget\u001b[0;34m(self, timeout)\u001b[0m\n\u001b[1;32m    769\u001b[0m             \u001b[0;32mreturn\u001b[0m \u001b[0mself\u001b[0m\u001b[0;34m.\u001b[0m\u001b[0m_value\u001b[0m\u001b[0;34m\u001b[0m\u001b[0;34m\u001b[0m\u001b[0m\n\u001b[1;32m    770\u001b[0m         \u001b[0;32melse\u001b[0m\u001b[0;34m:\u001b[0m\u001b[0;34m\u001b[0m\u001b[0;34m\u001b[0m\u001b[0m\n\u001b[0;32m--> 771\u001b[0;31m             \u001b[0;32mraise\u001b[0m \u001b[0mself\u001b[0m\u001b[0;34m.\u001b[0m\u001b[0m_value\u001b[0m\u001b[0;34m\u001b[0m\u001b[0;34m\u001b[0m\u001b[0m\n\u001b[0m\u001b[1;32m    772\u001b[0m \u001b[0;34m\u001b[0m\u001b[0m\n\u001b[1;32m    773\u001b[0m     \u001b[0;32mdef\u001b[0m \u001b[0m_set\u001b[0m\u001b[0;34m(\u001b[0m\u001b[0mself\u001b[0m\u001b[0;34m,\u001b[0m \u001b[0mi\u001b[0m\u001b[0;34m,\u001b[0m \u001b[0mobj\u001b[0m\u001b[0;34m)\u001b[0m\u001b[0;34m:\u001b[0m\u001b[0;34m\u001b[0m\u001b[0;34m\u001b[0m\u001b[0m\n",
      "\u001b[0;31mIndexError\u001b[0m: tuple index out of range"
     ]
    }
   ],
   "source": [
    "import glob\n",
    "from multiprocessing import Pool\n",
    "import pandas as pd\n",
    "from itertools import repeat\n",
    "from framework_symmetry import framework_symmetry\n",
    "\n",
    "    \n",
    "results = []\n",
    "initials = glob.glob('./find_cubic/sup*.cif')\n",
    "\n",
    "if __name__ == '__main__':\n",
    "    with Pool(processes=6) as pool:\n",
    "        results.append(pool.starmap(framework_symmetry, zip(initials, repeat('prim_inverse.cif')), chunksize=1))\n",
    "\n",
    "res = []\n",
    "\n",
    "for r in results[0]:\n",
    "    res.append(r)\n",
    "len(res)\n",
    "\n",
    "df_res = pd.DataFrame(res)\n",
    "df_res.head()\n",
    "df_res.to_csv('./find_cubic.csv', index=False)"
   ]
  },
  {
   "cell_type": "markdown",
   "id": "5f41a9d8-d40f-448f-8cbb-85524ded6b1a",
   "metadata": {},
   "source": [
    "# Analyse structures"
   ]
  },
  {
   "cell_type": "code",
   "execution_count": null,
   "id": "0526c4c4-9a29-41bf-a19d-e7d1416bd24d",
   "metadata": {},
   "outputs": [],
   "source": [
    "sorted(set([i for i in symmetries.values()]))"
   ]
  },
  {
   "cell_type": "code",
   "execution_count": null,
   "id": "5d642e16-7f6d-47dd-b6ff-ac0ce4b164b4",
   "metadata": {},
   "outputs": [],
   "source": [
    "C2 = []\n",
    "C2_m = []\n",
    "P1 = []\n",
    "\n",
    "for key,value in symmetries.items():\n",
    "    if value=='C2':\n",
    "        C2.append(key)\n",
    "    if value=='C2/m':\n",
    "        C2_m.append(key)\n",
    "    if value=='P1':\n",
    "        P1.append(key)"
   ]
  },
  {
   "cell_type": "code",
   "execution_count": null,
   "id": "d97a745b-eea0-4468-8808-b239663aea47",
   "metadata": {},
   "outputs": [],
   "source": [
    "print(f'C2: {len(C2)}')\n",
    "print(f'C2/m: {len(C2_m)}')\n",
    "print(f'P1: {len(P1)}')"
   ]
  },
  {
   "cell_type": "markdown",
   "id": "c059cc0a-b4c9-407d-a19b-195ad577e495",
   "metadata": {},
   "source": [
    "# Analyse parent structures"
   ]
  },
  {
   "cell_type": "code",
   "execution_count": null,
   "id": "c9eab440-f64a-4188-93e1-2f06d5293f11",
   "metadata": {
    "tags": []
   },
   "outputs": [],
   "source": [
    "fulls_C2 = []\n",
    "fulls_C2_m = []\n",
    "fulls_P1 = []\n",
    "\n",
    "for c in C2:\n",
    "    fulls_C2.append(f'./1k/Li17Sc5Cl32_{c}.cif')\n",
    "for cm in C2_m:\n",
    "    fulls_C2_m.append(f'./1k/Li17Sc5Cl32_{cm}.cif')\n",
    "for p in P1:\n",
    "    fulls_P1.append(f'./1k/Li17Sc5Cl32_{p}.cif')\n",
    "\n",
    "full_symmetries_C2 = {} \n",
    "full_symmetries_C2_m = {}\n",
    "full_symmetries_P1 = {}\n",
    "\n",
    "for full in fulls_C2:\n",
    "    fll = Structure.from_file(full)\n",
    "    \n",
    "    spg = SpacegroupAnalyzer(structure=fll, symprec=0.01, angle_tolerance=5.0)\n",
    "    group = spg.get_space_group_symbol()\n",
    "    \n",
    "    full_symmetries_C2[full[17:-9]] = group\n",
    "    \n",
    "for full in fulls_C2_m:\n",
    "    fll = Structure.from_file(full)\n",
    "    \n",
    "    spg = SpacegroupAnalyzer(structure=fll, symprec=0.01, angle_tolerance=5.0)\n",
    "    group = spg.get_space_group_symbol()\n",
    "    \n",
    "    full_symmetries_C2_m[full[17:-9]] = group\n",
    "\n",
    "for full in fulls_P1:\n",
    "    fll = Structure.from_file(full)\n",
    "    \n",
    "    spg = SpacegroupAnalyzer(structure=fll, symprec=0.01, angle_tolerance=5.0)\n",
    "    group = spg.get_space_group_symbol()\n",
    "    \n",
    "    full_symmetries_P1[full[17:-9]] = group"
   ]
  },
  {
   "cell_type": "code",
   "execution_count": null,
   "id": "1af590b3-32fe-4e7a-9611-a0f6dbed51e5",
   "metadata": {},
   "outputs": [],
   "source": [
    "C2_parents = sorted(set([i for i in full_symmetries_C2.values()]))\n",
    "C2_m_parents = sorted(set([i for i in full_symmetries_C2_m.values()]))\n",
    "P1_parents = sorted(set([i for i in full_symmetries_P1.values()]))\n",
    "\n",
    "print(f'C2 parents: {C2_parents}')\n",
    "print(f'C2/m parents: {C2_m_parents}')\n",
    "print(f'P1 parents: {P1_parents}')"
   ]
  },
  {
   "cell_type": "code",
   "execution_count": null,
   "id": "72a0b517-bf7b-449b-aa00-135c2f9b37c0",
   "metadata": {},
   "outputs": [],
   "source": [
    "C2_m_C2 = []\n",
    "C2_m_P1 = []\n",
    "\n",
    "for key,value in full_symmetries_C2_m.items():\n",
    "    if value=='Cm':\n",
    "        C2_m_C2.append(key)\n",
    "    if value=='P1':\n",
    "        C2_m_P1.append(key)"
   ]
  },
  {
   "cell_type": "code",
   "execution_count": null,
   "id": "43cf6327-bd01-4e6d-b7fc-68d933aed80a",
   "metadata": {},
   "outputs": [],
   "source": [
    "print(f'Cm: {len(C2_m_C2)}')\n",
    "print(f'P1: {len(C2_m_P1)}')"
   ]
  },
  {
   "cell_type": "code",
   "execution_count": null,
   "id": "38b9f923-9488-4450-a1ed-303fd228b388",
   "metadata": {},
   "outputs": [],
   "source": [
    "print(f\"File one __name__ is set to: {__name__}\" )"
   ]
  },
  {
   "cell_type": "code",
   "execution_count": null,
   "id": "1031f961-a60d-4cb7-b484-ced5658f3123",
   "metadata": {},
   "outputs": [],
   "source": []
  }
 ],
 "metadata": {
  "kernelspec": {
   "display_name": "Python 3 (ipykernel)",
   "language": "python",
   "name": "python3"
  },
  "language_info": {
   "codemirror_mode": {
    "name": "ipython",
    "version": 3
   },
   "file_extension": ".py",
   "mimetype": "text/x-python",
   "name": "python",
   "nbconvert_exporter": "python",
   "pygments_lexer": "ipython3",
   "version": "3.9.7"
  }
 },
 "nbformat": 4,
 "nbformat_minor": 5
}
