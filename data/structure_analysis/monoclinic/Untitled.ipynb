{
 "cells": [
  {
   "cell_type": "code",
   "execution_count": 1,
   "id": "e0bc989d-3525-432d-988d-7736e4296bd6",
   "metadata": {},
   "outputs": [
    {
     "name": "stderr",
     "output_type": "stream",
     "text": [
      "/Users/goldmann/opt/anaconda3/lib/python3.9/site-packages/pymatgen/core/__init__.py:49: UserWarning: Error loading .pmgrc.yaml: [Errno 2] No such file or directory: '/Users/goldmann/.pmgrc.yaml'. You may need to reconfigure your yaml file.\n",
      "  warnings.warn(f\"Error loading .pmgrc.yaml: {ex}. You may need to reconfigure your yaml file.\")\n"
     ]
    },
    {
     "data": {
      "text/plain": [
       "{'POSCAR_1.vasp': 'P2', 'POSCAR_0.vasp': 'P2'}"
      ]
     },
     "execution_count": 1,
     "metadata": {},
     "output_type": "execute_result"
    }
   ],
   "source": [
    "from pymatgen.core import Structure\n",
    "from pymatgen.symmetry.analyzer import SpacegroupAnalyzer\n",
    "import glob\n",
    "\n",
    "structure = glob.glob('POSCAR_*.vasp')\n",
    "\n",
    "groups = {}\n",
    "\n",
    "for s in structure:\n",
    "    strc = Structure.from_file(s)\n",
    "\n",
    "    spg = SpacegroupAnalyzer(structure=strc, symprec=0.01, angle_tolerance=5.0)\n",
    "    \n",
    "    groups[s] = spg.get_space_group_symbol()\n",
    "    \n",
    "groups"
   ]
  },
  {
   "cell_type": "code",
   "execution_count": null,
   "id": "f3464ff5-e34e-4380-adce-d23f6c21ce91",
   "metadata": {},
   "outputs": [],
   "source": []
  }
 ],
 "metadata": {
  "kernelspec": {
   "display_name": "Python 3 (ipykernel)",
   "language": "python",
   "name": "python3"
  },
  "language_info": {
   "codemirror_mode": {
    "name": "ipython",
    "version": 3
   },
   "file_extension": ".py",
   "mimetype": "text/x-python",
   "name": "python",
   "nbconvert_exporter": "python",
   "pygments_lexer": "ipython3",
   "version": "3.9.7"
  }
 },
 "nbformat": 4,
 "nbformat_minor": 5
}
