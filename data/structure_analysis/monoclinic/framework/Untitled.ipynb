{
 "cells": [
  {
   "cell_type": "code",
   "execution_count": 43,
   "id": "c2e9ac79-214f-4797-85cc-affb5634d903",
   "metadata": {},
   "outputs": [],
   "source": [
    "from pymatgen.analysis.structure_matcher import StructureMatcher\n",
    "from pymatgen.core import Structure"
   ]
  },
  {
   "cell_type": "code",
   "execution_count": 49,
   "id": "bd592106-0c0e-4f11-911d-ff88f01a513e",
   "metadata": {},
   "outputs": [],
   "source": [
    "s2a = Structure.from_file('2a/frameworks_i0_w1.cif')\n",
    "s2a4g_1 = Structure.from_file('2a4g/frameworks_i0_w4.cif')\n",
    "s2a4g_2 = Structure.from_file('2a4g/frameworks_i1_w4.cif')\n",
    "s4g_1 = Structure.from_file('4g/frameworks_i0_w2.cif')\n",
    "s4g_2 = Structure.from_file('4g/frameworks_i1_w2.cif')\n",
    "s4g_3 = Structure.from_file('4g/frameworks_i2_w2.cif')"
   ]
  },
  {
   "cell_type": "code",
   "execution_count": 50,
   "id": "cf15e8fe-54b6-464b-a276-e6b454c56483",
   "metadata": {},
   "outputs": [],
   "source": [
    "structures = [s2a, s2a4g_1, s2a4g_2, s4g_1, s4g_2, s4g_3]\n",
    "structure_names = ['s2a', 's2a4g_1', 's2a4g_2', 's4g_1', 's4g_2', 's4g_3']"
   ]
  },
  {
   "cell_type": "code",
   "execution_count": 51,
   "id": "a556b62b-0dac-4e57-b94c-3a9a10169e85",
   "metadata": {},
   "outputs": [
    {
     "name": "stdout",
     "output_type": "stream",
     "text": [
      "s2a is the same as s2a.\n",
      "s2a is the same as s4g_2.\n",
      "s2a4g_1 is the same as s2a4g_1.\n",
      "s2a4g_1 is the same as s4g_3.\n",
      "s2a4g_2 is the same as s2a4g_2.\n",
      "s2a4g_2 is the same as s4g_1.\n",
      "s4g_1 is the same as s2a4g_2.\n",
      "s4g_1 is the same as s4g_1.\n",
      "s4g_2 is the same as s2a.\n",
      "s4g_2 is the same as s4g_2.\n",
      "s4g_3 is the same as s2a4g_1.\n",
      "s4g_3 is the same as s4g_3.\n"
     ]
    }
   ],
   "source": [
    "matcher = StructureMatcher()\n",
    "\n",
    "for s1, n1 in zip(structures, structure_names):\n",
    "    for s2, n2 in zip(structures, structure_names):\n",
    "        if matcher.fit(s1, s2) == True:\n",
    "            print(f'{n1} is the same as {n2}.')"
   ]
  },
  {
   "cell_type": "code",
   "execution_count": null,
   "id": "4faf48e0-c3eb-45e6-b0fb-719d9b9884ad",
   "metadata": {},
   "outputs": [
    {
     "data": {
      "text/plain": [
       "pymatgen.core.structure.Structure"
      ]
     },
     "execution_count": 35,
     "metadata": {},
     "output_type": "execute_result"
    }
   ],
   "source": []
  }
 ],
 "metadata": {
  "kernelspec": {
   "display_name": "Python 3 (ipykernel)",
   "language": "python",
   "name": "python3"
  },
  "language_info": {
   "codemirror_mode": {
    "name": "ipython",
    "version": 3
   },
   "file_extension": ".py",
   "mimetype": "text/x-python",
   "name": "python",
   "nbconvert_exporter": "python",
   "pygments_lexer": "ipython3",
   "version": "3.9.7"
  }
 },
 "nbformat": 4,
 "nbformat_minor": 5
}
